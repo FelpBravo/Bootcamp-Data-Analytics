{
  "cells": [
    {
      "cell_type": "markdown",
      "metadata": {
        "id": "CLIATxKnBhp6"
      },
      "source": [
        "# Ejercicios de Programación Orientada a Objetos"
      ]
    },
    {
      "cell_type": "markdown",
      "metadata": {
        "id": "XQb5P8UiBhp9"
      },
      "source": [
        "**Nota:** Los ejercicios son graduales, es decir, en cada ejercicio se van implementando mejoras a una (o varias) clase(s)."
      ]
    },
    {
      "cell_type": "markdown",
      "metadata": {
        "id": "TB3N5AV3Bhp-"
      },
      "source": [
        "## Ejercicio 1"
      ]
    },
    {
      "cell_type": "markdown",
      "metadata": {
        "id": "U_IMx0GYBhp-"
      },
      "source": [
        "Crear una nueva clase llamada **NumeroComplejo**. Esta clase tiene un atributo **x** para la coordenada en x e **y** para la coordenada en y. Representar un número complejo de la forma (x, y)."
      ]
    },
    {
      "cell_type": "code",
      "execution_count": null,
      "metadata": {
        "colab": {
          "base_uri": "https://localhost:8080/"
        },
        "id": "sxWnqVA3Bhp_",
        "outputId": "523a2384-4f2c-4ddf-81df-fa81cef40e8e"
      },
      "outputs": [
        {
          "output_type": "stream",
          "name": "stdout",
          "text": [
            "Ingrese un numero para la variable x : 5\n",
            "Ingrese un numero para la variable y : 4\n",
            "Número complejo : (5,4)\n"
          ]
        }
      ],
      "source": [
        "class NumeroComplejo: \n",
        "  def __init__(self, x, y):\n",
        "    self.x = x\n",
        "    self.y = y\n",
        "\n",
        "nX = int(input(\"Ingrese un numero para la variable x : \"))\n",
        "nY = int(input(\"Ingrese un numero para la variable y : \"))\n",
        "\n",
        "numeroComplejo1 = NumeroComplejo(nX, nY)\n",
        "print(f'Número complejo : ({numeroComplejo1.x},{numeroComplejo1.y})')\n",
        "\n"
      ]
    },
    {
      "cell_type": "markdown",
      "metadata": {
        "id": "Ewzno_lgBhp_"
      },
      "source": [
        "## Ejercicio 2"
      ]
    },
    {
      "cell_type": "markdown",
      "metadata": {
        "id": "bMTViL6ABhp_"
      },
      "source": [
        "Definir para la clase **NumeroComplejo** un método que permita imprimir una instancia de la clase. Recordemos que al intentar imprimir un tipo definido por nosotros, se imprime la dirección de memoria"
      ]
    },
    {
      "cell_type": "code",
      "execution_count": null,
      "metadata": {
        "colab": {
          "base_uri": "https://localhost:8080/"
        },
        "id": "feM0ggFzBhqA",
        "outputId": "a18a1fd6-d2eb-4b94-b2b2-a66934edf808"
      },
      "outputs": [
        {
          "output_type": "stream",
          "name": "stdout",
          "text": [
            "Ingrese un numero para la variable x : 3\n",
            "Ingrese un numero para la variable y : 5\n",
            "Número complejo : (3,5)\n",
            "\n",
            "    Dirección de memoria de la variable x 94029815781952\n",
            "    Dirección de memoria de la variable y 94029815782016\n",
            "    \n"
          ]
        }
      ],
      "source": [
        "class NumeroComplejo: \n",
        "  def __init__(self, x, y):\n",
        "    self.__x = x\n",
        "    self.__y = y\n",
        "\n",
        "  @property\n",
        "  def x(self):\n",
        "    return self.__x\n",
        "\n",
        "  @x.setter\n",
        "  def x(self, x):\n",
        "    self.__x = x \n",
        "\n",
        "  @property\n",
        "  def y(self):\n",
        "    return self.__y\n",
        "\n",
        "  @x.setter\n",
        "  def y(self, y):\n",
        "    self.__y = y \n",
        "  \n",
        "  def memoria(self):\n",
        "    print(f'''\n",
        "    Dirección de memoria de la variable x {id(self.__x)}\n",
        "    Dirección de memoria de la variable y {id(self.__y)}\n",
        "    ''')\n",
        "\n",
        "  def imprimir(self):\n",
        "    print(f'Número complejo : ({self.__x},{self.__y})')\n",
        "    \n",
        "\n",
        "nX = int(input(\"Ingrese un numero para la variable x : \"))\n",
        "nY = int(input(\"Ingrese un numero para la variable y : \"))\n",
        "\n",
        "numeroComplejo1 = NumeroComplejo(nX, nY)\n",
        "\n",
        "numeroComplejo1.imprimir()\n",
        "numeroComplejo1.memoria()"
      ]
    },
    {
      "cell_type": "markdown",
      "metadata": {
        "id": "p0duOjhWBhqA"
      },
      "source": [
        "## Ejercicio 3"
      ]
    },
    {
      "cell_type": "markdown",
      "metadata": {
        "id": "KQSmBDltBhqB"
      },
      "source": [
        "Definir la función **__str__** para la clase **NumeroComplejo** para poder imprimir usando la función print."
      ]
    },
    {
      "cell_type": "code",
      "execution_count": 36,
      "metadata": {
        "id": "IprLBraABhqB",
        "colab": {
          "base_uri": "https://localhost:8080/"
        },
        "outputId": "e6f61d8a-1c7e-47e7-877a-427a985f185d"
      },
      "outputs": [
        {
          "output_type": "stream",
          "name": "stdout",
          "text": [
            "Ingrese un numero para la variable x : 2\n",
            "Ingrese un numero para la variable y : 4\n",
            "Número complejo : (2,4)\n"
          ]
        }
      ],
      "source": [
        "class NumeroComplejo: \n",
        "  def __init__(self, x, y):\n",
        "    self.__x = x\n",
        "    self.__y = y\n",
        "\n",
        "  @property\n",
        "  def x(self):\n",
        "    return self.__x\n",
        "\n",
        "  @x.setter\n",
        "  def x(self, x):\n",
        "    self.__x = x \n",
        "\n",
        "  @property\n",
        "  def y(self):\n",
        "    return self.__y\n",
        "\n",
        "  @x.setter\n",
        "  def y(self, y):\n",
        "    self.__y = y \n",
        "  \n",
        "  def __str__(self):\n",
        "    return 'Número complejo : (' + str(self.__x) + ',' + str(self.__y) + ')'\n",
        "\n",
        "nX = int(input(\"Ingrese un numero para la variable x : \"))\n",
        "nY = int(input(\"Ingrese un numero para la variable y : \"))\n",
        "\n",
        "numeroComplejo1 = NumeroComplejo(nX, nY)\n",
        "print(numeroComplejo1.__str__())"
      ]
    },
    {
      "cell_type": "markdown",
      "metadata": {
        "id": "18fMQsteBhqB"
      },
      "source": [
        "## Ejercicio 4"
      ]
    },
    {
      "cell_type": "markdown",
      "metadata": {
        "id": "ZZDnj5BrBhqB"
      },
      "source": [
        "Definir una función que compara dos números complejos, ya que si dos objetos distintos tienen sus atributos iguales, no se consideran iguales.\n"
      ]
    },
    {
      "cell_type": "code",
      "execution_count": 38,
      "metadata": {
        "colab": {
          "base_uri": "https://localhost:8080/"
        },
        "id": "ghmIjlQoBhqC",
        "outputId": "0ef34e4d-b187-4122-a199-2131bdaf9d72"
      },
      "outputs": [
        {
          "output_type": "stream",
          "name": "stdout",
          "text": [
            "False\n",
            "True\n"
          ]
        }
      ],
      "source": [
        "class NumeroComplejo: \n",
        "  def __init__(self, _x, _y):\n",
        "    self.x = _x\n",
        "    self.y = _y\n",
        "\n",
        "  def imprimir(self):\n",
        "    print(\"El valor de x es : \" + str(self.x))\n",
        "    print(\"El valor de y es : \" + str(self.y))\n",
        "\n",
        "  def comparar(self, c2):\n",
        "    if self.x == c2.x and self.y == c2.y:\n",
        "      return True\n",
        "    return False\n",
        "  \n",
        "  def __str__(self):\n",
        "    return 'Número complejo : (' + str(self.__x) + ',' + str(self.__y) + ')'\n",
        "\n",
        "numeroComplejo1 = NumeroComplejo(4, 5)\n",
        "numeroComplejo2 = NumeroComplejo(4, 5)\n",
        "\n",
        "print(numeroComplejo1 == numeroComplejo2)\n",
        "print(numeroComplejo1.comparar(numeroComplejo2))"
      ]
    },
    {
      "cell_type": "markdown",
      "metadata": {
        "id": "KTKpV0OyBhqC"
      },
      "source": [
        "## Ejercicio 5"
      ]
    },
    {
      "cell_type": "markdown",
      "metadata": {
        "id": "juhbgMMjBhqC"
      },
      "source": [
        "Implementar un método que sume dos numeros complejos sin modificiar los objetos originales, ya que se retorna un nuevo numero NumeroComplejo."
      ]
    },
    {
      "cell_type": "code",
      "execution_count": 44,
      "metadata": {
        "colab": {
          "base_uri": "https://localhost:8080/"
        },
        "id": "K31cdqJmBhqC",
        "outputId": "76048300-15f7-4fc0-df23-3c1356a0c1ad"
      },
      "outputs": [
        {
          "output_type": "stream",
          "name": "stdout",
          "text": [
            "Ingrese un numero para la variable x : 4\n",
            "Ingrese un numero para la variable y : 98\n",
            "(8,102)\n"
          ]
        }
      ],
      "source": [
        "class NumeroComplejo: \n",
        "  def __init__(self, x = 3, y = 6):\n",
        "    self.__x = x\n",
        "    self.__y = y\n",
        "  \n",
        "  @property\n",
        "  def x(self):\n",
        "    return self.__x\n",
        "\n",
        "  @x.setter\n",
        "  def x(self, x):\n",
        "    self.__x = x \n",
        "\n",
        "  @property\n",
        "  def y(self):\n",
        "    return self.__y\n",
        "\n",
        "  @x.setter\n",
        "  def y(self, y):\n",
        "    self.__y = y \n",
        "  \n",
        "  def add(self, value):\n",
        "    a = self.__x + value.x        \n",
        "    b = self.__y + value.y\n",
        "    return NumeroComplejo(a,b)   \n",
        "\n",
        "  def __str__(self):\n",
        "    return '(' + str(self.__x) + ',' + str(self.__y) + ')'   \n",
        "\n",
        "\n",
        "nX = int(input(\"Ingrese un numero para la variable x : \"))\n",
        "nY = int(input(\"Ingrese un numero para la variable y : \"))\n",
        "\n",
        "numeroComplejo1 = NumeroComplejo(nX, nY)\n",
        "numeroComplejo2 = NumeroComplejo(nX, nY)\n",
        "sumaTotal = numeroComplejo1.add(numeroComplejo2)\n",
        "\n",
        "print(sumaTotal)\n"
      ]
    },
    {
      "cell_type": "markdown",
      "metadata": {
        "id": "3NQF8ycnBhqC"
      },
      "source": [
        "Ahora, vamos a implementar un objeto **Bus**, que lleva a un grupo de pasajeros y además tiene un chofer. Los pasajeros y el chofer son todos personas, por lo que primero crearemos una clase **Persona** para representarlos."
      ]
    },
    {
      "cell_type": "markdown",
      "metadata": {
        "id": "7ByRkhO4BhqD"
      },
      "source": [
        "## Ejercicio 6"
      ]
    },
    {
      "cell_type": "markdown",
      "metadata": {
        "id": "2XhIKhDHBhqD"
      },
      "source": [
        "Crea una clase **Persona**. Sus atributos deben ser su nombre y su edad. Además crea un método cumpleaños, que aumente en 1 la edad de la persona."
      ]
    },
    {
      "cell_type": "code",
      "execution_count": 51,
      "metadata": {
        "id": "0TcoedEtBhqD",
        "colab": {
          "base_uri": "https://localhost:8080/",
          "height": 54
        },
        "outputId": "20586d7e-3c19-4510-aeeb-bf206871cfb4"
      },
      "outputs": [
        {
          "output_type": "stream",
          "name": "stdout",
          "text": [
            "Nombre:Felipe, Edad:27\n"
          ]
        },
        {
          "output_type": "execute_result",
          "data": {
            "text/plain": [
              "'Nombre:Felipe, Edad:28'"
            ],
            "application/vnd.google.colaboratory.intrinsic+json": {
              "type": "string"
            }
          },
          "metadata": {},
          "execution_count": 51
        }
      ],
      "source": [
        "class Persona: \n",
        "  def __init__(self, nombre , edad):\n",
        "    self.__nombre = nombre\n",
        "    self.__edad = edad\n",
        "  \n",
        "  @property\n",
        "  def nombre(self):\n",
        "    return self.__nombre\n",
        "\n",
        "  @nombre.setter\n",
        "  def nombre(self, nombre):\n",
        "    self.__nombre = nombre \n",
        "\n",
        "  @property\n",
        "  def edad(self):\n",
        "    return self.__edad\n",
        "\n",
        "  @edad.setter\n",
        "  def edad(self, edad):\n",
        "    self.__edad = edad \n",
        "  \n",
        "  def sumar_cumple(self):\n",
        "    self.__edad+=1\n",
        "\n",
        "  def __str__(self):\n",
        "    return 'Nombre:' + str(self.__nombre) + ', Edad:' + str(self.__edad)   \n",
        "\n",
        "persona1 = Persona(\"Felipe\", 27)\n",
        "print(persona1)\n",
        "\n",
        "persona1.sumar_cumple()\n",
        "persona1.__str__()\n"
      ]
    },
    {
      "cell_type": "markdown",
      "metadata": {
        "id": "_1RsTx2oBhqD"
      },
      "source": [
        "## Ejercicio 7"
      ]
    },
    {
      "cell_type": "markdown",
      "metadata": {
        "id": "rBr-bH8zBhqD"
      },
      "source": [
        "Para la clase anterior definir el método __str__. Debe retornar al menos el nombre de la persona."
      ]
    },
    {
      "cell_type": "code",
      "execution_count": 52,
      "metadata": {
        "id": "cEs-90GLBhqE",
        "colab": {
          "base_uri": "https://localhost:8080/",
          "height": 35
        },
        "outputId": "d7ddc9bf-b066-43e8-cab2-d6b7aca33ca7"
      },
      "outputs": [
        {
          "output_type": "execute_result",
          "data": {
            "text/plain": [
              "'Nombre:Felipe, Edad:27'"
            ],
            "application/vnd.google.colaboratory.intrinsic+json": {
              "type": "string"
            }
          },
          "metadata": {},
          "execution_count": 52
        }
      ],
      "source": [
        "class Persona: \n",
        "  def __init__(self, nombre , edad):\n",
        "    self.__nombre = nombre\n",
        "    self.__edad = edad\n",
        "  \n",
        "  @property\n",
        "  def nombre(self):\n",
        "    return self.__nombre\n",
        "\n",
        "  @nombre.setter\n",
        "  def nombre(self, nombre):\n",
        "    self.__nombre = nombre \n",
        "\n",
        "  @property\n",
        "  def edad(self):\n",
        "    return self.__edad\n",
        "\n",
        "  @edad.setter\n",
        "  def edad(self, edad):\n",
        "    self.__edad = edad \n",
        "\n",
        "  def __str__(self):\n",
        "    return 'Nombre:' + str(self.__nombre) + ', Edad:' + str(self.__edad)   \n",
        "\n",
        "persona1 = Persona(\"Felipe\", 27)\n",
        "persona1.__str__()\n"
      ]
    },
    {
      "cell_type": "markdown",
      "metadata": {
        "id": "lQxM9TQCBhqE"
      },
      "source": [
        "## Ejercicio 8"
      ]
    },
    {
      "cell_type": "markdown",
      "metadata": {
        "id": "ch-LpVbOBhqE"
      },
      "source": [
        "Extender la aplicación anterior con una clase **Bus**. Como atributo tiene un arreglo de pasajeros (inicialmente vacío), una capacidad (se ingresa en el constructor) y un chofer. Debes implementar el método ingresar_chofer(self, persona), que recibe una persona y queda como chofer del Bus si es mayor de 18 años. Cabe destacar que el chofer no se ingresa en el constructor."
      ]
    },
    {
      "cell_type": "code",
      "execution_count": 62,
      "metadata": {
        "id": "vnXd0f4rBhqE",
        "colab": {
          "base_uri": "https://localhost:8080/"
        },
        "outputId": "537ae02a-dbfc-4228-e03e-3c8bbe9bcac6"
      },
      "outputs": [
        {
          "output_type": "stream",
          "name": "stdout",
          "text": [
            "Felipe no puede ser chofer\n",
            "Persona: Enrrique\n"
          ]
        }
      ],
      "source": [
        "class Persona: \n",
        "  def __init__(self, nombre , edad):\n",
        "    self.nombre = nombre\n",
        "    self.edad = edad\n",
        "\n",
        "  def __str__(self):\n",
        "    return \"Persona: \" + self.nombre\n",
        "\n",
        "class Bus:\n",
        "  def __init__(self, capacidad):\n",
        "    self.asientos = []\n",
        "    self.capacidad = capacidad\n",
        "    self.chofer = None\n",
        "\n",
        "  def ingresar_chofer(self, persona):\n",
        "    if persona.edad >= 18:\n",
        "      self.chofer = persona\n",
        "    else:\n",
        "      print(persona.nombre + \" no puede ser chofer\")\n",
        "\n",
        "persona1 = Persona(\"Felipe\", 10)\n",
        "persona2 = Persona(\"Enrrique\", 22)\n",
        "\n",
        "bus = Bus(10)\n",
        "bus.ingresar_chofer(persona1)\n",
        "bus.ingresar_chofer(persona2)\n",
        "print(bus.chofer)"
      ]
    },
    {
      "cell_type": "markdown",
      "metadata": {
        "id": "Xl-UeS3zBhqE"
      },
      "source": [
        "## Ejercicio 9"
      ]
    },
    {
      "cell_type": "markdown",
      "metadata": {
        "id": "6sPHZo1aBhqE"
      },
      "source": [
        "Extender la clase **Bus** con el método **subir_pasajero(self, persona)**. Este método sube a la persona al bus (i.e. La agrega al arreglo de asientos) siempre que el número de pasajeros en el Bus sea menor que la capcidad total."
      ]
    },
    {
      "cell_type": "code",
      "execution_count": 71,
      "metadata": {
        "id": "1QGYIoxTBhqE",
        "colab": {
          "base_uri": "https://localhost:8080/"
        },
        "outputId": "9f40b3c9-20ac-4fee-88d6-52e867ba8f35"
      },
      "outputs": [
        {
          "output_type": "stream",
          "name": "stdout",
          "text": [
            "No hay mas asientos en el bus, capacidad maxima 3 no puede subir Juan\n",
            "Persona: Felipe\n",
            "Persona: Enrrique\n",
            "Persona: Marco\n"
          ]
        }
      ],
      "source": [
        "class Persona: \n",
        "  def __init__(self, nombre , edad):\n",
        "    self.nombre = nombre\n",
        "    self.edad = edad\n",
        "\n",
        "  def __str__(self):\n",
        "    return \"Persona: \" + self.nombre\n",
        "\n",
        "class Bus:\n",
        "  def __init__(self, capacidad):\n",
        "    self.asientos = []\n",
        "    self.capacidad = capacidad\n",
        "    self.chofer = None\n",
        "\n",
        "  def subir(self, persona):\n",
        "    if self.capacidad > len(self.asientos):\n",
        "      self.asientos.append(persona)\n",
        "    else:\n",
        "      print(\"No hay mas asientos en el bus, capacidad maxima \" + str(self.capacidad) + \" no puede subir \" + str(persona.nombre))\n",
        "\n",
        "persona1 = Persona(\"Felipe\", 10)\n",
        "persona2 = Persona(\"Enrrique\", 22)\n",
        "persona3 = Persona(\"Marco\", 22)\n",
        "persona4 = Persona(\"Juan\", 22)\n",
        "\n",
        "bus = Bus(3)\n",
        "bus.subir(persona1)\n",
        "bus.subir(persona2)\n",
        "bus.subir(persona3)\n",
        "bus.subir(persona4)\n",
        "\n",
        "for pasajero in bus.asientos:\n",
        "    print(pasajero)"
      ]
    }
  ],
  "metadata": {
    "kernelspec": {
      "display_name": "Python 3",
      "language": "python",
      "name": "python3"
    },
    "language_info": {
      "codemirror_mode": {
        "name": "ipython",
        "version": 3
      },
      "file_extension": ".py",
      "mimetype": "text/x-python",
      "name": "python",
      "nbconvert_exporter": "python",
      "pygments_lexer": "ipython3",
      "version": "3.6.9"
    },
    "colab": {
      "name": "Ejercitación 3.1 - POO.ipynb",
      "provenance": []
    }
  },
  "nbformat": 4,
  "nbformat_minor": 0
}