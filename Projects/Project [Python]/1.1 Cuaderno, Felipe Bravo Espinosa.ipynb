{
  "cells": [
    {
      "cell_type": "markdown",
      "metadata": {
        "id": "0zT9lHi4-unn"
      },
      "source": [
        "# Ejercicios de Tipos de Datos Simples"
      ]
    },
    {
      "cell_type": "markdown",
      "metadata": {
        "id": "DkplRzmO-unq"
      },
      "source": [
        "## Ejercicio 1"
      ]
    },
    {
      "cell_type": "markdown",
      "metadata": {
        "id": "SdBXymmh-unq"
      },
      "source": [
        "Escribir un programa que muestre por pantalla la cadena <font color=#B40431>¡Hola Mundo!</font>"
      ]
    },
    {
      "cell_type": "code",
      "execution_count": null,
      "metadata": {
        "colab": {
          "base_uri": "https://localhost:8080/"
        },
        "id": "oGmZoy6o-unr",
        "outputId": "5f58783e-d2ee-4a3f-ade9-e8a88c04a316"
      },
      "outputs": [
        {
          "output_type": "stream",
          "name": "stdout",
          "text": [
            "¡Hola Mundo!\n"
          ]
        }
      ],
      "source": [
        "print('¡Hola Mundo!')"
      ]
    },
    {
      "cell_type": "markdown",
      "metadata": {
        "id": "gayD6HSJ-uns"
      },
      "source": [
        "## Ejercicio 2"
      ]
    },
    {
      "cell_type": "markdown",
      "metadata": {
        "id": "WSQj2gW7-uns"
      },
      "source": [
        "Escribir un programa que almacene la cadena <font color=#B40431>¡Hola Mundo!</font> en una variable y luego muestre por pantalla el contenido de la variable."
      ]
    },
    {
      "cell_type": "code",
      "execution_count": null,
      "metadata": {
        "colab": {
          "base_uri": "https://localhost:8080/"
        },
        "id": "Ud8UC-82-uns",
        "outputId": "afa76eea-b5b7-456b-dcbd-f950558908d0"
      },
      "outputs": [
        {
          "output_type": "stream",
          "name": "stdout",
          "text": [
            "¡Hola Mundo!\n"
          ]
        }
      ],
      "source": [
        "variable = \"¡Hola Mundo!\"\n",
        "print(variable)"
      ]
    },
    {
      "cell_type": "markdown",
      "metadata": {
        "id": "OwARyaNh-unt"
      },
      "source": [
        "## Ejercicio 3"
      ]
    },
    {
      "cell_type": "markdown",
      "metadata": {
        "id": "pwlA2eYK-unt"
      },
      "source": [
        "Escribir un programa que pregunte el nombre del usuario en la consola y después de que el usuario lo introduzca muestre por pantalla la cadena <font color=#B40431>¡Hola &#60;nombre&#62;!</font>, donde <font color=#B40431>&#60;nombre&#62;</font> es el nombre que el usuario haya introducido."
      ]
    },
    {
      "cell_type": "code",
      "execution_count": 3,
      "metadata": {
        "colab": {
          "base_uri": "https://localhost:8080/"
        },
        "id": "obaxKTDX-unu",
        "outputId": "a6953690-5f9c-4d6f-d5be-a33b9ba24b0d"
      },
      "outputs": [
        {
          "output_type": "stream",
          "name": "stdout",
          "text": [
            "Ingrese su nombre: Felipee\n",
            "¡Hola Felipee!\n"
          ]
        }
      ],
      "source": [
        "def saludo(value):\n",
        "  print(f'¡Hola {value}!')\n",
        "\n",
        "nombre = input('Ingrese su nombre: ')\n",
        "saludo(nombre)"
      ]
    },
    {
      "cell_type": "markdown",
      "metadata": {
        "id": "mFyq28m2-unu"
      },
      "source": [
        "## Ejercicio 4"
      ]
    },
    {
      "cell_type": "markdown",
      "metadata": {
        "id": "8iGzGc5h-unu"
      },
      "source": [
        "Escribir un programa que pregunte el nombre del usuario en la consola y un número entero e imprima por pantalla en líneas distintas el nombre del usuario tantas veces como el número introducido."
      ]
    },
    {
      "cell_type": "code",
      "execution_count": null,
      "metadata": {
        "colab": {
          "base_uri": "https://localhost:8080/"
        },
        "id": "kBfLlUAY-unv",
        "outputId": "491c86fd-2738-4773-fc08-eb454bcf8425"
      },
      "outputs": [
        {
          "output_type": "stream",
          "name": "stdout",
          "text": [
            "Ingrese su nombre: Felipe\n",
            "Ingrese una cantidad de repeticiones: 6\n",
            "¡Hola Felipe!\n",
            "¡Hola Felipe!\n",
            "¡Hola Felipe!\n",
            "¡Hola Felipe!\n",
            "¡Hola Felipe!\n",
            "¡Hola Felipe!\n"
          ]
        }
      ],
      "source": [
        "nombre = input('Ingrese su nombre: ')\n",
        "cantidad = int(input('Ingrese una cantidad de repeticiones: '))\n",
        "c=0\n",
        "while c < cantidad:\n",
        "  print(f'¡Hola {nombre}!')\n",
        "  c+=1"
      ]
    },
    {
      "cell_type": "markdown",
      "metadata": {
        "id": "fBegr9QI-unv"
      },
      "source": [
        "## Ejercicio 5"
      ]
    },
    {
      "cell_type": "markdown",
      "metadata": {
        "id": "c4RfT444-unv"
      },
      "source": [
        "Escribir un programa que pregunte el nombre del usuario en la consola y después de que el usuario lo introduzca muestre por pantalla <font color=#B40431>&#60;NOMBRE&#62; tiene &#60;n&#62; letras</font>, donde <font color=#B40431>&#60;NOMBRE&#62;</font> es el nombre de usuario en mayúsculas y <font color=#B40431>&#60;n&#62;</font> es el número de letras que tienen el nombre."
      ]
    },
    {
      "cell_type": "code",
      "execution_count": null,
      "metadata": {
        "colab": {
          "base_uri": "https://localhost:8080/"
        },
        "id": "7O9HelXp-unv",
        "outputId": "3d3074b2-52b4-48bc-ec02-9455964f793a"
      },
      "outputs": [
        {
          "output_type": "stream",
          "name": "stdout",
          "text": [
            "Ingrese su nombre: Felipe\n",
            "FELIPE tiene 6 letras\n"
          ]
        }
      ],
      "source": [
        "nombre = input('Ingrese su nombre: ')\n",
        "n = len(nombre)\n",
        "\n",
        "print(f'{nombre.upper()} tiene {n} letras')\n"
      ]
    },
    {
      "cell_type": "markdown",
      "metadata": {
        "id": "drHQ49Zd-unw"
      },
      "source": [
        "## Ejercicio 6"
      ]
    },
    {
      "cell_type": "markdown",
      "metadata": {
        "id": "3kBp0mXY-unw"
      },
      "source": [
        "Escribir un programa que realice la siguiente operación aritmética $\\left(\\frac{3+2}{2\\cdot 5}\\right)^2$"
      ]
    },
    {
      "cell_type": "code",
      "execution_count": null,
      "metadata": {
        "colab": {
          "base_uri": "https://localhost:8080/"
        },
        "id": "rkLSFZ2--unw",
        "outputId": "85c0daf8-f58a-4a69-a497-9f06c0804810"
      },
      "outputs": [
        {
          "output_type": "stream",
          "name": "stdout",
          "text": [
            "64.0\n"
          ]
        }
      ],
      "source": [
        "def aritmetica(x = 3, y = 2, a = 5):\n",
        "  return float((x + y / y * 5)**2)\n",
        "print(aritmetica())"
      ]
    },
    {
      "cell_type": "markdown",
      "metadata": {
        "id": "-szEmSlg-unw"
      },
      "source": [
        "## Ejercicio 7"
      ]
    },
    {
      "cell_type": "markdown",
      "metadata": {
        "id": "W7QLoOEl-unw"
      },
      "source": [
        "Escribir un programa que pregunte al usuario por el número de horas trabajadas y el costo por hora. Después debe mostrar por pantalla el sueldo que le corresponde."
      ]
    },
    {
      "cell_type": "code",
      "execution_count": 4,
      "metadata": {
        "colab": {
          "base_uri": "https://localhost:8080/"
        },
        "id": "I-AS7wKN-unx",
        "outputId": "0033819f-cdf5-42d9-f512-15e982ca1fce"
      },
      "outputs": [
        {
          "output_type": "stream",
          "name": "stdout",
          "text": [
            "Ingrese cantidad de horas trabajadas: 2\n",
            "Ingrese el costo por horas: 2000\n",
            "Suelto estimado para el usuario : $4000\n"
          ]
        }
      ],
      "source": [
        "def costo_x_hora(costo_hora, horas):\n",
        "  return costo_hora * horas\n",
        "\n",
        "horas = int(input(\"Ingrese cantidad de horas trabajadas: \"))\n",
        "costo_hora = float(input(\"Ingrese el costo por horas: \"))\n",
        "\n",
        "print(f'Suelto estimado para el usuario : ${int(costo_x_hora(costo_hora, horas))}')"
      ]
    },
    {
      "cell_type": "markdown",
      "metadata": {
        "id": "CEHIWUxx-unx"
      },
      "source": [
        "## Ejercicio 8"
      ]
    },
    {
      "cell_type": "markdown",
      "metadata": {
        "id": "MOrvZbQ9-unx"
      },
      "source": [
        "Escribir un programa que lea un entero positivo, $n$, introducido por el usuario y después muestre en pantalla la suma de todos los enteros desde 1 hasta $n$. La suma de los $n$ primeros enteros positivos puede ser calculada de la siguiente forma: $ \\mbox{suma} = \\frac{n(n+1)}{2} $"
      ]
    },
    {
      "cell_type": "code",
      "execution_count": null,
      "metadata": {
        "colab": {
          "base_uri": "https://localhost:8080/"
        },
        "id": "Ag3pkpn_-unx",
        "outputId": "b8af1002-8dba-4c36-e55b-d6fefa197bc7"
      },
      "outputs": [
        {
          "output_type": "stream",
          "name": "stdout",
          "text": [
            "Ingrese el entero: 4\n",
            "La suma de los primeros 4 numero enteros es de 10\n"
          ]
        }
      ],
      "source": [
        "def valor_entero(n):\n",
        "  return int(n * (n + 1) / 2)\n",
        "\n",
        "\n",
        "n = int(input(\"Ingrese el entero: \"))\n",
        "print(f'La suma de los primeros {n} numero enteros es de {valor_entero(n)}')\n"
      ]
    },
    {
      "cell_type": "markdown",
      "metadata": {
        "id": "B8HSIEW5-unx"
      },
      "source": [
        "## Ejercicio 9"
      ]
    },
    {
      "cell_type": "markdown",
      "metadata": {
        "id": "YYDqDl5z-unx"
      },
      "source": [
        "Escribir un programa que pida al usuario su peso (en kg) y estatura (en metros), calcule el índice de masa corporal y lo almacene en una variable, y muestre por pantalla la frase <font color=#B40431>\"Tu índice de masa corporal es\"&#60;imc&#62;</font> donde <font color=#B40431>&#60;imc&#62;</font> es el índice de masa corporal calculado redondeado con dos decimales."
      ]
    },
    {
      "cell_type": "code",
      "execution_count": null,
      "metadata": {
        "scrolled": true,
        "colab": {
          "base_uri": "https://localhost:8080/"
        },
        "id": "KY2ZMug3-uny",
        "outputId": "fbd2ece3-873d-43f5-c592-e8d4c28a5ab4"
      },
      "outputs": [
        {
          "output_type": "stream",
          "name": "stdout",
          "text": [
            "Ingrese su peso: 71\n",
            "Ingrese su estatura: 1.63\n",
            "Tu índice de masa corporal es 26.72\n"
          ]
        }
      ],
      "source": [
        "\n",
        "peso = float(input(\"Ingrese su peso: \"))\n",
        "estatura = float(input(\"Ingrese su estatura: \"))\n",
        "\n",
        "imc= round(peso/estatura**2, 2)\n",
        "\n",
        "print(f'Tu índice de masa corporal es {imc}')"
      ]
    },
    {
      "cell_type": "markdown",
      "metadata": {
        "id": "gAYzXEbB-uny"
      },
      "source": [
        "## Ejercicio 10"
      ]
    },
    {
      "cell_type": "markdown",
      "metadata": {
        "id": "Clla5opA-uny"
      },
      "source": [
        "Escribir un programa que pida al usuario dos números enteros y muestre por pantalla la <font color=#B40431>&#60;n&#62;</font> entre <font color=#B40431>&#60;m&#62;</font> da un cociente <font color=#B40431>&#60;c&#62;</font> y un resto <font color=#B40431>&#60;r&#62;</font> donde <font color=#B40431>&#60;n&#62;</font> y <font color=#B40431>&#60;m&#62;</font> son los números introducidos por el usuario, y <font color=#B40431>&#60;c&#62;</font> y <font color=#B40431>&#60;r&#62;</font> son el cociente y el resto de la división entera respectivamente."
      ]
    },
    {
      "cell_type": "code",
      "execution_count": null,
      "metadata": {
        "colab": {
          "base_uri": "https://localhost:8080/"
        },
        "id": "BXY-AQrP-uny",
        "outputId": "0e5b4388-1fed-4674-a70e-3c088f311d78"
      },
      "outputs": [
        {
          "output_type": "stream",
          "name": "stdout",
          "text": [
            "Ingrese el numero 1: 1\n",
            "Ingrese el numero 1: 2\n",
            "1 entre  2  resulta cociente  0 y un resto 1\n"
          ]
        }
      ],
      "source": [
        "n = int(input(\"Ingrese el numero 1: \"))\n",
        "m = int(input(\"Ingrese el numero 2: \"))\n",
        "print(f'{n} entre {m} resulta como cociente {str(int(n) // int(m))} y un resto de {str(int(n) % int(m))}')\n"
      ]
    },
    {
      "cell_type": "markdown",
      "metadata": {
        "id": "dk5cZjpj-uny"
      },
      "source": [
        "## Ejercicio 11"
      ]
    },
    {
      "cell_type": "markdown",
      "metadata": {
        "id": "jn11jlTp-uny"
      },
      "source": [
        "Escribir un programa que pregunte al usuario una cantidad a invertir, el interés anual y el número de años, y muestre por pantalla el capital obtenido en la inversión."
      ]
    },
    {
      "cell_type": "code",
      "execution_count": null,
      "metadata": {
        "colab": {
          "base_uri": "https://localhost:8080/"
        },
        "id": "YNikO7tj-unz",
        "outputId": "49826ec5-7b87-402b-86dd-4532c68a9fbd"
      },
      "outputs": [
        {
          "output_type": "stream",
          "name": "stdout",
          "text": [
            "Cantidad a invertir: 3\n",
            "Interes anual: 2\n",
            "Numero de años: 4\n",
            "Capital obtenido en la inversión : 3.25\n"
          ]
        }
      ],
      "source": [
        "inversion = int(input(\"Cantidad a invertir: \"))\n",
        "interes_anual = int(input(\"Interes anual: \"))\n",
        "numero_ano = int(input(\"Numero de años: \"))\n",
        "\n",
        "print(f'Capital obtenido en la inversión : {round(inversion * (interes_anual / 100 + 1) ** numero_ano, 2)}')\n"
      ]
    },
    {
      "cell_type": "markdown",
      "metadata": {
        "id": "NcdTJT-F-unz"
      },
      "source": [
        "## Ejercicio 12"
      ]
    },
    {
      "cell_type": "markdown",
      "metadata": {
        "id": "5xrD4Yzc-unz"
      },
      "source": [
        "Una juguetería tiene mucho éxito en dos de sus productos: payasos y muñecas. Suele hacer venta por correo y la empresa de logística les cobra por peso de cada paquete así que deben calcular el peso de los payasos y muñecas que saldrán en cada paquete a demanda. Cada payaso pesa 112 g y cada muñeca 75 g. Escribir un programa que lea el número de payasos y muñecas vendidos en el último pedido y calcule el peso total del paquete que será enviado."
      ]
    },
    {
      "cell_type": "code",
      "execution_count": 6,
      "metadata": {
        "colab": {
          "base_uri": "https://localhost:8080/"
        },
        "id": "YnqTkdjR-unz",
        "outputId": "734eb1d8-be28-4e17-dc4e-47ea097eb189"
      },
      "outputs": [
        {
          "output_type": "stream",
          "name": "stdout",
          "text": [
            "##### juguetería #####\n",
            "Cantidad de payasos (g): 200\n",
            "Cantidad de muñecas (g): 23\n",
            "El peso total de paquete es de : 24125.0g\n"
          ]
        }
      ],
      "source": [
        "def calcular(cantidad_payasos, cantidad_munecas, peso_payasos = 112, peso_munecas = 75):\n",
        "  tot_payasos = cantidad_payasos*112\n",
        "  tot_munecas = cantidad_munecas*75\n",
        "  peso_total = tot_payasos + tot_munecas\n",
        "  return print(f'El peso total de paquete es de : {peso_total}g')\n",
        "\n",
        "print(\"##### juguetería #####\")\n",
        "payasos = float(input(\"Cantidad de payasos (g): \"))\n",
        "munecas = float(input(\"Cantidad de muñecas (g): \"))\n",
        "calcular(payasos, munecas)"
      ]
    },
    {
      "cell_type": "markdown",
      "metadata": {
        "id": "0LQenvbg-unz"
      },
      "source": [
        "## Ejercicio 13"
      ]
    },
    {
      "cell_type": "markdown",
      "metadata": {
        "id": "bS-raEWb-unz"
      },
      "source": [
        "Imagina que acabas de abrir una nueva cuenta de ahorros que te ofrece el 20 &#37; de interés al año. Estos ahorros debido a intereses, que no se cobran hasta finales de año, se te añaden al balance final de tu cuenta de ahorros. Escribir un programa que comience leyendo la cantidad de dinero depositada en la cuenta de ahorros, introducida por el usuario. Después el programa debe calcular y mostrar por pantalla la cantidad de ahorros tras el primer, segundo y tercer años. Redondear cada cantidad a dos decimales."
      ]
    },
    {
      "cell_type": "code",
      "execution_count": null,
      "metadata": {
        "colab": {
          "base_uri": "https://localhost:8080/"
        },
        "id": "wXWZAq7Y-unz",
        "outputId": "03e6a320-1f67-4a75-c7aa-72d689996fe8"
      },
      "outputs": [
        {
          "output_type": "stream",
          "name": "stdout",
          "text": [
            "##### Cuenta de ahorro #####\n",
            "Cantidad de dinero depositada en cuenta de ahorro: 2000\n",
            "La cantidad del año 1: 2400.0\n",
            "La cantidad del año 2: 2880.0\n",
            "La cantidad del año 3: 3456.0\n"
          ]
        }
      ],
      "source": [
        "def interes_anual(dinero, cantidad=3, interes_anual = 20):\n",
        "    interes = float((interes_anual / 100)*dinero)\n",
        "    total = round( dinero + interes, 2)\n",
        "    return total\n",
        "\n",
        "print(\"##### Cuenta de ahorro #####\")\n",
        "dinero = int(input(\"Cantidad de dinero depositada en cuenta de ahorro: \"))\n",
        "anual_1 = interes_anual(dinero)\n",
        "anual_2 = interes_anual(anual_1)\n",
        "anual_3 = interes_anual(anual_2)\n",
        "\n",
        "print(f'La cantidad del año 1: {anual_1}')\n",
        "print(f'La cantidad del año 2: {anual_2}')\n",
        "print(f'La cantidad del año 3: {anual_3}')"
      ]
    },
    {
      "cell_type": "markdown",
      "metadata": {
        "id": "YfJ3u6Je-un0"
      },
      "source": [
        "## Ejercicio 14"
      ]
    },
    {
      "cell_type": "markdown",
      "metadata": {
        "id": "BulzUwMS-un0"
      },
      "source": [
        "Una panadería vende tiras de pan a 50 \\$ cada una. El pan que no es el día tiene un descuento del 40 &#37; Escribir un programa que comience leyendo el número de tiras vendidas que no son del día. Después el programa debe mostrar el precio habitual de una tira de pan, el descuento que se le hace por no ser fresca y el costo final total."
      ]
    },
    {
      "cell_type": "code",
      "execution_count": null,
      "metadata": {
        "colab": {
          "base_uri": "https://localhost:8080/"
        },
        "id": "HxFm6Nx--un0",
        "outputId": "ff8ff620-11be-4512-add7-c197a8cf1f71"
      },
      "outputs": [
        {
          "output_type": "stream",
          "name": "stdout",
          "text": [
            "##### Cuenta de ahorro #####\n",
            "Numero de tiras vendidas que no son del día: 10\n",
            "Precio de un tira fresca es de: $50\n",
            "Descuento por no ser pan del día: 40.0%\n",
            "Costo final: $ 300.0\n"
          ]
        }
      ],
      "source": [
        "def calcular_pan(n_panes, precio = 50, descuento = 0.4):\n",
        "    total = float(n_panes * precio * (1 - 0.4))\n",
        "    print(f'Precio de un tira fresca es de: ${precio}')\n",
        "    print(f'Descuento por no ser pan del día: {float(descuento*100)}%')\n",
        "    print(f'Costo final: $ {round(total, 2)}')\n",
        "\n",
        "print(\"##### Cuenta de ahorro #####\")\n",
        "n_panes = int(input(\"Numero de tiras vendidas que no son del día: \"))\n",
        "\n",
        "calcular_pan(n_panes)"
      ]
    }
  ],
  "metadata": {
    "celltoolbar": "Raw Cell Format",
    "kernelspec": {
      "display_name": "Python 3",
      "language": "python",
      "name": "python3"
    },
    "language_info": {
      "codemirror_mode": {
        "name": "ipython",
        "version": 3
      },
      "file_extension": ".py",
      "mimetype": "text/x-python",
      "name": "python",
      "nbconvert_exporter": "python",
      "pygments_lexer": "ipython3",
      "version": "3.6.9"
    },
    "colab": {
      "name": "1.1 Cuaderno, Felipe Bravo Espinosa.ipynb",
      "provenance": []
    }
  },
  "nbformat": 4,
  "nbformat_minor": 0
}