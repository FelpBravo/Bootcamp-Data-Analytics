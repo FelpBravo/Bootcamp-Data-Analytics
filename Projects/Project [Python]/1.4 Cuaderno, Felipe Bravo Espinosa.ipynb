{
  "cells": [
    {
      "cell_type": "markdown",
      "metadata": {
        "id": "EErCFGaPwS16"
      },
      "source": [
        "# Ejercicios de Listas y Tuplas"
      ]
    },
    {
      "cell_type": "markdown",
      "metadata": {
        "id": "gBj7cL8BwS18"
      },
      "source": [
        "## Ejercicio 1"
      ]
    },
    {
      "cell_type": "markdown",
      "metadata": {
        "id": "IkgQhpQ1wS19"
      },
      "source": [
        "Escribir un programa que almacene las asignaturas de un curso (por ejemplo Matemáticas, Física, Química, Historia y Lengua) en una lista y la muestre por pantalla."
      ]
    },
    {
      "cell_type": "code",
      "execution_count": 11,
      "metadata": {
        "colab": {
          "base_uri": "https://localhost:8080/",
          "height": 0
        },
        "id": "jLStyWqkwS19",
        "outputId": "1926f183-8f1e-41ec-8093-36afb452b3e9"
      },
      "outputs": [
        {
          "output_type": "stream",
          "name": "stdout",
          "text": [
            "#############\n",
            "Matemáticas\n",
            "Física\n",
            "Química\n",
            "Historia\n",
            "Lengua\n",
            "#############\n"
          ]
        }
      ],
      "source": [
        "asignaturas = [\"Matemáticas\", \"Física\", \"Química\", \"Historia\", \"Lengua\"]\n",
        "\n",
        "def imprimir():\n",
        "  print(\"#############\")\n",
        "  for a in asignaturas:\n",
        "    print(a)\n",
        "  print(\"#############\")\n",
        "  \n",
        "imprimir()"
      ]
    },
    {
      "cell_type": "markdown",
      "metadata": {
        "id": "P29cN1k7wS1-"
      },
      "source": [
        "## Ejercicio 2"
      ]
    },
    {
      "cell_type": "markdown",
      "metadata": {
        "id": "-ccPtiahwS1-"
      },
      "source": [
        "Escribir un programa que almacene las asignaturas de un curso (por ejemplo Matemáticas, Física, Química, Historia y Lengua) en una lista y la muestre por pantalla el mensaje <font color=#B40431>Yo estudio &#60;asignatura&#62;</font>, donde <font color=#B40431>&#60;asignatura&#62;</font> es cada una de las asignaturas de la lista."
      ]
    },
    {
      "cell_type": "code",
      "execution_count": 12,
      "metadata": {
        "colab": {
          "base_uri": "https://localhost:8080/",
          "height": 0
        },
        "id": "qVzG2FKUwS1-",
        "outputId": "15f7b3fe-805a-4ee0-d171-9a6cd8eb461d"
      },
      "outputs": [
        {
          "output_type": "stream",
          "name": "stdout",
          "text": [
            "Ingrese una asignatura: Matecia\n",
            "¿Desea ingresar otra asignatura? (si/no): si\n",
            "Ingrese una asignatura: fel\n",
            "¿Desea ingresar otra asignatura? (si/no): si\n",
            "Ingrese una asignatura: lojg\n",
            "¿Desea ingresar otra asignatura? (si/no): no\n",
            "#############\n",
            "Yo estudio Matecia\n",
            "Yo estudio fel\n",
            "Yo estudio lojg\n",
            "#############\n"
          ]
        }
      ],
      "source": [
        "def validar_resp():\n",
        "  i = False\n",
        "  while not i:\n",
        "    resp = str(input(\"¿Desea ingresar otra asignatura? (si/no): \"))\n",
        "    if resp.lower() == \"si\":\n",
        "      guardar_asignatura()\n",
        "      break\n",
        "    else:\n",
        "      i = True\n",
        "\n",
        "def guardar_asignatura():\n",
        "  asignatura = str(input(\"Ingrese una asignatura: \"))\n",
        "  asignaturas.append(asignatura)\n",
        "  validar_resp()\n",
        "\n",
        "def imprimir():\n",
        "  print(\"#############\")\n",
        "  for a in asignaturas:\n",
        "    print(\"Yo estudio \" + a)\n",
        "  print(\"#############\")\n",
        "  \n",
        "asignaturas = []\n",
        "guardar_asignatura()\n",
        "imprimir()"
      ]
    },
    {
      "cell_type": "markdown",
      "metadata": {
        "id": "CFS1w9n2wS1_"
      },
      "source": [
        "## Ejercicio 3"
      ]
    },
    {
      "cell_type": "markdown",
      "metadata": {
        "id": "xHTd_5ctwS1_"
      },
      "source": [
        "Escribir un programa que almacene las asignaturas de un curso (por ejemplo Matemáticas, Física, Química, Historia y Lengua) en una lista, pregunte al usuario la nota que ha sacado en cada asignatura, y después las muestre por pantalla con el mensaje <font color=#B40431>En &#60;asignatura&#62; has sacado &#60;nota&#62;</font> donde <font color=#B40431>&#60;asignatura&#62;</font> es cada una de las asignaturas de la lista y <font color=#B40431>&#60;nota&#62;</font> cada una de las correspondientes notas introducidas por el usuario."
      ]
    },
    {
      "cell_type": "code",
      "execution_count": 17,
      "metadata": {
        "colab": {
          "base_uri": "https://localhost:8080/",
          "height": 0
        },
        "id": "pebmV4AXwS2A",
        "outputId": "fbce4242-1615-47ff-a3a3-30b00596f50a"
      },
      "outputs": [
        {
          "output_type": "stream",
          "name": "stdout",
          "text": [
            "Ingrese una asignatura: asdas\n",
            "¿Desea ingresar otra asignatura? (si/no): si\n",
            "Ingrese una asignatura: mate\n",
            "¿Desea ingresar otra asignatura? (si/no): no\n",
            "###### Preguntas #######\n",
            "¿Que nota obtuviste en asdas ?2\n",
            "¿Que nota obtuviste en mate ?4\n",
            "#############\n",
            "###### Resultado #######\n",
            "En asdas obtuviste un 2\n",
            "En mate obtuviste un 4\n",
            "#############\n"
          ]
        }
      ],
      "source": [
        "def validar_resp():\n",
        "  i = False\n",
        "  while not i:\n",
        "    resp = str(input(\"¿Desea ingresar otra asignatura? (si/no): \"))\n",
        "    if resp.lower() == \"si\":\n",
        "      guardar_asignatura()\n",
        "      break\n",
        "    else:\n",
        "      i = True\n",
        "\n",
        "def guardar_asignatura():\n",
        "  asignatura = str(input(\"Ingrese una asignatura: \"))\n",
        "  asignaturas.append(asignatura)\n",
        "  validar_resp()\n",
        "\n",
        "def imprimir_pregunta():\n",
        "  print(\"###### Preguntas #######\")\n",
        "  for a in asignaturas:\n",
        "    nota = int(input(f'¿Que nota obtuviste en {a} ?'))\n",
        "    notas.append(nota)\n",
        "  print(\"#############\")\n",
        "\n",
        "def imprimir_todo():\n",
        "  diccionario = dict(zip(asignaturas, notas))\n",
        "  print(\"###### Resultado final #######\")\n",
        "  for c, v in diccionario.items():\n",
        "      print(f'En {c} obtuviste un {v}')\n",
        "  print(\"#############\")\n",
        "  \n",
        "asignaturas = []\n",
        "notas = []\n",
        "guardar_asignatura()\n",
        "imprimir_pregunta()\n",
        "imprimir_todo()"
      ]
    },
    {
      "cell_type": "markdown",
      "metadata": {
        "id": "AJVR0XmywS2A"
      },
      "source": [
        "## Ejercicio 4"
      ]
    },
    {
      "cell_type": "markdown",
      "metadata": {
        "id": "C2l8YEVMwS2A"
      },
      "source": [
        "Escribir un programa que pregunte al usuario los números ganadores de la lotería primitiva, los almacene en una lista y los muestre por pantalla ordenados de menor a mayor."
      ]
    },
    {
      "cell_type": "code",
      "execution_count": 21,
      "metadata": {
        "colab": {
          "base_uri": "https://localhost:8080/",
          "height": 0
        },
        "id": "UZ31r-yEwS2A",
        "outputId": "dc125af4-69ce-4221-e530-61d021cf8641"
      },
      "outputs": [
        {
          "output_type": "stream",
          "name": "stdout",
          "text": [
            "Ingrese números ganadores para la lotería primitiva: 21\n",
            "¿Desea ingresar otro numero? (si/no): si\n",
            "Ingrese números ganadores para la lotería primitiva: 39\n",
            "¿Desea ingresar otro numero? (si/no): si\n",
            "Ingrese números ganadores para la lotería primitiva: 19\n",
            "¿Desea ingresar otro numero? (si/no): si\n",
            "Ingrese números ganadores para la lotería primitiva: 43\n",
            "¿Desea ingresar otro numero? (si/no): no\n",
            "\n",
            "Los numeros de la lista son : [19, 21, 39, 43]\n",
            "\n"
          ]
        }
      ],
      "source": [
        "def validar_resp():\n",
        "  i = False\n",
        "  while not i:\n",
        "    resp = str(input(\"¿Desea ingresar otro numero? (si/no): \"))\n",
        "    if resp.lower() == \"si\":\n",
        "      guardar_numero()\n",
        "      break\n",
        "    else:\n",
        "      i = True\n",
        "\n",
        "def guardar_numero():\n",
        "  numero = int(input(\"Ingrese números ganadores para la lotería primitiva: \"))\n",
        "  numeros.append(numero)\n",
        "  validar_resp()\n",
        "\n",
        "def ordenar(value):\n",
        "  value.sort()\n",
        "  return value\n",
        "\n",
        "numeros = []\n",
        "guardar_numero()\n",
        "new_array = ordenar(numeros)\n",
        "print(f'''\n",
        "Los numeros de la lista son : {numeros}\n",
        "''')"
      ]
    },
    {
      "cell_type": "markdown",
      "metadata": {
        "id": "LB2udM6zwS2B"
      },
      "source": [
        "## Ejercicio 5"
      ]
    },
    {
      "cell_type": "markdown",
      "metadata": {
        "id": "BuK056LawS2B"
      },
      "source": [
        "Escribir un programa que almacene en una lista los números del 1 al 10 y los muestre por pantalla en orden inverso separados por comas."
      ]
    },
    {
      "cell_type": "code",
      "execution_count": 22,
      "metadata": {
        "colab": {
          "base_uri": "https://localhost:8080/",
          "height": 0
        },
        "id": "rP2Ir-r3wS2B",
        "outputId": "5bc0e5ca-a4c9-46f4-b268-c65398fa3a19"
      },
      "outputs": [
        {
          "output_type": "stream",
          "name": "stdout",
          "text": [
            "10 , 9 , 8 , 7 , 6 , 5 , 4 , 3 , 2 , 1 , "
          ]
        }
      ],
      "source": [
        "numbers = [1, 2, 3, 4, 5, 6, 7, 8, 9, 10]\n",
        "\n",
        "numbers.reverse()\n",
        "\n",
        "for n in numbers:\n",
        "    print(n, end=\" , \")"
      ]
    },
    {
      "cell_type": "markdown",
      "metadata": {
        "id": "AsC354TMwS2B"
      },
      "source": [
        "## Ejercicio 6"
      ]
    },
    {
      "cell_type": "markdown",
      "metadata": {
        "id": "ewh3D3GNwS2B"
      },
      "source": [
        "Escribir un programa que almacene las asignaturas de un curso (por ejemplo Matemáticas, Física, Química, Historia y Lengua) en una lista, pregunte al usuario la nota que ha sacado en cada asignatura y elimine de la lista las asignaturas aprobadas. Al final el programa debe mostrar por pantalla las asignaturas que el usuario tiene que repetir."
      ]
    },
    {
      "cell_type": "code",
      "execution_count": 48,
      "metadata": {
        "colab": {
          "base_uri": "https://localhost:8080/",
          "height": 0
        },
        "id": "24lXQIR4wS2C",
        "outputId": "8093d310-0b1b-40dc-f027-77a05680c0a5"
      },
      "outputs": [
        {
          "output_type": "stream",
          "name": "stdout",
          "text": [
            "Ingrese una asignatura: MATE\n",
            "¿Desea ingresar otra asignatura? (si/no): si\n",
            "Ingrese una asignatura: len\n",
            "¿Desea ingresar otra asignatura? (si/no): si\n",
            "Ingrese una asignatura: his\n",
            "¿Desea ingresar otra asignatura? (si/no): si\n",
            "Ingrese una asignatura: bio\n",
            "¿Desea ingresar otra asignatura? (si/no): no\n",
            "###### Preguntas #######\n",
            "¿Que nota obtuviste en MATE ?4\n",
            "¿Que nota obtuviste en len ?2\n",
            "¿Que nota obtuviste en his ?6\n",
            "¿Que nota obtuviste en bio ?1\n",
            "#############\n",
            "###### Las asignaturas reprobadas #######\n",
            "{'len': 2, 'bio': 1}\n",
            "#############\n"
          ]
        }
      ],
      "source": [
        "def validar_resp():\n",
        "  i = False\n",
        "  while not i:\n",
        "    resp = str(input(\"¿Desea ingresar otra asignatura? (si/no): \"))\n",
        "    if resp.lower() == \"si\":\n",
        "      guardar_asignatura()\n",
        "      break\n",
        "    else:\n",
        "      i = True\n",
        "\n",
        "def guardar_asignatura():\n",
        "  asignatura = str(input(\"Ingrese una asignatura: \"))\n",
        "  asignaturas.append(asignatura)\n",
        "  validar_resp()\n",
        "\n",
        "def imprimir_pregunta():\n",
        "  print(\"###### Preguntas #######\")\n",
        "  for a in asignaturas:\n",
        "    nota = int(input(f'¿Que nota obtuviste en {a} ?'))\n",
        "    notas.append(nota)\n",
        "  print(\"#############\")\n",
        "\n",
        "def imprimir_todo():\n",
        "  print(\"###### Las asignaturas reprobadas #######\")\n",
        "  if diccionario:\n",
        "    print(f'{diccionario}')\n",
        "  else:\n",
        "    print(\"Usted no tiene asignaturas reprobadas\")\n",
        "  print(\"#############\")\n",
        "\n",
        "def eliminar_aprobadas():\n",
        "    for key, val in list(diccionario.items()):\n",
        "        if val >= 4:\n",
        "          diccionario.pop(key)\n",
        "\n",
        "  \n",
        "asignaturas = []\n",
        "notas = []\n",
        "guardar_asignatura()\n",
        "imprimir_pregunta()\n",
        "diccionario = dict(zip(asignaturas, notas))\n",
        "eliminar_aprobadas()\n",
        "imprimir_todo()"
      ]
    },
    {
      "cell_type": "markdown",
      "metadata": {
        "id": "tJoRU8W0wS2C"
      },
      "source": [
        "## Ejercicio 7"
      ]
    },
    {
      "cell_type": "markdown",
      "metadata": {
        "id": "JvFU75mswS2C"
      },
      "source": [
        "Escribir un programa que almacene el abecedario en una lista, elimine de la lista las letras que ocupen posiciones múltiplos de 3, y muestre por pantalla la lista resultante."
      ]
    },
    {
      "cell_type": "code",
      "execution_count": 56,
      "metadata": {
        "colab": {
          "base_uri": "https://localhost:8080/",
          "height": 0
        },
        "id": "Gin1sdl3wS2C",
        "outputId": "a9525b1c-4fbc-47b3-c635-5f4353d2be19"
      },
      "outputs": [
        {
          "output_type": "stream",
          "name": "stdout",
          "text": [
            "['a', 'b', 'd', 'e', 'g', 'h', 'j', 'k', 'm', 'n', 'o', 'p', 'r', 's', 'u', 'v', 'x', 'y']\n"
          ]
        }
      ],
      "source": [
        "abecedario = ['a', 'b', 'c', 'd', 'e', 'f', 'g', 'h', 'i', 'j', 'k', 'l', 'm', 'n', 'ñ', 'o', 'p', 'q', 'r', 's', 't', 'u', 'v', 'w', 'x', 'y', 'z']\n",
        "\n",
        "def multiplos():\n",
        "  for i in range(len(abecedario), 1, -1):\n",
        "    if i % 3 == 0:\n",
        "      abecedario.pop(i-1)\n",
        "\n",
        "multiplos()\n",
        "print(abecedario)\n"
      ]
    },
    {
      "cell_type": "markdown",
      "metadata": {
        "id": "I-N2jv10wS2C"
      },
      "source": [
        "## Ejercicio 8"
      ]
    },
    {
      "cell_type": "markdown",
      "metadata": {
        "id": "DN1H_I2xwS2C"
      },
      "source": [
        "Escribir un programa que pida al usuario una palabra y muestre por pantalla si es un palíndromo."
      ]
    },
    {
      "cell_type": "code",
      "execution_count": 65,
      "metadata": {
        "colab": {
          "base_uri": "https://localhost:8080/",
          "height": 0
        },
        "id": "S4PEqhi4wS2C",
        "outputId": "f6a4d383-e1c6-4d66-ff20-4a3a0a004500"
      },
      "outputs": [
        {
          "output_type": "stream",
          "name": "stdout",
          "text": [
            "Ingrese una palabra: arañara\n",
            "arañara arañara\n",
            "La palabra arañara es un palídromo\n"
          ]
        }
      ],
      "source": [
        "\n",
        "palabra = str(input(\"Ingrese una palabra: \").lower())\n",
        "\n",
        "revez = palabra[::-1]\n",
        "\n",
        "if palabra == revez:\n",
        "  print(f'La palabra {palabra} es un palídromo')\n",
        "else:\n",
        "  print('La palabra no es un palídromo')"
      ]
    },
    {
      "cell_type": "markdown",
      "metadata": {
        "id": "cMO3YjmLwS2D"
      },
      "source": [
        "## Ejercicio 9"
      ]
    },
    {
      "cell_type": "markdown",
      "metadata": {
        "id": "jEIJPdPZwS2D"
      },
      "source": [
        "Escribir un programa que pida al usuario una palabra y muestre por pantalla el número de veces que contiene cada vocal."
      ]
    },
    {
      "cell_type": "code",
      "execution_count": 81,
      "metadata": {
        "colab": {
          "base_uri": "https://localhost:8080/",
          "height": 0
        },
        "id": "jc2CRkL2wS2D",
        "outputId": "11e9a1c6-9d40-4fe6-b57d-bf41325224c9"
      },
      "outputs": [
        {
          "output_type": "stream",
          "name": "stdout",
          "text": [
            "Ingrese una palabra: Mario\n",
            "{'a': 1, 'e': 0, 'i': 1, 'o': 1, 'u': 0}\n"
          ]
        }
      ],
      "source": [
        "vocales = ['a', 'e', 'i', 'o', 'u']\n",
        "dic = {}\n",
        "def contador_vocal():\n",
        "  for v in vocales:\n",
        "    contador = 0\n",
        "    for p in palabra:\n",
        "      if p == v:\n",
        "        contador += 1\n",
        "      dic[v] = contador\n",
        "\n",
        "palabra = str(input(\"Ingrese una palabra: \").lower())\n",
        "contador_vocal()\n",
        "print(dic)"
      ]
    },
    {
      "cell_type": "markdown",
      "metadata": {
        "id": "IwI5w_i_wS2D"
      },
      "source": [
        "## Ejercicio 10"
      ]
    },
    {
      "cell_type": "markdown",
      "metadata": {
        "id": "mlbwY2DzwS2D"
      },
      "source": [
        "Escribir un programa que almacene en una lista los siguientes precios, 50, 75, 46, 22, 80, 65, 8, y muestre por pantalla el menor y el mayor de los precios."
      ]
    },
    {
      "cell_type": "code",
      "execution_count": 83,
      "metadata": {
        "colab": {
          "base_uri": "https://localhost:8080/",
          "height": 0
        },
        "id": "isd3-nmBwS2D",
        "outputId": "3c77f158-6a70-4727-cf80-d7bf52ad0521"
      },
      "outputs": [
        {
          "output_type": "stream",
          "name": "stdout",
          "text": [
            "[8, 22, 46, 50, 65, 75, 80]\n",
            "\n",
            "  El numero menor de la lista es : 8 \n",
            "  El numero mayor de la lista es : 80\n",
            "  \n"
          ]
        }
      ],
      "source": [
        "numeros = [50, 75, 46, 22, 80, 65, 8]\n",
        "\n",
        "def mostrar_numeros():\n",
        "  numeros_ordenados = numeros.sort()\n",
        "  print(numeros)\n",
        "  print(f'''\n",
        "  El numero menor de la lista es : {numeros[0]} \n",
        "  El numero mayor de la lista es : {numeros[-1]}\n",
        "  ''')\n",
        "\n",
        "mostrar_numeros()"
      ]
    },
    {
      "cell_type": "markdown",
      "metadata": {
        "id": "xEkzZJsdwS2D"
      },
      "source": [
        "## Ejercicio 11"
      ]
    },
    {
      "cell_type": "markdown",
      "metadata": {
        "id": "FPcpspazwS2E"
      },
      "source": [
        "Escribir un programa que almacene los vectores (1,2,3) y (-1,0,2) en dos listas y muestre por pantalla su producto escalar."
      ]
    },
    {
      "cell_type": "code",
      "execution_count": 85,
      "metadata": {
        "colab": {
          "base_uri": "https://localhost:8080/",
          "height": 0
        },
        "id": "GSXIjCyMwS2E",
        "outputId": "bcf0e0e3-cc8f-4ba8-b1e4-730f3363580f"
      },
      "outputs": [
        {
          "output_type": "stream",
          "name": "stdout",
          "text": [
            "El resultado del producto escalar es de 5\n"
          ]
        }
      ],
      "source": [
        "a = (1,2,3)\n",
        "b = (-1,0,2)\n",
        "\n",
        "producto_escalar = 0\n",
        "for i in range(len(a)):\n",
        "  producto_escalar += a[i] * b[i]\n",
        "\n",
        "print(f'El resultado del producto escalar es de {producto_escalar}')"
      ]
    },
    {
      "cell_type": "markdown",
      "metadata": {
        "id": "GW3faf2iwS2E"
      },
      "source": [
        "## Ejercicio 12"
      ]
    },
    {
      "cell_type": "markdown",
      "metadata": {
        "id": "GMFeVuynwS2E"
      },
      "source": [
        "Escribir un programa que almacene las matrices\n",
        "\n",
        "$A = \\left(\n",
        "\\begin{array}{rrr}\n",
        "1 & 2 & 3\\ \\\\\n",
        "4 & 5 & 6\n",
        "\\end{array}\n",
        "\\right)\n",
        "\\quad  y\n",
        "\\quad\n",
        "B = \\left(\n",
        "\\begin{array}{rr}\n",
        "-1 & 0\\ \\\\\n",
        "0 & 1\\ \\\\\n",
        "1 & 1 \n",
        "\\end{array}\n",
        "\\right)\n",
        "$\n",
        "\n",
        "en una lista y muestre por pantalla su producto.\n",
        "Nota: Para representar matrices mediante listas usar listas anidadas, representando cada vector fila en una lista."
      ]
    },
    {
      "cell_type": "code",
      "execution_count": 88,
      "metadata": {
        "colab": {
          "base_uri": "https://localhost:8080/",
          "height": 0
        },
        "id": "5izaOX-TwS2E",
        "outputId": "30cb37f9-dc36-4c0e-c63c-0e3c8b243a2d"
      },
      "outputs": [
        {
          "output_type": "stream",
          "name": "stdout",
          "text": [
            "-1\n",
            "-1\n",
            "2\n",
            "0\n",
            "2\n",
            "5\n",
            "-4\n",
            "-4\n",
            "2\n",
            "0\n",
            "5\n",
            "11\n",
            "(2, 5)\n",
            "(2, 11)\n"
          ]
        }
      ],
      "source": [
        "a = ( (1,2,3) , (4,5,6) )\n",
        "b = ( (-1,0) , (0,1) , (1,1) )\n",
        "\n",
        "resultado = [[0,0],\n",
        "          [0,0]]\n",
        "\n",
        "for i in range(len(a)):\n",
        "    for j in range(len(b[0])):\n",
        "        for k in range(len(b)):\n",
        "            resultado[i][j] += a[i][k] * b[k][j]\n",
        "            print(resultado[i][j])\n",
        "\n",
        "for i in range(len(resultado)):\n",
        "    resultado[i] = tuple(resultado[i])\n",
        "\n",
        "resultado = tuple(resultado)\n",
        "\n",
        "for i in range(len(resultado)):\n",
        "    print(resultado[i])"
      ]
    },
    {
      "cell_type": "markdown",
      "metadata": {
        "id": "nZYNdIO7wS2E"
      },
      "source": [
        "## Ejercicio 13"
      ]
    },
    {
      "cell_type": "markdown",
      "metadata": {
        "id": "t3mijAdqwS2F"
      },
      "source": [
        "Escribir un programa que pregunte por una muestra de números, separados por comas, los guarde en una lista y muestre por pantalla su media y desviación típica."
      ]
    },
    {
      "cell_type": "code",
      "execution_count": 93,
      "metadata": {
        "colab": {
          "base_uri": "https://localhost:8080/",
          "height": 0
        },
        "id": "hyPAeESBwS2F",
        "outputId": "f4901fda-c7de-4c5f-c148-dd40d0aa163f"
      },
      "outputs": [
        {
          "output_type": "stream",
          "name": "stdout",
          "text": [
            "Ingresa una muestra de números separados por comas: 1,2,3,4,5,6,7\n",
            "La media es: 4.0 y la desviación típica es de: 2.0\n"
          ]
        }
      ],
      "source": [
        "def muestra_numeros():\n",
        "  muestra = input(\"Ingresa una muestra de números separados por comas: \")\n",
        "  muestra = muestra.split(',')\n",
        "  n = len(muestra)\n",
        "  for i in range(n):\n",
        "      muestra[i] = int(muestra[i])\n",
        "  muestra = tuple(muestra)\n",
        "  suma = 0\n",
        "  sumasq = 0\n",
        "  for i in muestra:\n",
        "      suma += i\n",
        "      sumasq += i**2     \n",
        "  media = suma/n\n",
        "  desviacion_tipica = (sumasq/n-media**2)**(1/2)\n",
        "  print(f'La media es: {media} y la desviación típica es de: {desviacion_tipica}')\n",
        "\n",
        "muestra_numeros()"
      ]
    }
  ],
  "metadata": {
    "kernelspec": {
      "display_name": "Python 3",
      "language": "python",
      "name": "python3"
    },
    "language_info": {
      "codemirror_mode": {
        "name": "ipython",
        "version": 3
      },
      "file_extension": ".py",
      "mimetype": "text/x-python",
      "name": "python",
      "nbconvert_exporter": "python",
      "pygments_lexer": "ipython3",
      "version": "3.6.9"
    },
    "colab": {
      "name": "Ejercitación 1.4 - Listas-y-Tuplas.ipynb",
      "provenance": []
    }
  },
  "nbformat": 4,
  "nbformat_minor": 0
}