{
  "cells": [
    {
      "cell_type": "markdown",
      "metadata": {
        "id": "3cyggZKEXmWW"
      },
      "source": [
        "# Ejercicios de Condicionales"
      ]
    },
    {
      "cell_type": "markdown",
      "metadata": {
        "id": "oBflkI0kXmWY"
      },
      "source": [
        "## Ejercicio 1"
      ]
    },
    {
      "cell_type": "markdown",
      "metadata": {
        "id": "hlWnNWMSXmWY"
      },
      "source": [
        "Escribir un programa que pregunte al usuario su edad y muestre por pantalla si es mayor de edad o no."
      ]
    },
    {
      "cell_type": "code",
      "execution_count": 5,
      "metadata": {
        "colab": {
          "base_uri": "https://localhost:8080/",
          "height": 0
        },
        "id": "Y3-VYqPZXmWZ",
        "outputId": "53a02773-c47d-4ffe-f8d5-21b0e3586085"
      },
      "outputs": [
        {
          "output_type": "stream",
          "name": "stdout",
          "text": [
            "Ingrese su edad : 18\n",
            "Es mayor de edad\n"
          ]
        }
      ],
      "source": [
        "def rango_edad(edad):\n",
        "  if edad >= 18:\n",
        "     print(\"Es mayor de edad\")\n",
        "  else:\n",
        "     print(\"Es menor de edad\") \n",
        "  \n",
        "\n",
        "edad = int(input(\"Ingrese su edad : \"))\n",
        "rango_edad(edad)"
      ]
    },
    {
      "cell_type": "markdown",
      "metadata": {
        "id": "gWUvsPoiXmWZ"
      },
      "source": [
        "## Ejercicio 2"
      ]
    },
    {
      "cell_type": "markdown",
      "metadata": {
        "id": "wcO4eMMTXmWa"
      },
      "source": [
        "Escribir un programa que almacene la cadena de caracteres <font color=#B40431>contraseña</font> en una variable, pregunte al usuario por la contraseña e imprima por pantalla si la contraseña introducida por el usuario coincide con la guardada en la variable sin tener en cuenta mayúsculas y minúsculas."
      ]
    },
    {
      "cell_type": "code",
      "execution_count": 9,
      "metadata": {
        "colab": {
          "base_uri": "https://localhost:8080/",
          "height": 0
        },
        "id": "oZZ3BbsIXmWa",
        "outputId": "ac5eeee3-3987-44c9-fbb6-7b4a8ded00a7"
      },
      "outputs": [
        {
          "output_type": "stream",
          "name": "stdout",
          "text": [
            "Ingrese su contrasena : asdasdsad\n",
            "ERROR, contraseña incorrecta!\n"
          ]
        }
      ],
      "source": [
        "def validar_contrasena(ingresada, defecto = \"alma2021.\"):\n",
        "  if defecto == ingresada.lower():\n",
        "    print(\"Contraseña correcta!\")\n",
        "  else:\n",
        "    print(\"ERROR, contraseña incorrecta!\")\n",
        "  \n",
        "\n",
        "contrasena = input(\"Ingrese su contrasena : \")\n",
        "validar_contrasena(contrasena)"
      ]
    },
    {
      "cell_type": "markdown",
      "metadata": {
        "id": "w9wwjWv3XmWa"
      },
      "source": [
        "## Ejercicio 3"
      ]
    },
    {
      "cell_type": "markdown",
      "metadata": {
        "id": "_xAByMTTXmWb"
      },
      "source": [
        "Escribir un programa que pida al usuario dos números y muestre por pantalla su división. Si el divisor es cero el programa debe mostrar un error."
      ]
    },
    {
      "cell_type": "code",
      "execution_count": 12,
      "metadata": {
        "colab": {
          "base_uri": "https://localhost:8080/",
          "height": 0
        },
        "id": "KPvPyknrXmWb",
        "outputId": "a2121cad-1dc6-4700-a407-24c4b47ee54b"
      },
      "outputs": [
        {
          "output_type": "stream",
          "name": "stdout",
          "text": [
            "Ingrese el dividendo: 10\n",
            "Ingrese el divisor: 2\n",
            "El resultado es :  5.0\n"
          ]
        }
      ],
      "source": [
        "def dividir(valor_1, valor_2):\n",
        "  if valor_2 != 0:\n",
        "    print(f'El resultado es :  {float(valor_1 / valor_2)}')\n",
        "  else:\n",
        "    print(f'ERROR, no se puede ingresar un dividendo {valor_2}')\n",
        "\n",
        "valor_1 = int(input(\"Ingrese el dividendo: \"))\n",
        "valor_2 = int(input(\"Ingrese el divisor: \"))\n",
        "\n",
        "dividir(valor_1, valor_2)"
      ]
    },
    {
      "cell_type": "markdown",
      "metadata": {
        "id": "JFaU3qrAXmWb"
      },
      "source": [
        "## Ejercicio 4"
      ]
    },
    {
      "cell_type": "markdown",
      "metadata": {
        "id": "DUkHZ0TdXmWc"
      },
      "source": [
        "Escribir un programa que pida al usuario un número entero y muestre por pantalla si es par o impar."
      ]
    },
    {
      "cell_type": "code",
      "execution_count": 15,
      "metadata": {
        "colab": {
          "base_uri": "https://localhost:8080/",
          "height": 0
        },
        "id": "2surDLarXmWc",
        "outputId": "80ec5535-3458-4c0a-aadd-aaa1bba04094"
      },
      "outputs": [
        {
          "output_type": "stream",
          "name": "stdout",
          "text": [
            "Ingrese un numero: 4\n",
            "El numero 4 es par\n"
          ]
        }
      ],
      "source": [
        "def validar_entero(n):\n",
        "  if n % 2 == 0:\n",
        "    print(f'El numero {n} es par')\n",
        "  else:\n",
        "    print(f'El numero {n} es impar')\n",
        "\n",
        "numero = int(input(\"Ingrese un numero: \"))\n",
        "\n",
        "validar_entero(numero)"
      ]
    },
    {
      "cell_type": "markdown",
      "metadata": {
        "id": "FYlP4-x2XmWc"
      },
      "source": [
        "## Ejercicio 5"
      ]
    },
    {
      "cell_type": "markdown",
      "metadata": {
        "id": "P6ACpXSvXmWc"
      },
      "source": [
        "Para aplicar un determinado impuesto se debe ser mayor de 16 años y tener unos ingresos iguales o superiores a 10000 $ mensuales. Escribir un programa que pregunte al usuario su edad y sus ingresos mensuales y muestre por pantalla si el usuario tiene que pagar o no."
      ]
    },
    {
      "cell_type": "code",
      "execution_count": 21,
      "metadata": {
        "colab": {
          "base_uri": "https://localhost:8080/",
          "height": 0
        },
        "id": "8FStcGeQXmWd",
        "outputId": "7922273f-8d53-4b04-dd3f-9dc3a7d2725f"
      },
      "outputs": [
        {
          "output_type": "stream",
          "name": "stdout",
          "text": [
            "Ingrese su edad: 18\n",
            "Ingrese sus ingresos mensuales: 1000\n",
            "Usted no paga impuestos debido a que es menor de 16 años\n"
          ]
        }
      ],
      "source": [
        "def calcular_impuesto(edad, ingresos, porcentaje = 0.19):\n",
        "  if edad > 16 and ingresos >= 10000:\n",
        "     impuesto = int(ingresos * porcentaje)\n",
        "     print(f'Usted tiene que pagar ${impuesto} de impuesto debido al {int(porcentaje*100)}% de sus ingresos mensuales')\n",
        "  else:\n",
        "     print(f'Usted no paga impuestos')\n",
        "\n",
        "edad = int(input(\"Ingrese su edad: \"))\n",
        "ingresos_mensuales = int(input(\"Ingrese sus ingresos mensuales: \"))\n",
        "\n",
        "calcular_impuesto(edad, ingresos_mensuales)\n"
      ]
    },
    {
      "cell_type": "markdown",
      "metadata": {
        "id": "p3a12pcjXmWd"
      },
      "source": [
        "## Ejercicio 6"
      ]
    },
    {
      "cell_type": "markdown",
      "metadata": {
        "id": "FsYOiT3mXmWd"
      },
      "source": [
        "Los alumnos de un curso se han dividido en dos grupos A y B de acuerdo al sexo y el nombre. El grupo A esta formado por las mujeres con un nombre anterior a la M y los hombres con un nombre posterior a la N y el grupo B por el resto. Escribir un programa que pregunte al usuario su nombre y sexo, y muestre por pantalla el grupo que le corresponde."
      ]
    },
    {
      "cell_type": "code",
      "execution_count": 25,
      "metadata": {
        "colab": {
          "base_uri": "https://localhost:8080/",
          "height": 0
        },
        "id": "YdwBuqvKXmWd",
        "outputId": "21ff4868-3464-49e9-8b31-399cd919b2c2"
      },
      "outputs": [
        {
          "output_type": "stream",
          "name": "stdout",
          "text": [
            "Ingrese su nombre: nono\n",
            "Ingrese su sexo H/M: h\n",
            "Usted pertenece al Grupo A\n"
          ]
        }
      ],
      "source": [
        "def validar_grupo(nom, sex):\n",
        "  if (sex.upper() == \"M\" and nom.lower() < \"m\") or (sex.upper() == \"H\" and nom.lower() > \"n\"):\n",
        "    print(\"Usted pertenece al Grupo A\")\n",
        "  else:\n",
        "    print(\"Usted pertenece al Grupo B\")\n",
        "     \n",
        "\n",
        "nombre = input(\"Ingrese su nombre: \")\n",
        "sexo = input(\"Ingrese su sexo H/M: \")\n",
        "\n",
        "validar_grupo(nombre, sexo)"
      ]
    },
    {
      "cell_type": "markdown",
      "metadata": {
        "id": "X38qZlFSXmWd"
      },
      "source": [
        "## Ejercicio 7"
      ]
    },
    {
      "cell_type": "markdown",
      "metadata": {
        "id": "ME8yvfUCXmWe"
      },
      "source": [
        "Las franjas impositivas para la declaración de la renta en un determinado país son los siguientes:\n",
        "<table>\n",
        "<thead>\n",
        "<tr>\n",
        "<th style=\"text-align:center\">Renta en &#36;</th>\n",
        "<th style=\"text-align:center\">Impuesto </th>\n",
        "</tr>\n",
        "</thead>\n",
        "<tbody>\n",
        "<tr>\n",
        "<td style=\"text-align:center\">Menos de 10000</td>\n",
        "<td style=\"text-align:center\">5&#37; </td>\n",
        "</tr>\n",
        "<tr>\n",
        "<td style=\"text-align:center\">Entre 10000 y 20000</td>\n",
        "<td style=\"text-align:center\">15&#37;</td>\n",
        "</tr>\n",
        "<tr>\n",
        "<td style=\"text-align:center\">Entre 200000 y 35000 </td>\n",
        "<td style=\"text-align:center\">20&#37;</td>\n",
        "</tr>\n",
        "<tr>\n",
        "<td style=\"text-align:center\">Entre 350000 y 60000</td>\n",
        "<td style=\"text-align:center\">30&#37;</td>\n",
        "</tr>\n",
        "<tr>\n",
        "<td style=\"text-align:center\">Más de 60000</td>\n",
        "<td style=\"text-align:center\">45&#37;</td>\n",
        "</tr>\n",
        "</tbody>\n",
        "</table>\n",
        "Escribir un programa que pregunte al usuario su renta anual y muestre por pantalla el tipo impositivo que le corresponde."
      ]
    },
    {
      "cell_type": "code",
      "execution_count": 40,
      "metadata": {
        "colab": {
          "base_uri": "https://localhost:8080/",
          "height": 0
        },
        "id": "IaFStuZiXmWe",
        "outputId": "6b02e734-a704-4e47-b809-8ca624c40773"
      },
      "outputs": [
        {
          "output_type": "stream",
          "name": "stdout",
          "text": [
            "Ingrese su renta anual: 324234\n",
            "El impuesto que debe pagar es de un total de $145905 lo que corresponde al 45% de su renta anual 324234\n"
          ]
        }
      ],
      "source": [
        "#Algunos valores de la tabla estan con unos 0 demas\n",
        "def impuesto(renta):\n",
        "  if renta < 10000:\n",
        "    return 5\n",
        "  elif renta < 20000:\n",
        "    return 15\n",
        "  elif renta < 35000:\n",
        "    return 20\n",
        "  elif renta < 60000:\n",
        "    return 30\n",
        "  elif renta > 60000:\n",
        "    return 45\n",
        "\n",
        "rentaAnual = int(input('Ingrese su renta anual: '))\n",
        "\n",
        "valor_imp = impuesto(rentaAnual)\n",
        "total = int((valor_imp/100)*rentaAnual)\n",
        "\n",
        "print(f'El impuesto que debe pagar es de un total de ${total} lo que corresponde al {valor_imp}% de su renta anual {rentaAnual}')"
      ]
    },
    {
      "cell_type": "markdown",
      "metadata": {
        "id": "78RKzNsLXmWe"
      },
      "source": [
        "## Ejercicio 8"
      ]
    },
    {
      "cell_type": "markdown",
      "metadata": {
        "id": "OQ7Jg6XPXmWe"
      },
      "source": [
        "En una determinada empresa, sus empleados son evaluados al final de cada año. Los puntos que pueden obtener en la evaluación comienzan en 0.0 y pueden ir aumentando, traduciéndose en mejores beneficios. Los puntos que pueden conseguir los empleados pueden ser 0.0, 0.4, 0.6 o más, pero no valores intermedios entre las cifras mencionadas. A continuación se muestra una tabla con los niveles correspondientes a cada puntuación. La cantidad de dinero conseguida en cada nivel es de 2500 $ multiplicada por la puntuación del nivel.\n",
        "\n",
        "<table>\n",
        "<thead>\n",
        "<tr>\n",
        "<th style=\"text-align:center\">Nivel</th>\n",
        "<th style=\"text-align:center\">Puntuación</th>\n",
        "</tr>\n",
        "</thead>\n",
        "<tbody>\n",
        "<tr>\n",
        "<td style=\"text-align:center\">Inaceptable</td>\n",
        "<td style=\"text-align:center\">0.0</td>\n",
        "</tr>\n",
        "<tr>\n",
        "<td style=\"text-align:center\">Aceptable</td>\n",
        "<td style=\"text-align:center\">0.4</td>\n",
        "</tr>\n",
        "<tr>\n",
        "<td style=\"text-align:center\">Meritorio</td>\n",
        "<td style=\"text-align:center\">0.6 o más</td>\n",
        "</tr>\n",
        "</tbody>\n",
        "</table>\n",
        "\n",
        "\n",
        "Escribir un programa que lea la puntuación del usuario e indique su nivel de rendimiento, así como la cantidad de dinero que recibirá el usuario."
      ]
    },
    {
      "cell_type": "code",
      "execution_count": 54,
      "metadata": {
        "colab": {
          "base_uri": "https://localhost:8080/",
          "height": 0
        },
        "id": "_Kd-E2lDXmWf",
        "outputId": "07503029-add8-49c7-cb27-90290cb6bf44"
      },
      "outputs": [
        {
          "output_type": "stream",
          "name": "stdout",
          "text": [
            "Ingrese una evaluación (0.0 - 0.4 - 0.6): 01\n",
            "El nivel del empleado fue Meritorio, por lo cual recibirá una bonificación de $2500\n"
          ]
        }
      ],
      "source": [
        "#Retorna una lista, primer valor como un entero y el segundo como una cadena\n",
        "def calcularPuntaje(puntaje, dinero = 2500):\n",
        "  i = [0.0, \"Inaceptable\"]\n",
        "  a = [0.4, \"Aceptable\"]\n",
        "  m = [0.6, \"Meritorio\"]\n",
        "  total = int(puntaje*dinero)\n",
        "  if puntaje == i[0]:\n",
        "    return [total, i[1]]\n",
        "  elif puntaje == a[0]: \n",
        "    return [total, a[1]]\n",
        "  elif puntaje >= m[0]:\n",
        "    return [total, m[1]]\n",
        "  else:\n",
        "    return None\n",
        "\n",
        "puntaje = float(input('Ingrese una evaluación (0.0 - 0.4 - 0.6): '))\n",
        "\n",
        "resultado = calcularPuntaje(puntaje)\n",
        "\n",
        "if resultado:\n",
        "  print(f'El nivel del empleado fue {resultado[1]}, por lo cual recibirá una bonificación de ${resultado[0]}')\n",
        "else:\n",
        "  print(f'El puntaje ingresado no se encuentra dentro de los permitidos')"
      ]
    },
    {
      "cell_type": "markdown",
      "metadata": {
        "id": "8_rNpcyxXmWf"
      },
      "source": [
        "## Ejercicio 9"
      ]
    },
    {
      "cell_type": "markdown",
      "metadata": {
        "id": "z3EnGhPwXmWf"
      },
      "source": [
        "Escribir un programa para una empresa que tiene salas de juegos para todas las edades y quiere calcular de forma automática el precio que debe cobrar a sus clientes por entrar. El programa debe preguntar al usuario la edad del cliente y mostrar el precio de la entrada. Si el cliente es menor de 4 años puede entrar gratis, si tiene entre 4 y 18 años debe pagar 50 pesos y si es mayor de 18 años, 100 pesos."
      ]
    },
    {
      "cell_type": "code",
      "execution_count": 58,
      "metadata": {
        "colab": {
          "base_uri": "https://localhost:8080/",
          "height": 0
        },
        "id": "466k4agDXmWf",
        "outputId": "605d180c-e5db-42cd-a152-7a5e3a3b7e32"
      },
      "outputs": [
        {
          "output_type": "stream",
          "name": "stdout",
          "text": [
            "Ingrese su edad del cliente : 2\n",
            "El cliente puede ingresar gratuitamente\n"
          ]
        }
      ],
      "source": [
        "def precio_entrada(edad):\n",
        "  if edad < 4:\n",
        "    print(f'El cliente puede ingresar gratuitamente')\n",
        "  elif 4 <= edad < 18:\n",
        "    print(f'El cliente debe pagar $50 por su entrada') \n",
        "  elif 18 <= edad:\n",
        "    print(f'El cliente debe pagar $100 por su entrada') \n",
        "\n",
        "edad = int(input(\"Ingrese su edad del cliente : \"))\n",
        "\n",
        "precio_entrada(edad)\n"
      ]
    },
    {
      "cell_type": "markdown",
      "metadata": {
        "id": "z5nR_1hbXmWf"
      },
      "source": [
        "## Ejercicio 10"
      ]
    },
    {
      "cell_type": "markdown",
      "metadata": {
        "id": "WvaAgJq7XmWg"
      },
      "source": [
        "La pizzería Bella Napoli ofrece pizzas vegetarianas y no vegetarianas a sus clientes. Los ingredientes para cada tipo de pizza aparecen a continuación.\n",
        "\n",
        "<ul>\n",
        "<li>Ingredientes vegetarianos: Pimiento y tofu.</li>\n",
        "<li>Ingredientes no vegetarianos: Peperoni, Jamón y Salmón.</li>\n",
        "</ul>\n",
        "\n",
        "Escribir un programa que pregunte al usuario si quiere una pizza vegetariana o no, y en función de su respuesta le muestre un menú con los ingredientes disponibles para que elija. Solo se puede eligir un ingrediente además de la mozzarella y el tomate que están en todas la pizzas. Al final se debe mostrar por pantalla si la pizza elegida es vegetariana o no y todos los ingredientes que lleva."
      ]
    },
    {
      "cell_type": "code",
      "execution_count": 98,
      "metadata": {
        "colab": {
          "base_uri": "https://localhost:8080/",
          "height": 0
        },
        "id": "62VOgze2XmWg",
        "outputId": "dfea9e4b-1938-4357-e7b3-3a942fa33efb"
      },
      "outputs": [
        {
          "output_type": "stream",
          "name": "stdout",
          "text": [
            "¿Que pizza desea? [VEGETARIANA o NORMAL], Ingrese una de las dos opciones :vegetariana\n",
            "Ingrese uno de los ingredientes mencionados ['pimenton', 'tofu']:Pimenton\n",
            "##### ORDEN ######\n",
            "mozzarella\n",
            "salsa de tomate\n",
            "pimenton\n",
            "##################\n"
          ]
        }
      ],
      "source": [
        "ingredientes = ['mozzarella', 'salsa de tomate']\n",
        "normal = ['peperoni', 'jamon', 'salmon']\n",
        "veg = ['pimenton', 'tofu']\n",
        "\n",
        "def imprimir(value):\n",
        "    print('##### ORDEN ######')\n",
        "    for i in ingredientes:\n",
        "       print(i)\n",
        "    print('##################')\n",
        "\n",
        "\n",
        "def validarIngrediente(ing):\n",
        "    resp = False\n",
        "    while not resp:\n",
        "      seleccion = str(input(f'Ingrese uno de los ingredientes mencionados {ing}:'))\n",
        "      resp = seleccion.lower() in ing\n",
        "      if not resp:\n",
        "        print('Error, ingrese un ingrediente valido')\n",
        "    ingredientes.append(seleccion.lower())\n",
        "\n",
        "\n",
        "def opcionPizza():\n",
        "  opcion = input('¿Que pizza desea? [VEGETARIANA o NORMAL], Ingrese una de las dos opciones :')\n",
        "  if opcion.lower() == 'vegetariana':\n",
        "    validarIngrediente(veg)\n",
        "    imprimir(veg)\n",
        "  elif opcion.lower() == 'normal':\n",
        "    validarIngrediente(normal)\n",
        "    imprimir(normal)\n",
        "  else: \n",
        "    print('Debe ingresar una opcion valida')\n",
        "    opcionPizza()\n",
        "  \n",
        "\n",
        "opcionPizza()\n",
        "\n"
      ]
    },
    {
      "cell_type": "code",
      "source": [
        ""
      ],
      "metadata": {
        "id": "iTuFrSnlES-U"
      },
      "execution_count": null,
      "outputs": []
    }
  ],
  "metadata": {
    "kernelspec": {
      "display_name": "Python 3",
      "language": "python",
      "name": "python3"
    },
    "language_info": {
      "codemirror_mode": {
        "name": "ipython",
        "version": 3
      },
      "file_extension": ".py",
      "mimetype": "text/x-python",
      "name": "python",
      "nbconvert_exporter": "python",
      "pygments_lexer": "ipython3",
      "version": "3.6.9"
    },
    "colab": {
      "name": "Ejercitación 1.2 -Condicionales.ipynb",
      "provenance": []
    }
  },
  "nbformat": 4,
  "nbformat_minor": 0
}