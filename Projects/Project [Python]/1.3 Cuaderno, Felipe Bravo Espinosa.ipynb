{
  "cells": [
    {
      "cell_type": "markdown",
      "metadata": {
        "id": "I-oZ7HBhVku1"
      },
      "source": [
        "# Ejercicios de Bucles"
      ]
    },
    {
      "cell_type": "markdown",
      "metadata": {
        "id": "vqA4lcU0Vku3"
      },
      "source": [
        "## Ejercicio 1"
      ]
    },
    {
      "cell_type": "markdown",
      "metadata": {
        "id": "ezWr5JqjVku4"
      },
      "source": [
        "Escribir un programa que pida al usuario una palabra y la muestre por pantalla 10 veces."
      ]
    },
    {
      "cell_type": "code",
      "execution_count": 1,
      "metadata": {
        "colab": {
          "base_uri": "https://localhost:8080/"
        },
        "id": "2-9bNTbyVku4",
        "outputId": "924c15b4-6244-4c58-9fa6-769088a34a89"
      },
      "outputs": [
        {
          "output_type": "stream",
          "name": "stdout",
          "text": [
            "Ingrese una palabra: Pizza\n",
            "1 - Pizza\n",
            "2 - Pizza\n",
            "3 - Pizza\n",
            "4 - Pizza\n",
            "5 - Pizza\n",
            "6 - Pizza\n",
            "7 - Pizza\n",
            "8 - Pizza\n",
            "9 - Pizza\n",
            "10 - Pizza\n"
          ]
        }
      ],
      "source": [
        "def showByAmount(value, amount = 10):\n",
        "  for a in range(amount):\n",
        "    print(f'{a+1} - {value}')\n",
        "\n",
        "word = input(\"Ingrese una palabra: \")\n",
        "showByAmount(word)"
      ]
    },
    {
      "cell_type": "markdown",
      "metadata": {
        "id": "H_B-P9HtVku4"
      },
      "source": [
        "## Ejercicio 2"
      ]
    },
    {
      "cell_type": "markdown",
      "metadata": {
        "id": "skKBmZmcVku5"
      },
      "source": [
        "Escribir un programa que pregunte al usuario su edad y muestre por pantalla todos los años que ha cumplido (desde 1 hasta su edad)."
      ]
    },
    {
      "cell_type": "code",
      "execution_count": null,
      "metadata": {
        "colab": {
          "base_uri": "https://localhost:8080/"
        },
        "id": "e_thkXiDVku5",
        "outputId": "f5b1271c-fc8b-4ca9-9400-b53eff830021"
      },
      "outputs": [
        {
          "output_type": "stream",
          "name": "stdout",
          "text": [
            "Ingrese su edad: 32\n",
            "1 Year\n",
            "2 Year`s\n",
            "3 Year`s\n",
            "4 Year`s\n",
            "5 Year`s\n",
            "6 Year`s\n",
            "7 Year`s\n",
            "8 Year`s\n",
            "9 Year`s\n",
            "10 Year`s\n",
            "11 Year`s\n",
            "12 Year`s\n",
            "13 Year`s\n",
            "14 Year`s\n",
            "15 Year`s\n",
            "16 Year`s\n",
            "17 Year`s\n",
            "18 Year`s\n",
            "19 Year`s\n",
            "20 Year`s\n",
            "21 Year`s\n",
            "22 Year`s\n",
            "23 Year`s\n",
            "24 Year`s\n",
            "25 Year`s\n",
            "26 Year`s\n",
            "27 Year`s\n",
            "28 Year`s\n",
            "29 Year`s\n",
            "30 Year`s\n",
            "31 Year`s\n",
            "32 Year`s\n"
          ]
        }
      ],
      "source": [
        "def show_age(age):\n",
        "  for a in range(age):\n",
        "    if a+1 == 1:\n",
        "      print(f'{a+1} Year')\n",
        "    else:\n",
        "      print(f'{a+1} Year`s')\n",
        "\n",
        "age = int(input(\"Ingrese su edad: \"))\n",
        "show_age(age)"
      ]
    },
    {
      "cell_type": "markdown",
      "metadata": {
        "id": "HGW5nJi-Vku6"
      },
      "source": [
        "## Ejercicio 3"
      ]
    },
    {
      "cell_type": "markdown",
      "metadata": {
        "id": "gCk6kEJtVku6"
      },
      "source": [
        "Escribir un programa que pida al usuario un número entero positivo y muestre por pantalla todos los números impares desde 1 hasta ese número separados por comas."
      ]
    },
    {
      "cell_type": "code",
      "execution_count": null,
      "metadata": {
        "colab": {
          "base_uri": "https://localhost:8080/"
        },
        "id": "2qxqK7RGVku7",
        "outputId": "e7156400-8e91-4aa3-efa7-ac543601489d"
      },
      "outputs": [
        {
          "output_type": "stream",
          "name": "stdout",
          "text": [
            "Ingrese un numero entero positivo: -21\n",
            "Error, solo puede ingresar numeros positivos\n",
            "Ingrese un numero entero positivo: 21\n",
            "1, 3, 5, 7, 9, 11, 13, 15, 17, 19, 21, "
          ]
        }
      ],
      "source": [
        "def calculate_odd(odd):\n",
        "  for a in range(odd):\n",
        "    a+=1\n",
        "    if a % 2 != 0:\n",
        "      print(f'{a},', end=' ')\n",
        "\n",
        "n = False\n",
        "while not n:\n",
        "  number = int(input(\"Ingrese un numero entero positivo: \"))\n",
        "  n = number > 0\n",
        "  if not n:\n",
        "    print(\"Error, solo puede ingresar numeros positivos\")\n",
        "\n",
        "calculate_odd(number)"
      ]
    },
    {
      "cell_type": "markdown",
      "metadata": {
        "id": "iG3aS0uwVku7"
      },
      "source": [
        "## Ejercicio 4"
      ]
    },
    {
      "cell_type": "markdown",
      "metadata": {
        "id": "kZvArAUVVku7"
      },
      "source": [
        "Escribir un programa que pida al usuario un número entero positivo y muestre por pantalla la cuenta atrás desde ese número hasta cero separados por comas."
      ]
    },
    {
      "cell_type": "code",
      "execution_count": null,
      "metadata": {
        "colab": {
          "base_uri": "https://localhost:8080/"
        },
        "id": "Mr99OhONVku7",
        "outputId": "e3af3e1e-2e61-4645-90a5-93bf6858fcfa"
      },
      "outputs": [
        {
          "output_type": "stream",
          "name": "stdout",
          "text": [
            "Ingrese un numero entero positivo: 56\n",
            "56, 55, 54, 53, 52, 51, 50, 49, 48, 47, 46, 45, 44, 43, 42, 41, 40, 39, 38, 37, 36, 35, 34, 33, 32, 31, 30, 29, 28, 27, 26, 25, 24, 23, 22, 21, 20, 19, 18, 17, 16, 15, 14, 13, 12, 11, 10, 9, 8, 7, 6, 5, 4, 3, 2, 1, 0, "
          ]
        }
      ],
      "source": [
        "def countDown(count):\n",
        "  for c in range(count + 1):\n",
        "    print(f'{count-c},', end=' ')\n",
        "\n",
        "n = False\n",
        "while not n:\n",
        "  number = int(input(\"Ingrese un numero entero positivo: \"))\n",
        "  n = number > 0\n",
        "  if not n:\n",
        "    print(\"Error, solo puede ingresar numeros positivos\")\n",
        "\n",
        "countDown(number)"
      ]
    },
    {
      "cell_type": "markdown",
      "metadata": {
        "id": "SQAdSeUSVku8"
      },
      "source": [
        "## Ejercicio 5"
      ]
    },
    {
      "cell_type": "markdown",
      "metadata": {
        "id": "vr8_aNHeVku8"
      },
      "source": [
        "Escribir un programa que pregunte al usuario una cantidad a invertir, el interés anual y el número de años, y muestre por pantalla el capital obtenido en la inversión cada año que dura la inversión."
      ]
    },
    {
      "cell_type": "code",
      "execution_count": null,
      "metadata": {
        "colab": {
          "base_uri": "https://localhost:8080/"
        },
        "id": "Esp86N34Vku8",
        "outputId": "7da4d963-63e1-413c-93f7-f31215305f63"
      },
      "outputs": [
        {
          "output_type": "stream",
          "name": "stdout",
          "text": [
            "Ingrese una cantidad a invertir: 200\n",
            "Ingrese un interes anual(%): 10\n",
            "Ingrese el numero de años: 4\n",
            "--------------------------------------------------\n",
            "\n",
            "      Años: 1  -  Cantidad de inversión: $200  -  Porcentaje respecto a la cantidad: $20  -  Inversión anual: 220\n",
            "      \n",
            "\n",
            "      Años: 2  -  Cantidad de inversión: $220  -  Porcentaje respecto a la cantidad: $22  -  Inversión anual: 242\n",
            "      \n",
            "\n",
            "      Años: 3  -  Cantidad de inversión: $242  -  Porcentaje respecto a la cantidad: $24  -  Inversión anual: 266\n",
            "      \n",
            "\n",
            "      Años: 4  -  Cantidad de inversión: $266  -  Porcentaje respecto a la cantidad: $26  -  Inversión anual: 292\n",
            "      \n",
            "--------------------------------------------------\n"
          ]
        }
      ],
      "source": [
        "def calcular_inversion(cantidad, interes, anos):\n",
        "    print(\"--------------------------------------------------\")\n",
        "    for a in range(anos):\n",
        "      print(f'''\n",
        "      Años: {a + 1}  -  Cantidad de inversión: ${int(cantidad)}  -  Porcentaje respecto a la cantidad: ${int(cantidad*interes/100)}  -  Inversión anual: ${int(cantidad + cantidad*interes/100)}\n",
        "      ''')\n",
        "      cantidad += cantidad * ( interes / 100 )\n",
        "    print(\"--------------------------------------------------\")\n",
        " \n",
        "\n",
        "\n",
        "\n",
        "dinero = int(input(\"Ingrese una cantidad a invertir: \"))\n",
        "interes = int(input(\"Ingrese un interes anual(%): \"))\n",
        "anos = int(input(\"Ingrese el numero de años: \"))\n",
        "\n",
        "calcular_inversion(dinero, interes, anos)"
      ]
    },
    {
      "cell_type": "markdown",
      "metadata": {
        "id": "SK9AKipFVku8"
      },
      "source": [
        "## Ejercicio 6"
      ]
    },
    {
      "cell_type": "markdown",
      "metadata": {
        "id": "3HhBGKW6Vku8"
      },
      "source": [
        "Escribir un programa que pida al usuario un número entero y muestre por pantalla un triángulo rectángulo como el de más abajo, de altura el número introducido.\n",
        "<pre><code>*\n",
        "**\n",
        "***\n",
        "****\n",
        "*****\n",
        "</code></pre>"
      ]
    },
    {
      "cell_type": "code",
      "execution_count": null,
      "metadata": {
        "colab": {
          "base_uri": "https://localhost:8080/"
        },
        "id": "K6Hk_hiJVku9",
        "outputId": "a6d6a682-ab5f-4217-9e34-3758f77b19ae"
      },
      "outputs": [
        {
          "output_type": "stream",
          "name": "stdout",
          "text": [
            "Ingrese un numero entero positivo: -32\n",
            "Error, solo puede ingresar numeros positivos\n",
            "Ingrese un numero entero positivo: 21\n",
            "\n",
            "*\n",
            "**\n",
            "***\n",
            "****\n",
            "*****\n",
            "******\n",
            "*******\n",
            "********\n",
            "*********\n",
            "**********\n",
            "***********\n",
            "************\n",
            "*************\n",
            "**************\n",
            "***************\n",
            "****************\n",
            "*****************\n",
            "******************\n",
            "*******************\n",
            "********************\n"
          ]
        }
      ],
      "source": [
        "def triangulo(value):\n",
        "  for i in range(value):\n",
        "    print(i*\"*\")\n",
        "\n",
        "n = False\n",
        "while not n:\n",
        "  number = int(input(\"Ingrese un numero entero positivo: \"))\n",
        "  n = number > 0\n",
        "  if not n:\n",
        "    print(\"Error, solo puede ingresar numeros positivos\")\n",
        "\n",
        "triangulo(number)"
      ]
    },
    {
      "cell_type": "markdown",
      "metadata": {
        "id": "AxFWGqBZVku9"
      },
      "source": [
        "## Ejercicio 7"
      ]
    },
    {
      "cell_type": "markdown",
      "metadata": {
        "id": "Cct6u_XhVku9"
      },
      "source": [
        "Escribir un programa que muestre por pantalla la tabla de multiplicar del 1 al 10."
      ]
    },
    {
      "cell_type": "code",
      "execution_count": null,
      "metadata": {
        "colab": {
          "base_uri": "https://localhost:8080/"
        },
        "id": "lcpyIN67Vku9",
        "outputId": "f86a8c7e-0614-446f-8007-8a9e8d1a95d0"
      },
      "outputs": [
        {
          "output_type": "stream",
          "name": "stdout",
          "text": [
            "-------------------------\n",
            "1 * 1 = 1\n",
            "1 * 2 = 2\n",
            "1 * 3 = 3\n",
            "1 * 4 = 4\n",
            "1 * 5 = 5\n",
            "1 * 6 = 6\n",
            "1 * 7 = 7\n",
            "1 * 8 = 8\n",
            "1 * 9 = 9\n",
            "1 * 10 = 10\n",
            "-------------------------\n",
            "2 * 1 = 2\n",
            "2 * 2 = 4\n",
            "2 * 3 = 6\n",
            "2 * 4 = 8\n",
            "2 * 5 = 10\n",
            "2 * 6 = 12\n",
            "2 * 7 = 14\n",
            "2 * 8 = 16\n",
            "2 * 9 = 18\n",
            "2 * 10 = 20\n",
            "-------------------------\n",
            "3 * 1 = 3\n",
            "3 * 2 = 6\n",
            "3 * 3 = 9\n",
            "3 * 4 = 12\n",
            "3 * 5 = 15\n",
            "3 * 6 = 18\n",
            "3 * 7 = 21\n",
            "3 * 8 = 24\n",
            "3 * 9 = 27\n",
            "3 * 10 = 30\n",
            "-------------------------\n",
            "4 * 1 = 4\n",
            "4 * 2 = 8\n",
            "4 * 3 = 12\n",
            "4 * 4 = 16\n",
            "4 * 5 = 20\n",
            "4 * 6 = 24\n",
            "4 * 7 = 28\n",
            "4 * 8 = 32\n",
            "4 * 9 = 36\n",
            "4 * 10 = 40\n",
            "-------------------------\n",
            "5 * 1 = 5\n",
            "5 * 2 = 10\n",
            "5 * 3 = 15\n",
            "5 * 4 = 20\n",
            "5 * 5 = 25\n",
            "5 * 6 = 30\n",
            "5 * 7 = 35\n",
            "5 * 8 = 40\n",
            "5 * 9 = 45\n",
            "5 * 10 = 50\n",
            "-------------------------\n",
            "6 * 1 = 6\n",
            "6 * 2 = 12\n",
            "6 * 3 = 18\n",
            "6 * 4 = 24\n",
            "6 * 5 = 30\n",
            "6 * 6 = 36\n",
            "6 * 7 = 42\n",
            "6 * 8 = 48\n",
            "6 * 9 = 54\n",
            "6 * 10 = 60\n",
            "-------------------------\n",
            "7 * 1 = 7\n",
            "7 * 2 = 14\n",
            "7 * 3 = 21\n",
            "7 * 4 = 28\n",
            "7 * 5 = 35\n",
            "7 * 6 = 42\n",
            "7 * 7 = 49\n",
            "7 * 8 = 56\n",
            "7 * 9 = 63\n",
            "7 * 10 = 70\n",
            "-------------------------\n",
            "8 * 1 = 8\n",
            "8 * 2 = 16\n",
            "8 * 3 = 24\n",
            "8 * 4 = 32\n",
            "8 * 5 = 40\n",
            "8 * 6 = 48\n",
            "8 * 7 = 56\n",
            "8 * 8 = 64\n",
            "8 * 9 = 72\n",
            "8 * 10 = 80\n",
            "-------------------------\n",
            "9 * 1 = 9\n",
            "9 * 2 = 18\n",
            "9 * 3 = 27\n",
            "9 * 4 = 36\n",
            "9 * 5 = 45\n",
            "9 * 6 = 54\n",
            "9 * 7 = 63\n",
            "9 * 8 = 72\n",
            "9 * 9 = 81\n",
            "9 * 10 = 90\n",
            "-------------------------\n",
            "10 * 1 = 10\n",
            "10 * 2 = 20\n",
            "10 * 3 = 30\n",
            "10 * 4 = 40\n",
            "10 * 5 = 50\n",
            "10 * 6 = 60\n",
            "10 * 7 = 70\n",
            "10 * 8 = 80\n",
            "10 * 9 = 90\n",
            "10 * 10 = 100\n"
          ]
        }
      ],
      "source": [
        "def multiplication_table():\n",
        "  for x in range(10):\n",
        "      x += 1\n",
        "      print(\"-------------------------\")\n",
        "      for y in range(1,11):\n",
        "        print(f'{x} * {y} = {x*y}')\n",
        "\n",
        "multiplication_table()"
      ]
    },
    {
      "cell_type": "markdown",
      "metadata": {
        "id": "EE7tzIZKVku9"
      },
      "source": [
        "## Ejercicio 8"
      ]
    },
    {
      "cell_type": "markdown",
      "metadata": {
        "id": "ULwFldvbVku-"
      },
      "source": [
        "Escribir un programa que pida al usuario un número entero y muestre por pantalla un triángulo rectángulo como el de más abajo.\n",
        "<pre><code>1\n",
        "3 1\n",
        "5 3 1\n",
        "7 5 3 1\n",
        "9 7 5 3 1\n",
        "</code></pre>"
      ]
    },
    {
      "cell_type": "code",
      "execution_count": null,
      "metadata": {
        "colab": {
          "base_uri": "https://localhost:8080/"
        },
        "id": "Eu3lSKRtVku-",
        "outputId": "d681369a-937d-4e30-cf06-3e2de8947f0a"
      },
      "outputs": [
        {
          "output_type": "stream",
          "name": "stdout",
          "text": [
            "Ingrese un numero entero positivo: 3\n",
            "1 \n",
            "3 1 \n"
          ]
        }
      ],
      "source": [
        "def triangulo(value):\n",
        "  for v in range(1, value+1, 2):\n",
        "    for i in range(v, 0, -2):\n",
        "        print(i, end=\" \")\n",
        "    print(\"\")\n",
        "\n",
        "n = False\n",
        "while not n:\n",
        "  number = int(input(\"Ingrese un numero entero positivo: \"))\n",
        "  n = number > 0\n",
        "  if not n:\n",
        "    print(\"Error, solo puede ingresar numeros positivos\")\n",
        "\n",
        "triangulo(number)"
      ]
    },
    {
      "cell_type": "markdown",
      "metadata": {
        "id": "kNrAW0OgVku-"
      },
      "source": [
        "## Ejercicio 9"
      ]
    },
    {
      "cell_type": "markdown",
      "metadata": {
        "id": "D90UKk7rVku-"
      },
      "source": [
        "Escribir un programa que almacene la cadena de caracteres <font color=#B40431>contraseña</font> en una variable, pregunte al usuario por la contraseña hasta que introduzca la contraseña correcta."
      ]
    },
    {
      "cell_type": "code",
      "execution_count": null,
      "metadata": {
        "colab": {
          "base_uri": "https://localhost:8080/"
        },
        "id": "74HcUekbVku-",
        "outputId": "c0017daf-47d6-46d8-82f4-22140cba1cf5"
      },
      "outputs": [
        {
          "output_type": "stream",
          "name": "stdout",
          "text": [
            "Ingrese una contraseña: Ingrese\n",
            "Error, las contraseñas no coinciden\n",
            "Ingrese una contraseña: Alma2021\n",
            "Bienvenido a la sesión!\n"
          ]
        }
      ],
      "source": [
        "previous_pw = \"alma2021\"\n",
        "p = False\n",
        "while not p:\n",
        "  pw = input(\"Ingrese una contraseña: \")\n",
        "  p = pw.lower() == previous_pw\n",
        "  if not p:\n",
        "    print(\"Error, las contraseñas no coinciden\")\n",
        "\n",
        "print(\"Bienvenido a la sesión!\")"
      ]
    },
    {
      "cell_type": "markdown",
      "metadata": {
        "id": "Byf_FlQpVku-"
      },
      "source": [
        "## Ejercicio 10"
      ]
    },
    {
      "cell_type": "markdown",
      "metadata": {
        "id": "j0XDLzeGVku-"
      },
      "source": [
        "Escribir un programa que pida al usuario un número entero y muestre por pantalla si es un número primo o no."
      ]
    },
    {
      "cell_type": "code",
      "execution_count": 2,
      "metadata": {
        "colab": {
          "base_uri": "https://localhost:8080/"
        },
        "id": "N9xEOUWmVku_",
        "outputId": "cf66d480-e492-4932-a876-c5115850d7af"
      },
      "outputs": [
        {
          "output_type": "stream",
          "name": "stdout",
          "text": [
            "Introduce un número entero positivo mayor que 2: 0\n",
            "Error, debe ingresar un numero mayor a 2\n",
            "Introduce un número entero positivo mayor que 2: 2\n",
            "Error, debe ingresar un numero mayor a 2\n",
            "Introduce un número entero positivo mayor que 2: 19\n",
            "19 es un numero primo\n"
          ]
        }
      ],
      "source": [
        "def is_prime(n):\n",
        "  for i in range(2, n):\n",
        "      if n % i == 0:\n",
        "          break\n",
        "  if (i + 1)  == n:\n",
        "      print(f'{n} es un numero primo')\n",
        "  else: \n",
        "      print(f'{n} no es un numero primo')\n",
        "\n",
        "n = False\n",
        "while not n:\n",
        "  number = int(input(\"Introduce un número entero positivo mayor que 2: \"))\n",
        "  n = number > 2\n",
        "  if not n:\n",
        "    print(\"Error, debe ingresar un numero mayor a 2\")\n",
        "\n",
        "is_prime(number)\n",
        "\n"
      ]
    },
    {
      "cell_type": "markdown",
      "metadata": {
        "id": "SywtClGsVku_"
      },
      "source": [
        "## Ejercicio 11"
      ]
    },
    {
      "cell_type": "markdown",
      "metadata": {
        "id": "yjedaiLKVku_"
      },
      "source": [
        "Escribir un programa que pida al usuario una palabra y luego muestre por pantalla una a una las letras de la palabra introducida empezando por la última."
      ]
    },
    {
      "cell_type": "code",
      "execution_count": null,
      "metadata": {
        "colab": {
          "base_uri": "https://localhost:8080/"
        },
        "id": "j9sKMp8ZVku_",
        "outputId": "877f97eb-a1d4-48ef-c863-af8aab88fb4a"
      },
      "outputs": [
        {
          "output_type": "stream",
          "name": "stdout",
          "text": [
            "Ingrese una palabra: Felipe\n",
            "e\n",
            "p\n",
            "i\n",
            "l\n",
            "e\n",
            "F\n"
          ]
        }
      ],
      "source": [
        "def recorrerPalabra(palabra):\n",
        "  value = palabra[::-1]\n",
        "  for p in value:\n",
        "    print(p)\n",
        "\n",
        "palabra = str(input(\"Ingrese una palabra: \"))\n",
        "recorrerPalabra(palabra)"
      ]
    },
    {
      "cell_type": "markdown",
      "metadata": {
        "id": "B2zA_HX-Vku_"
      },
      "source": [
        "## Ejercicio 12"
      ]
    },
    {
      "cell_type": "markdown",
      "metadata": {
        "id": "lXPO5Ej5Vku_"
      },
      "source": [
        "Escribir un programa en el que se pregunte al usuario por una frase y una letra, y muestre por pantalla el número de veces que aparece la letra en la frase."
      ]
    },
    {
      "cell_type": "code",
      "execution_count": null,
      "metadata": {
        "colab": {
          "base_uri": "https://localhost:8080/"
        },
        "id": "DoU2WsiwVku_",
        "outputId": "9d597df7-0f0b-495e-c7ac-5bc46a1fd3ab"
      },
      "outputs": [
        {
          "output_type": "stream",
          "name": "stdout",
          "text": [
            "Ingrese una frase: 34\n",
            "Ingrese una letra: 5\n",
            " La letra \"5\" aparece \"0\" en la palabra \"34\"\n"
          ]
        }
      ],
      "source": [
        "def validar_letra():\n",
        "  l = False\n",
        "  while not l:\n",
        "    letra = str(input(\"Ingrese una letra: \"))\n",
        "    l = len(letra) == 1\n",
        "    if not l:\n",
        "      print(\"Error, debe ingresar una sola letra !\")\n",
        "  return letra \n",
        "\n",
        "frase = str(input(\"Ingrese una frase: \"))\n",
        "letra = validar_letra()\n",
        "\n",
        "print(f' La letra \"{letra}\" aparece \"{frase.count(letra)}\" en la palabra \"{frase}\"')"
      ]
    },
    {
      "cell_type": "markdown",
      "metadata": {
        "id": "Nl2zJoj5Vku_"
      },
      "source": [
        "## Ejercicio 13"
      ]
    },
    {
      "cell_type": "markdown",
      "metadata": {
        "id": "Kxjru1QZVkvA"
      },
      "source": [
        "Escribir un programa que muestre el eco de todo lo que el usuario introduzca hasta que el usuario escriba “salir” que terminará."
      ]
    },
    {
      "cell_type": "code",
      "execution_count": null,
      "metadata": {
        "colab": {
          "base_uri": "https://localhost:8080/"
        },
        "id": "usLmYfd1VkvA",
        "outputId": "1aa8954e-8f86-4d4e-979d-ba958bdb3046"
      },
      "outputs": [
        {
          "output_type": "stream",
          "name": "stdout",
          "text": [
            "Ingrese un palabra: asdasd\n",
            "asdasd\n",
            "Ingrese un palabra: Fin\n",
            "Fin\n",
            "Ingrese un palabra: salir\n",
            "Fin\n"
          ]
        }
      ],
      "source": [
        "eco = \"\"\n",
        "while eco.lower() != \"salir\":\n",
        "  eco= str(input(\"Ingrese un palabra: \"))\n",
        "  if eco.lower() != \"salir\":\n",
        "    print(eco)\n",
        "\n",
        "print(\" ######## Fin del programa ######## \")"
      ]
    }
  ],
  "metadata": {
    "kernelspec": {
      "display_name": "Python 3",
      "language": "python",
      "name": "python3"
    },
    "language_info": {
      "codemirror_mode": {
        "name": "ipython",
        "version": 3
      },
      "file_extension": ".py",
      "mimetype": "text/x-python",
      "name": "python",
      "nbconvert_exporter": "python",
      "pygments_lexer": "ipython3",
      "version": "3.6.9"
    },
    "colab": {
      "name": "1.3 Cuaderno, Felipe Bravo Espinosa.ipynb",
      "provenance": []
    }
  },
  "nbformat": 4,
  "nbformat_minor": 0
}