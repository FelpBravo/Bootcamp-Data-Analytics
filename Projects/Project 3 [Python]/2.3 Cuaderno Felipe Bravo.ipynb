{
  "nbformat": 4,
  "nbformat_minor": 0,
  "metadata": {
    "colab": {
      "name": "Ejercitación 2.3 - Cadenas_de_forma_recursiva.ipynb",
      "provenance": [],
      "collapsed_sections": []
    },
    "kernelspec": {
      "name": "python3",
      "display_name": "Python 3"
    },
    "language_info": {
      "name": "python"
    }
  },
  "cells": [
    {
      "cell_type": "markdown",
      "metadata": {
        "id": "urPjNiT_2XYa"
      },
      "source": [
        "#Cadenas de forma recursiva (para pensar... y pensar)\n"
      ]
    },
    {
      "cell_type": "markdown",
      "metadata": {
        "id": "dj_0no622m6S"
      },
      "source": [
        "Implemente un programa recursivo que permita generar todas las combinaciones de tamaño k de los literales “A” (representando Azul) y “N” (representando Blanco).\n",
        "k se toma como parámetro. El orden importa, es decir BNB es distinto a BBN.\n",
        "\n",
        "Por ejemplo si k=3 las combinaciones son:\n",
        "\n",
        "![](https://drive.google.com/uc?export=view&id=1l7aYwBFd3B8h6tOkeW_PT0-AmWtjJWq6)\n",
        "\n",
        "El programa recibe el parámetro K y devuelve un arreglo de Strings con todas las combinaciones.\n",
        "\n",
        "Piense (no es necesario que lo implemente) como lo resolvería iterativo.\n"
      ]
    },
    {
      "cell_type": "code",
      "metadata": {
        "id": "ETC7X0ULH9tt",
        "colab": {
          "base_uri": "https://localhost:8080/"
        },
        "outputId": "7ce6c2d8-4ce6-49df-ee81-7ff40e40d2b1"
      },
      "source": [
        "from itertools import product\n",
        "import random\n",
        "\n",
        "#Se seleccionara al azar cualquiera de los siguientes valores\n",
        "array = [\"BN\",\"Azul\",\"Blanco\"]\n",
        "\n",
        "#Funcion para combinar los caracteres del string\n",
        "def start_combine(r):\n",
        "  for i in product(random.choice(array), repeat=r):\n",
        "    print(''.join(i)) \n",
        "\n",
        "resp = int(input(\"Ingrese el largo del string: \"))\n",
        "start_combine(resp)\n",
        "\n"
      ],
      "execution_count": 35,
      "outputs": [
        {
          "output_type": "stream",
          "name": "stdout",
          "text": [
            "Ingrese el largo del string: 3\n",
            "AAA\n",
            "AAz\n",
            "AAu\n",
            "AAl\n",
            "AzA\n",
            "Azz\n",
            "Azu\n",
            "Azl\n",
            "AuA\n",
            "Auz\n",
            "Auu\n",
            "Aul\n",
            "AlA\n",
            "Alz\n",
            "Alu\n",
            "All\n",
            "zAA\n",
            "zAz\n",
            "zAu\n",
            "zAl\n",
            "zzA\n",
            "zzz\n",
            "zzu\n",
            "zzl\n",
            "zuA\n",
            "zuz\n",
            "zuu\n",
            "zul\n",
            "zlA\n",
            "zlz\n",
            "zlu\n",
            "zll\n",
            "uAA\n",
            "uAz\n",
            "uAu\n",
            "uAl\n",
            "uzA\n",
            "uzz\n",
            "uzu\n",
            "uzl\n",
            "uuA\n",
            "uuz\n",
            "uuu\n",
            "uul\n",
            "ulA\n",
            "ulz\n",
            "ulu\n",
            "ull\n",
            "lAA\n",
            "lAz\n",
            "lAu\n",
            "lAl\n",
            "lzA\n",
            "lzz\n",
            "lzu\n",
            "lzl\n",
            "luA\n",
            "luz\n",
            "luu\n",
            "lul\n",
            "llA\n",
            "llz\n",
            "llu\n",
            "lll\n"
          ]
        }
      ]
    },
    {
      "cell_type": "code",
      "source": [
        ""
      ],
      "metadata": {
        "id": "sYfjHpvj8DQd"
      },
      "execution_count": null,
      "outputs": []
    }
  ]
}