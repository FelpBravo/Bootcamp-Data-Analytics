{
  "cells": [
    {
      "cell_type": "markdown",
      "metadata": {
        "id": "WuRy77QjGgMI"
      },
      "source": [
        "# Ejercicios de Funciones"
      ]
    },
    {
      "cell_type": "markdown",
      "metadata": {
        "id": "LiJTG-kVGgML"
      },
      "source": [
        "## Ejercicio 1"
      ]
    },
    {
      "cell_type": "markdown",
      "metadata": {
        "id": "KA8zMsf-GgML"
      },
      "source": [
        "Escribir una función que muestre por pantalla el saludo <font color=#B40431>¡Hola amiga!</font> cada vez que se la invoque."
      ]
    },
    {
      "cell_type": "code",
      "execution_count": null,
      "metadata": {
        "colab": {
          "base_uri": "https://localhost:8080/"
        },
        "id": "sCKrHI48GgMM",
        "outputId": "2f57b796-d028-4692-e5a7-7a673bfff3c2"
      },
      "outputs": [
        {
          "output_type": "stream",
          "name": "stdout",
          "text": [
            "¡Hola amiga!\n"
          ]
        }
      ],
      "source": [
        "def saludo():\n",
        "  print(\"¡Hola amiga!\")\n",
        "\n",
        "saludo()"
      ]
    },
    {
      "cell_type": "markdown",
      "metadata": {
        "id": "rymxXSBNGgMN"
      },
      "source": [
        "## Ejercicio 2"
      ]
    },
    {
      "cell_type": "markdown",
      "metadata": {
        "id": "MpKOa5_-GgMN"
      },
      "source": [
        "Escribir una función a la que se le pase una cadena <font color=#B40431>&#60;nombre&#62;</font> y muestre por pantalla el saludo <font color=#B40431>¡hola &#60;nombre&#62;!</font>."
      ]
    },
    {
      "cell_type": "code",
      "execution_count": null,
      "metadata": {
        "colab": {
          "base_uri": "https://localhost:8080/"
        },
        "id": "ETfI5YXMGgMN",
        "outputId": "a4ae1bcf-e4a4-476c-8c32-b70369bc41a2"
      },
      "outputs": [
        {
          "output_type": "stream",
          "name": "stdout",
          "text": [
            "Ingrese un nombre para el saludo : Felipe\n",
            "¡Hola Felipe!\n"
          ]
        }
      ],
      "source": [
        "def saludo(n):\n",
        "  print(f'¡Hola {n}!')\n",
        "\n",
        "nombre = input(\"Ingrese un nombre para el saludo : \")\n",
        "saludo(nombre)\n"
      ]
    },
    {
      "cell_type": "markdown",
      "metadata": {
        "id": "UQSC0ykyGgMO"
      },
      "source": [
        "## Ejercicio 3"
      ]
    },
    {
      "cell_type": "markdown",
      "metadata": {
        "id": "zgzTPsgXGgMO"
      },
      "source": [
        "Escribir una función que reciba un número entero positivo y devuelva su factorial."
      ]
    },
    {
      "cell_type": "code",
      "execution_count": 1,
      "metadata": {
        "colab": {
          "base_uri": "https://localhost:8080/",
          "height": 0
        },
        "id": "5FaDH-AYGgMP",
        "outputId": "3dfc865b-2615-4a39-ff0c-374c0197d29a"
      },
      "outputs": [
        {
          "name": "stdout",
          "output_type": "stream",
          "text": [
            "Ingrese un numero entero positivo: 4\n"
          ]
        },
        {
          "output_type": "execute_result",
          "data": {
            "text/plain": [
              "24"
            ]
          },
          "metadata": {},
          "execution_count": 1
        }
      ],
      "source": [
        "def factorial(n):\n",
        "  if n == 0:\n",
        "    return 1\n",
        "  else:\n",
        "    return n * factorial(n-1)\n",
        "\n",
        "n = False\n",
        "while not n:\n",
        "  numero = int(input(\"Ingrese un numero entero positivo: \"))\n",
        "  n = numero > 0\n",
        "  if not n:\n",
        "    print(\"Error, solo puede ingresar numeros positivos\")\n",
        "\n",
        "factorial(numero)\n"
      ]
    },
    {
      "cell_type": "markdown",
      "metadata": {
        "id": "Wfwg-HsMGgMP"
      },
      "source": [
        "## Ejercicio 4"
      ]
    },
    {
      "cell_type": "markdown",
      "metadata": {
        "id": "duTShAOmGgMP"
      },
      "source": [
        "Escribir una función que calcule el total de una factura tras aplicarle el IVA. La función debe recibir la cantidad sin IVA y el porcentaje de IVA a aplicar, y devolver el total de la factura. Si se invoca la función sin pasarle el porcentaje de IVA, deberá aplicar un 21%."
      ]
    },
    {
      "cell_type": "code",
      "execution_count": 3,
      "metadata": {
        "id": "DdyJZlwEGgMP",
        "colab": {
          "base_uri": "https://localhost:8080/",
          "height": 0
        },
        "outputId": "2eeca648-5a8b-44ea-c43a-7475ff34a789"
      },
      "outputs": [
        {
          "output_type": "execute_result",
          "data": {
            "text/plain": [
              "17303.0"
            ]
          },
          "metadata": {},
          "execution_count": 3
        }
      ],
      "source": [
        "def calcularIva(total, iva_percent=21):\n",
        "    return total*(1+iva_percent/100)\n",
        "\n",
        "calcularIva(14300)\n"
      ]
    },
    {
      "cell_type": "markdown",
      "metadata": {
        "id": "ARIckfXPGgMQ"
      },
      "source": [
        "## Ejercicio 5"
      ]
    },
    {
      "cell_type": "markdown",
      "metadata": {
        "id": "y-mLdyjXGgMQ"
      },
      "source": [
        "Escribir una función que calcule el área de un círculo y otra que calcule el volumen de un cilindro usando la primera función."
      ]
    },
    {
      "cell_type": "code",
      "execution_count": 9,
      "metadata": {
        "id": "XViqyHdUGgMQ",
        "colab": {
          "base_uri": "https://localhost:8080/",
          "height": 0
        },
        "outputId": "88be23fa-7268-4c33-93f6-6154b9bc9377"
      },
      "outputs": [
        {
          "output_type": "stream",
          "name": "stdout",
          "text": [
            "El volumen de un cilindro de radio 5 y altura 10: 150.79644737231007\n"
          ]
        }
      ],
      "source": [
        "import numpy as np\n",
        "\n",
        "def areaCirculo(r):\n",
        "    return 2*np.pi*r**2\n",
        "\n",
        "radio=2\n",
        "altura=6\n",
        "print(f\"El volumen de un cilindro de radio 5 y altura 10: {areaCirculo(radio)*altura}\")\n"
      ]
    },
    {
      "cell_type": "markdown",
      "metadata": {
        "id": "gn0Ye_3-GgMQ"
      },
      "source": [
        "## Ejercicio 6"
      ]
    },
    {
      "cell_type": "markdown",
      "metadata": {
        "id": "dpmLRjhNGgMQ"
      },
      "source": [
        "Escribir una función que reciba una muestra de números en una lista y devuelva su media."
      ]
    },
    {
      "cell_type": "code",
      "execution_count": 11,
      "metadata": {
        "id": "cnFFmOgyGgMR",
        "colab": {
          "base_uri": "https://localhost:8080/",
          "height": 0
        },
        "outputId": "056df751-60bc-4fe4-eee8-d436c691d4bf"
      },
      "outputs": [
        {
          "output_type": "stream",
          "name": "stdout",
          "text": [
            "La media de la muestra es: 320.2352941176471\n"
          ]
        }
      ],
      "source": [
        "import numpy as np\n",
        "\n",
        "def calcularMean(data):\n",
        "    return np.mean(data)\n",
        "\n",
        "misdatos=[1,5222,2,2,67,2,4,34,12,3,5,2,5,23,24,34,2]\n",
        "\n",
        "muestra = np.array(misdatos)\n",
        "print(f\"La media de la muestra es: {calcularMean(muestra)}\")"
      ]
    },
    {
      "cell_type": "markdown",
      "metadata": {
        "id": "apScVSXCGgMR"
      },
      "source": [
        "## Ejercicio 7"
      ]
    },
    {
      "cell_type": "markdown",
      "metadata": {
        "id": "e-fioQi8GgMR"
      },
      "source": [
        "Escribir una función que reciba una muestra de números en una lista y devuelva otra lista con sus cuadrados."
      ]
    },
    {
      "cell_type": "code",
      "execution_count": 31,
      "metadata": {
        "id": "SdSkkitsGgMR",
        "colab": {
          "base_uri": "https://localhost:8080/",
          "height": 0
        },
        "outputId": "4b271dc2-0583-49a6-abce-ba9c39d5835b"
      },
      "outputs": [
        {
          "output_type": "stream",
          "name": "stdout",
          "text": [
            "[1048576, 1419857, 1889568, 2476099, 3200000, 4084101, 5153632, 6436343, 7962624, 9765625, 11881376, 14348907, 17210368, 20511149, 24300000, 28629151, 33554432, 39135393, 45435424, 52521875, 60466176, 69343957, 79235168, 90224199, 102400000, 115856201, 130691232, 147008443, 164916224, 184528125, 205962976, 229345007, 254803968, 282475249, 312500000, 345025251, 380204032, 418195493, 459165024, 503284375, 550731776, 601692057, 656356768, 714924299, 777600000, 844596301, 916132832, 992436543]\n"
          ]
        }
      ],
      "source": [
        "from multiprocessing import Pool\n",
        "import numpy as np\n",
        "\n",
        "def squared(x):\n",
        "    return x**5\n",
        "\n",
        "pool = Pool(4)\n",
        "datos = np.arange(2**4,2**6)\n",
        "\n",
        "result_1 = list(pool.map(squared,datos))\n",
        "print(result_1)"
      ]
    },
    {
      "cell_type": "markdown",
      "metadata": {
        "id": "4GVu4P_2GgMR"
      },
      "source": [
        "## Ejercicio 8"
      ]
    },
    {
      "cell_type": "markdown",
      "metadata": {
        "id": "T1_SEQoRGgMR"
      },
      "source": [
        "Escribir una función que reciba una muestra de números en una lista y devuelva un diccionario con su media, varianza y desviación típica."
      ]
    },
    {
      "cell_type": "code",
      "execution_count": 32,
      "metadata": {
        "id": "WiVQ4Uv7GgMS",
        "colab": {
          "base_uri": "https://localhost:8080/",
          "height": 54
        },
        "outputId": "34c9c279-3a68-4797-9978-bfff0198515e"
      },
      "outputs": [
        {
          "output_type": "display_data",
          "data": {
            "text/plain": [
              "{'media': 39.5, 'std': 13.853399101544236}"
            ]
          },
          "metadata": {}
        },
        {
          "output_type": "execute_result",
          "data": {
            "text/plain": [
              "dict"
            ]
          },
          "metadata": {},
          "execution_count": 32
        }
      ],
      "source": [
        "def dictMedia(datos):\n",
        "    return dict({'media':np.mean(datos),\n",
        "                 'std':np.std(datos)})\n",
        "    \n",
        "display(dictMedia(datos))\n",
        "type(dictMedia(datos))"
      ]
    },
    {
      "cell_type": "markdown",
      "metadata": {
        "id": "8MvpMTD6GgMS"
      },
      "source": [
        "## Ejercicio 9"
      ]
    },
    {
      "cell_type": "markdown",
      "metadata": {
        "id": "n9VzMf-ZGgMS"
      },
      "source": [
        "Escribir una función que calcule el máximo común divisor de dos números y otra que calcule el mínimo común múltiplo."
      ]
    },
    {
      "cell_type": "code",
      "execution_count": 34,
      "metadata": {
        "id": "RM8BTTKBGgMS",
        "colab": {
          "base_uri": "https://localhost:8080/",
          "height": 54
        },
        "outputId": "3cc32a86-1f0c-4e5a-da20-afdbcadee8b6"
      },
      "outputs": [
        {
          "output_type": "display_data",
          "data": {
            "text/plain": [
              "1"
            ]
          },
          "metadata": {}
        },
        {
          "output_type": "display_data",
          "data": {
            "text/plain": [
              "110.0"
            ]
          },
          "metadata": {}
        }
      ],
      "source": [
        "def MCD(x,y):\n",
        "    return np.gcd(x,y)\n",
        "\n",
        "def MCM(x,y):\n",
        "    return x*y/MCD(x,y)\n",
        "\n",
        "display(MCD(13,22))\n",
        "display(MCM(5,22))"
      ]
    },
    {
      "cell_type": "markdown",
      "metadata": {
        "id": "xcidtSabGgMS"
      },
      "source": [
        "## Ejercicio 10"
      ]
    },
    {
      "cell_type": "markdown",
      "metadata": {
        "id": "QAAr1z04GgMS"
      },
      "source": [
        "Escribir una función que convierta un número decimal en binario y otra que convierta un número binario en decimal."
      ]
    },
    {
      "cell_type": "code",
      "execution_count": null,
      "metadata": {
        "colab": {
          "base_uri": "https://localhost:8080/"
        },
        "id": "IDxDeUC_GgMS",
        "outputId": "58e62270-6ac5-4088-e8b9-d78981c47800"
      },
      "outputs": [
        {
          "output_type": "stream",
          "name": "stdout",
          "text": [
            "Que tipo de numero decea ingresar [Binario - Decimal]: binario\n",
            "Ingrese el numero: 10101011\n",
            "171\n"
          ]
        }
      ],
      "source": [
        "def decimal_a_binario(decimal):\n",
        "    return print(int(bin(decimal)[2:]))\n",
        "\n",
        "def binario_a_decimal(binario):\n",
        "    return print(int(str(binario),2))\n",
        "            \n",
        "resp = str(input(\"Que tipo de numero decea ingresar [Binario - Decimal]: \"))\n",
        "\n",
        "if resp.lower() == \"binario\":\n",
        "    binario = int(input(\"Ingrese el numero: \"))\n",
        "    binario_a_decimal(binario)\n",
        "elif resp.lower() == \"decimal\":\n",
        "    decimal = int(input(\"Ingrese el numero: \"))\n",
        "    decimal_a_binario(decimal)\n",
        "\n"
      ]
    },
    {
      "cell_type": "markdown",
      "metadata": {
        "id": "lIAOVLXtGgMT"
      },
      "source": [
        "## Ejercicio 11"
      ]
    },
    {
      "cell_type": "markdown",
      "metadata": {
        "id": "6KYVqJvVGgMT"
      },
      "source": [
        "Escribir un programa que reciba una cadena de caracteres y devuelva un diccionario con cada palabra que contiene y su frecuencia. Escribir otra función que reciba el diccionario generado con la función anterior y devuelva una tupla con la palabra más repetida y su frecuencia."
      ]
    },
    {
      "cell_type": "code",
      "execution_count": 35,
      "metadata": {
        "colab": {
          "base_uri": "https://localhost:8080/",
          "height": 0
        },
        "id": "ZmuewkKDGgMT",
        "outputId": "a3ef0b07-ae1e-4c2f-f4d0-79950773418a"
      },
      "outputs": [
        {
          "output_type": "stream",
          "name": "stdout",
          "text": [
            "Ingrese una cadena de caracteres: Felipeeee\n",
            "('Felipeeee', 1)\n"
          ]
        }
      ],
      "source": [
        "def get_tupla(palabra):\n",
        "  palabras = palabra.split()\n",
        "  diccionario= {}\n",
        "\n",
        "  for p in palabras:\n",
        "    diccionario[p]=palabras.count(p)\n",
        "\n",
        "  maximo = max(diccionario, key = lambda key: diccionario[key])\n",
        "  \n",
        "  for k, v in diccionario.items():\n",
        "      if k == maximo:\n",
        "        tupla = (k, v)\n",
        "\n",
        "  return print(tupla)\n",
        "\n",
        "\n",
        "resp = str(input(\"Ingrese una cadena de caracteres: \"))\n",
        "get_tupla(resp)"
      ]
    },
    {
      "cell_type": "code",
      "source": [
        ""
      ],
      "metadata": {
        "id": "W_E1rOX0bYAP"
      },
      "execution_count": null,
      "outputs": []
    }
  ],
  "metadata": {
    "kernelspec": {
      "display_name": "Python 3",
      "language": "python",
      "name": "python3"
    },
    "language_info": {
      "codemirror_mode": {
        "name": "ipython",
        "version": 3
      },
      "file_extension": ".py",
      "mimetype": "text/x-python",
      "name": "python",
      "nbconvert_exporter": "python",
      "pygments_lexer": "ipython3",
      "version": "3.6.9"
    },
    "colab": {
      "name": "Ejercitacion_2_1_Funciones.ipynb",
      "provenance": []
    }
  },
  "nbformat": 4,
  "nbformat_minor": 0
}