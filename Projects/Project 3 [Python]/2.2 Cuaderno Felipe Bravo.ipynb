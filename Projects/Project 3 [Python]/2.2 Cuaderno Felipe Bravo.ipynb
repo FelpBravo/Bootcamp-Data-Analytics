{
  "cells": [
    {
      "cell_type": "markdown",
      "metadata": {
        "id": "P_wjAaX0bf_y"
      },
      "source": [
        "# Ejercicios de Programación Funcional"
      ]
    },
    {
      "cell_type": "markdown",
      "metadata": {
        "id": "4BJfdT-jbf_2"
      },
      "source": [
        "# Ejercicio 1"
      ]
    },
    {
      "cell_type": "markdown",
      "metadata": {
        "id": "e6A_h3afbf_3"
      },
      "source": [
        "Escribir una función que aplique un descuento a un precio y otra que aplique el IVA a un precio. Escribir una tercera función que reciba un diccionario con los precios y porcentajes de una cesta de la compra, y una de las funciones anteriores, y utilice la función pasada para aplicar los descuentos o el IVA a los productos de la canasta y devolver el precio final de la canasta."
      ]
    },
    {
      "cell_type": "code",
      "execution_count": 20,
      "metadata": {
        "colab": {
          "base_uri": "https://localhost:8080/"
        },
        "id": "hBMTT9Babf_3",
        "outputId": "a862d448-8406-4f52-ef03-4ec3205f664a"
      },
      "outputs": [
        {
          "output_type": "stream",
          "name": "stdout",
          "text": [
            "La suma total de la canasta con iva es: 241637.0\n",
            "La suma total de la canasta con descuento es: 54818.493719165046\n"
          ]
        }
      ],
      "source": [
        "import numpy as np\n",
        "from functools import reduce\n",
        "import operator as op\n",
        "def descto(precio,porcentaje):\n",
        "    return precio*(1-porcentaje/100)\n",
        "\n",
        "def IVA(precio,iva=21):\n",
        "    return precio*(1+iva/100)\n",
        "\n",
        "def calcular(dictionary, typeOperation=['iva','descuento']):\n",
        "    suma_canasta = []\n",
        "    if(typeOperation=='iva'):\n",
        "        for i,value in dictionary.items():\n",
        "            suma_canasta.append(IVA(value['precio'],21))\n",
        "    else:\n",
        "        for i,value in dictionary.items():\n",
        "            suma_canasta.append(descto(value['precio'],value['porcentaje']))\n",
        "    return suma_canasta\n",
        "\n",
        "canasta = dict({'id01':{'precio':1000,'porcentaje':np.random.rand()*100},\n",
        "                'id02':{'precio':2000,'porcentaje':np.random.rand()*100},\n",
        "                'id03':{'precio':3000,'porcentaje':np.random.rand()*100},\n",
        "                'id04':{'precio':4000,'porcentaje':np.random.rand()*100},\n",
        "                'id05':{'precio':54000,'porcentaje':np.random.rand()*100},\n",
        "                'id06':{'precio':12300,'porcentaje':np.random.rand()*100},\n",
        "                'id07':{'precio':123400,'porcentaje':np.random.rand()*100}})\n",
        "\n",
        "print(f\"La suma total de la canasta con iva es: {reduce(op.add,calcular(canasta,'iva'))}\")\n",
        "print(f\"La suma total de la canasta con descuento es: {reduce(op.add,calcular(canasta,'descuento'))}\")"
      ]
    },
    {
      "cell_type": "markdown",
      "metadata": {
        "id": "8edxyRBRbf_4"
      },
      "source": [
        "# Ejercicio 2"
      ]
    },
    {
      "cell_type": "markdown",
      "metadata": {
        "id": "HimxyjpQbf_4"
      },
      "source": [
        "Escribir una función que simule una calculadora científica que permita calcular el seno, coseno, tangente, exponencial y logaritmo neperiano. La función preguntará al usuario el valor y la función a aplicar, y mostrará por pantalla una tabla con los enteros de 1 al valor introducido y el resultado de aplicar la función a esos enteros."
      ]
    },
    {
      "cell_type": "code",
      "execution_count": 21,
      "metadata": {
        "id": "vl2US1UObf_5",
        "colab": {
          "base_uri": "https://localhost:8080/",
          "height": 118,
          "referenced_widgets": [
            "47140e0e945640e0b49b945259f71e20",
            "5483676187fa4054ad9d11e00cc4fb33",
            "c8c9e89f2e584d76947a6583961b9ad5",
            "dcd544be33d648f1a72ab7a20c055417",
            "22b7b5145e1240f0938db9406ea14901",
            "268f0886b2c84912b04c522e5fc9e157",
            "9c1bfabd1ba944cb934dc7a8a1dacf12"
          ]
        },
        "outputId": "9fa0d0e5-7057-45a8-bd79-086abd98f278"
      },
      "outputs": [
        {
          "name": "stdout",
          "output_type": "stream",
          "text": [
            "Ingresa un numero:\n",
            "\n",
            "4\n"
          ]
        },
        {
          "output_type": "display_data",
          "data": {
            "text/plain": [
              "interactive(children=(Dropdown(description='¿Que operacion?:\\n', options=('sin', 'cos', 'tan', 'exp', 'ln'), v…"
            ],
            "application/vnd.jupyter.widget-view+json": {
              "version_major": 2,
              "version_minor": 0,
              "model_id": "47140e0e945640e0b49b945259f71e20"
            }
          },
          "metadata": {}
        }
      ],
      "source": [
        "operaciones = ['sin','cos','tan','exp','ln']\n",
        "\n",
        "\n",
        "import ipywidgets as widgets\n",
        "\n",
        "type_op = widgets.Dropdown(options = operaciones,\n",
        "                            value='sin',\n",
        "                            description='¿Que operacion?:\\n',\n",
        "                            disabled=False)\n",
        "\n",
        "\n",
        "value= float(input(\"Ingresa un numero:\\n\\n\"))\n",
        "def calcular(option):\n",
        "    if(option=='sin'):\n",
        "        return np.sin(value)\n",
        "    if(option=='cos'):\n",
        "        return np.cos(value)\n",
        "    if(option=='tan'):\n",
        "        return np.tan(value)\n",
        "    if(option=='exp'):\n",
        "        return np.e**(value)\n",
        "    if(option=='ln'):\n",
        "        if(value<=0):\n",
        "            print(\"No se puede ingresar un numero negativo o cero, adios.\")\n",
        "            return -1\n",
        "        else:\n",
        "            return np.log(value)\n",
        "            \n",
        "\n",
        "widgets.interact(calcular,option=type_op); "
      ]
    },
    {
      "cell_type": "markdown",
      "metadata": {
        "id": "QI-2MREHbf_5"
      },
      "source": [
        "# Ejercicio 3"
      ]
    },
    {
      "cell_type": "markdown",
      "metadata": {
        "id": "bhuUGWQBbf_5"
      },
      "source": [
        "Escribir una función que reciba otra función y una lista, y devuelva otra lista con el resultado de aplicar la función dada a cada uno de los elementos de la lista."
      ]
    },
    {
      "cell_type": "code",
      "execution_count": 14,
      "metadata": {
        "id": "FABH66jpbf_6",
        "colab": {
          "base_uri": "https://localhost:8080/",
          "height": 0
        },
        "outputId": "ce600a31-9793-4c9c-c0dd-a131e676eb24"
      },
      "outputs": [
        {
          "output_type": "execute_result",
          "data": {
            "text/plain": [
              "[10, 20, 30, 40, 50, 60, 70, 80, 90, 100]"
            ]
          },
          "metadata": {},
          "execution_count": 14
        }
      ],
      "source": [
        "numbers = [1, 2, 3, 4, 5, 6, 7, 8, 9, 10]\n",
        "n = 10\n",
        "\n",
        "def receive(func, lis):\n",
        "  new_list = []\n",
        "  for l in lis:\n",
        "    new_list.append(func(l, n))\n",
        "  return new_list\n",
        "\n",
        "def calculare(v , m = 1):\n",
        "  return m*v\n",
        "\n",
        "receive(calculare, numbers)\n"
      ]
    },
    {
      "cell_type": "markdown",
      "metadata": {
        "id": "L-9Xo3mYbf_6"
      },
      "source": [
        "# Ejercicio 4"
      ]
    },
    {
      "cell_type": "markdown",
      "metadata": {
        "id": "isMOHRN3bf_7"
      },
      "source": [
        "Escribir una función que reciba otra función booleana y una lista, y devuelva otra lista con los elementos de la lista que devuelvan True al aplicarles la función booleana."
      ]
    },
    {
      "cell_type": "code",
      "execution_count": 19,
      "metadata": {
        "id": "tZFD-S5ybf_7",
        "colab": {
          "base_uri": "https://localhost:8080/",
          "height": 0
        },
        "outputId": "c30df3e8-48fe-4476-bc04-34afe7a13c9c"
      },
      "outputs": [
        {
          "output_type": "execute_result",
          "data": {
            "text/plain": [
              "[2, 4, 6, 8, 10]"
            ]
          },
          "metadata": {},
          "execution_count": 19
        }
      ],
      "source": [
        "numbers = [1, 2, 3, 4, 5, 6, 7, 8, 9, 10]\n",
        "\n",
        "def receive(func, lis):\n",
        "  new_list = []\n",
        "  for l in lis:\n",
        "    if func(l):\n",
        "      new_list.append(l)\n",
        "    else:\n",
        "      continue\n",
        "  return new_list\n",
        "\n",
        "def pair_number(n):\n",
        "  if n % 2 == 0:\n",
        "    return True\n",
        "  else:\n",
        "    return False\n",
        "\n",
        "\n",
        "receive(pair_number, numbers)"
      ]
    },
    {
      "cell_type": "markdown",
      "metadata": {
        "id": "mFADnvTnbf_7"
      },
      "source": [
        "# Ejercicio 5"
      ]
    },
    {
      "cell_type": "markdown",
      "metadata": {
        "id": "jknUqRJybf_8"
      },
      "source": [
        "Escribir una función que reciba una frase y devuelva un diccionario con las palabras que contiene y su longitud."
      ]
    },
    {
      "cell_type": "code",
      "execution_count": 22,
      "metadata": {
        "id": "AD6fmnNZbf_8",
        "colab": {
          "base_uri": "https://localhost:8080/"
        },
        "outputId": "f4c0de47-af79-4e1e-eccf-38dcf22aa2f0"
      },
      "outputs": [
        {
          "name": "stdout",
          "output_type": "stream",
          "text": [
            "Ingrese su frase: hola\n"
          ]
        },
        {
          "output_type": "execute_result",
          "data": {
            "text/plain": [
              "{'hola': 4}"
            ]
          },
          "metadata": {},
          "execution_count": 22
        }
      ],
      "source": [
        "frase = input(\"Ingrese su frase: \")\n",
        "\n",
        "def contador(frase):\n",
        "  lista_palabras = frase.split(\" \")\n",
        "  return { palabra:len(palabra) for palabra in lista_palabras }\n",
        "\n",
        "contador(frase)"
      ]
    },
    {
      "cell_type": "markdown",
      "metadata": {
        "id": "XqdJ5ch8bf_8"
      },
      "source": [
        "# Ejercicio 6"
      ]
    },
    {
      "cell_type": "markdown",
      "metadata": {
        "id": "AwS3v1wnbf_8"
      },
      "source": [
        "Escribir una función reciba una lista de notas y devuelva la lista de calificaciones correspondientes a esas notas."
      ]
    },
    {
      "cell_type": "code",
      "execution_count": 25,
      "metadata": {
        "id": "pHKwa2Iybf_9",
        "colab": {
          "base_uri": "https://localhost:8080/",
          "height": 35
        },
        "outputId": "294c5fcf-19fe-4785-82c0-588e312308be"
      },
      "outputs": [
        {
          "output_type": "execute_result",
          "data": {
            "text/plain": [
              "'Reprobado'"
            ],
            "application/vnd.google.colaboratory.intrinsic+json": {
              "type": "string"
            }
          },
          "metadata": {},
          "execution_count": 25
        }
      ],
      "source": [
        "def calificacion(nota):\n",
        "  if nota>7 or nota < 1:\n",
        "    return \"Nota fuera de rango\"\n",
        "  elif nota>=4:\n",
        "    return \"Aprobado\"\n",
        "  else:\n",
        "    return \"Reprobado\"\n",
        "\n",
        "calificacion(4)\n",
        "calificacion(3)"
      ]
    },
    {
      "cell_type": "markdown",
      "metadata": {
        "id": "ZMnFRK3ebf_9"
      },
      "source": [
        "# Ejercicio 7"
      ]
    },
    {
      "cell_type": "markdown",
      "metadata": {
        "id": "QbEsCBnNbf_9"
      },
      "source": [
        "Escribir una función reciba un diccionario con las asignaturas y las notas de un alumno y devuelva otro diccionario con las asignaturas en mayúsculas y las calificaciones correspondientes a las notas."
      ]
    },
    {
      "cell_type": "code",
      "execution_count": 26,
      "metadata": {
        "id": "Qh2638JUbf_9",
        "colab": {
          "base_uri": "https://localhost:8080/"
        },
        "outputId": "f538725e-a87f-403a-ca4d-7b926311ad8a"
      },
      "outputs": [
        {
          "output_type": "stream",
          "name": "stdout",
          "text": [
            "Notas:  {'Lenguaje': 3.4, 'Historia': 4, 'Matemática': 4.5, 'Ciencias Sociales': 3.9}\n",
            "Calificaciones:  {'LENGUAJE': 'Reprobado', 'HISTORIA': 'Aprobado', 'MATEMÁTICA': 'Aprobado', 'CIENCIAS SOCIALES': 'Reprobado'}\n"
          ]
        }
      ],
      "source": [
        "def calificar_dic(dic):\n",
        "  dic2 = {}\n",
        "  for asig in dic:\n",
        "    nota = dic[asig]\n",
        "    resultado = \"\"\n",
        "    if nota > 7 or nota < 1:\n",
        "      resultado = \"Nota fuera de rango\"\n",
        "    elif nota>=4:\n",
        "      resultado = \"Aprobado\"\n",
        "    else:\n",
        "      resultado = \"Reprobado\"\n",
        "    dic2.update({asig.upper(): resultado})\n",
        "  #print(\"Calificaciones: \",dic2)\n",
        "  return dic2\n",
        "\n",
        "\n",
        "notas = {\"Lenguaje\" : 3.4, \"Historia\" : 4, \"Matemática\" : 4.5 , \"Ciencias Sociales\" : 3.9}\n",
        "print (\"Notas: \",notas)\n",
        "print(\"Calificaciones: \",calificar_dic(notas))"
      ]
    },
    {
      "cell_type": "markdown",
      "metadata": {
        "id": "r3-6z6C1bf_-"
      },
      "source": [
        "# Ejercicio 8"
      ]
    },
    {
      "cell_type": "markdown",
      "metadata": {
        "id": "5sC0qpwsbf_-"
      },
      "source": [
        "Escribir una función reciba un diccionario con las asignaturas y las notas de un alumno y devuelva otro diccionario con las asignaturas en mayúsculas y las calificaciones correspondientes a las notas aprobadas."
      ]
    },
    {
      "cell_type": "code",
      "execution_count": 30,
      "metadata": {
        "id": "qfonzPlgbf_-",
        "colab": {
          "base_uri": "https://localhost:8080/"
        },
        "outputId": "a29d507e-837e-4060-926d-b278bf0458d3"
      },
      "outputs": [
        {
          "output_type": "stream",
          "name": "stdout",
          "text": [
            "Notas:  {'Lenguaje': 3.4, 'Historia': 4, 'Matemática': 4.5, 'Ciencias Sociales': 3.9}\n",
            "Calificaciones:  {'HISTORIA': 'Aprobado', 'MATEMÁTICA': 'Aprobado'}\n"
          ]
        }
      ],
      "source": [
        "def calificar_dic(dic):\n",
        "  dic2 = {}\n",
        "  for asig in dic:\n",
        "    nota = dic[asig]\n",
        "    resultado = \"\"\n",
        "    if nota > 7 or nota < 4:\n",
        "      resultado = nota\n",
        "    elif nota>=4:\n",
        "      resultado = \"Aprobado\"\n",
        "    else:\n",
        "      resultado = nota\n",
        "    if resultado == \"Aprobado\":\n",
        "      dic2.update({asig.upper(): resultado})\n",
        "  #print(\"Calificaciones: \",dic2)\n",
        "  return dic2\n",
        "\n",
        "\n",
        "notas = {\"Lenguaje\" : 3.4, \"Historia\" : 4, \"Matemática\" : 4.5 , \"Ciencias Sociales\" : 3.9}\n",
        "print (\"Notas: \",notas)\n",
        "print(\"Calificaciones: \",calificar_dic(notas))"
      ]
    },
    {
      "cell_type": "markdown",
      "metadata": {
        "id": "fI6Vo5rLbf_-"
      },
      "source": [
        "# Ejercicio 9"
      ]
    },
    {
      "cell_type": "markdown",
      "metadata": {
        "id": "pQF6chmsbf_-"
      },
      "source": [
        "Escribir una función que calcule el módulo de un vector."
      ]
    },
    {
      "cell_type": "code",
      "execution_count": null,
      "metadata": {
        "id": "4GVcQRDUbf_-"
      },
      "outputs": [],
      "source": [
        "import math\n",
        "\n",
        "def calc_mod(x,y,z=0):\n",
        "  suma = x**2 + y**2 + z**2\n",
        "  mod = math.sqrt(suma)\n",
        "  return mod\n",
        "\n",
        "print(calc_mod(2,2,2))\n"
      ]
    },
    {
      "cell_type": "markdown",
      "metadata": {
        "id": "kft1M9z5bf_-"
      },
      "source": [
        "# Ejercicio 10"
      ]
    },
    {
      "cell_type": "markdown",
      "metadata": {
        "id": "HYLW5PeEbf__"
      },
      "source": [
        "Una inmobiliaria de una ciudad maneja una lista de inmuebles como la siguiente:\n",
        "\n",
        "<pre><code class=\"language-python\">[{'año': 2000, 'metros': 100, 'habitaciones': 3, 'garaje': True, 'zona': 'A'},\n",
        "{'año': 2012, 'metros': 60, 'habitaciones': 2, 'garaje': True, 'zona': 'B'},\n",
        "{'año': 1980, 'metros': 120, 'habitaciones': 4, 'garaje': False, 'zona': 'A'},\n",
        "{'año': 2005, 'metros': 75, 'habitaciones': 3, 'garaje': True, 'zona': 'B'},\n",
        "{'año': 2015, 'metros': 90, 'habitaciones': 2, 'garaje': False, 'zona': 'A'}]\n",
        "</code></pre>\n",
        "\n",
        "Construir una función que permita hacer búsqueda de inmuebles en función de un presupuesto dado. La función recibirá como entrada la lista de inmuebles y un precio, y devolverá otra lista con los inmuebles cuyo precio sea menor o igual que el dado. Los inmuebles de la lista que se devuelva deben incorporar un nuevo par a cada diccionario con el precio del inmueble, donde el precio de un inmueble se calcula con las siguiente fórmula en función de la zona:\n",
        "\n",
        "<ul>\n",
        "<li>Zona A: precio = (metros * 1000 + habitaciones * 5000 + garaje * 15000) * (1-antiguedad/100)</li>\n",
        "<li>Zona B: precio = (metros * 1000 + habitaciones * 5000 + garaje * 15000) * (1-antiguedad/100) * 1.5</li>\n",
        "</ul>"
      ]
    },
    {
      "cell_type": "code",
      "execution_count": 34,
      "metadata": {
        "id": "kc3R2LTHbf__",
        "colab": {
          "base_uri": "https://localhost:8080/"
        },
        "outputId": "2da7d4f2-f4dc-448f-8131-03e10d504922"
      },
      "outputs": [
        {
          "name": "stdout",
          "output_type": "stream",
          "text": [
            "Ingrese su presupuesto: 100000\n"
          ]
        },
        {
          "output_type": "execute_result",
          "data": {
            "text/plain": [
              "[{'año': 1980,\n",
              "  'garaje': False,\n",
              "  'habitaciones': 4,\n",
              "  'metros': 120,\n",
              "  'precio': 81200.00000000001,\n",
              "  'zona': 'A'},\n",
              " {'año': 2015,\n",
              "  'garaje': False,\n",
              "  'habitaciones': 2,\n",
              "  'metros': 90,\n",
              "  'precio': 93000.0,\n",
              "  'zona': 'A'}]"
            ]
          },
          "metadata": {},
          "execution_count": 34
        }
      ],
      "source": [
        "lista = [{'año': 2000, 'metros': 100, 'habitaciones': 3, 'garaje': True, 'zona': 'A'},\n",
        "{'año': 2012, 'metros': 60, 'habitaciones': 2, 'garaje': True, 'zona': 'B'},\n",
        "{'año': 1980, 'metros': 120, 'habitaciones': 4, 'garaje': False, 'zona': 'A'},\n",
        "{'año': 2005, 'metros': 75, 'habitaciones': 3, 'garaje': True, 'zona': 'B'},\n",
        "{'año': 2015, 'metros': 90, 'habitaciones': 2, 'garaje': False, 'zona': 'A'}]\n",
        "\n",
        "# Función recibirá como entrada la lista de inmuebles y un precio\n",
        "def presupuestador(presupuesto, inmuebles):\n",
        "  en_presup = []\n",
        "  for x in inmuebles:\n",
        "    precio = 0\n",
        "    precio += x['metros']*1000\n",
        "    precio += x['habitaciones']*5000\n",
        "    if x['garaje']==True:\n",
        "      precio += 15000\n",
        "    antiguedad = 2022 - x['año']\n",
        "    precio *= (1-antiguedad/100)\n",
        "    \n",
        "    if x['zona'] == \"B\":\n",
        "      precio *= 1.5\n",
        "    x.update({'precio':precio})\n",
        "    if precio<=presupuesto:\n",
        "      en_presup.append(x)\n",
        "  return en_presup\n",
        "\n",
        "presupuesto=float(input(\"Ingrese su presupuesto: \"))\n",
        "presupuestador(presupuesto,lista)"
      ]
    },
    {
      "cell_type": "markdown",
      "metadata": {
        "id": "rnppJ7ptbf__"
      },
      "source": [
        "# Ejercicio 11"
      ]
    },
    {
      "cell_type": "markdown",
      "metadata": {
        "id": "R0CJCVA3bgAA"
      },
      "source": [
        "Escribir una función que reciba una muestra de números y devuelva los valores atípicos, es decir, los valores cuya puntuación típica sea mayor que 3 o menor que -3. \n",
        "\n",
        "**Nota**: La puntuación típica de un valor se obtiene restando la media y dividiendo por la desviación típica de la muestra."
      ]
    },
    {
      "cell_type": "code",
      "execution_count": 10,
      "metadata": {
        "colab": {
          "base_uri": "https://localhost:8080/",
          "height": 0
        },
        "id": "StBfdNVWbgAA",
        "outputId": "b2f23e91-afa6-4ecf-8b73-1638078ba543"
      },
      "outputs": [
        {
          "output_type": "stream",
          "name": "stdout",
          "text": [
            "[4335]\n"
          ]
        }
      ],
      "source": [
        "from statistics import mean, stdev\n",
        "\n",
        "muestra = [1, 67, 6, 4, 4335, 6, 7, 89, 9, 10, 121, 13, 15, 1020]\n",
        "\n",
        "def calcular_atipicos(m):\n",
        "    media = mean(m)\n",
        "    desviacion = stdev(m)\n",
        "    def f(n):\n",
        "        puntuacion = (n - media) / desviacion\n",
        "        return (puntuacion < -3) or (puntuacion > 3)\n",
        "    return f\n",
        "\n",
        "def recibir(m):\n",
        "    return list(filter(calcular_atipicos(m), m))\n",
        "\n",
        "\n",
        "print(recibir(muestra))\n"
      ]
    }
  ],
  "metadata": {
    "kernelspec": {
      "display_name": "Python 3",
      "language": "python",
      "name": "python3"
    },
    "language_info": {
      "codemirror_mode": {
        "name": "ipython",
        "version": 3
      },
      "file_extension": ".py",
      "mimetype": "text/x-python",
      "name": "python",
      "nbconvert_exporter": "python",
      "pygments_lexer": "ipython3",
      "version": "3.6.9"
    },
    "colab": {
      "name": "Ejercitación 2.2 - Programacion-Funcional.ipynb",
      "provenance": []
    },
    "widgets": {
      "application/vnd.jupyter.widget-state+json": {
        "47140e0e945640e0b49b945259f71e20": {
          "model_module": "@jupyter-widgets/controls",
          "model_name": "VBoxModel",
          "model_module_version": "1.5.0",
          "state": {
            "_dom_classes": [
              "widget-interact"
            ],
            "_model_module": "@jupyter-widgets/controls",
            "_model_module_version": "1.5.0",
            "_model_name": "VBoxModel",
            "_view_count": null,
            "_view_module": "@jupyter-widgets/controls",
            "_view_module_version": "1.5.0",
            "_view_name": "VBoxView",
            "box_style": "",
            "children": [
              "IPY_MODEL_5483676187fa4054ad9d11e00cc4fb33",
              "IPY_MODEL_c8c9e89f2e584d76947a6583961b9ad5"
            ],
            "layout": "IPY_MODEL_dcd544be33d648f1a72ab7a20c055417"
          }
        },
        "5483676187fa4054ad9d11e00cc4fb33": {
          "model_module": "@jupyter-widgets/controls",
          "model_name": "DropdownModel",
          "model_module_version": "1.5.0",
          "state": {
            "_dom_classes": [],
            "_model_module": "@jupyter-widgets/controls",
            "_model_module_version": "1.5.0",
            "_model_name": "DropdownModel",
            "_options_labels": [
              "sin",
              "cos",
              "tan",
              "exp",
              "ln"
            ],
            "_view_count": null,
            "_view_module": "@jupyter-widgets/controls",
            "_view_module_version": "1.5.0",
            "_view_name": "DropdownView",
            "description": "¿Que operacion?:\n",
            "description_tooltip": null,
            "disabled": false,
            "index": 1,
            "layout": "IPY_MODEL_22b7b5145e1240f0938db9406ea14901",
            "style": "IPY_MODEL_268f0886b2c84912b04c522e5fc9e157"
          }
        },
        "c8c9e89f2e584d76947a6583961b9ad5": {
          "model_module": "@jupyter-widgets/output",
          "model_name": "OutputModel",
          "model_module_version": "1.0.0",
          "state": {
            "_dom_classes": [],
            "_model_module": "@jupyter-widgets/output",
            "_model_module_version": "1.0.0",
            "_model_name": "OutputModel",
            "_view_count": null,
            "_view_module": "@jupyter-widgets/output",
            "_view_module_version": "1.0.0",
            "_view_name": "OutputView",
            "layout": "IPY_MODEL_9c1bfabd1ba944cb934dc7a8a1dacf12",
            "msg_id": "",
            "outputs": [
              {
                "output_type": "display_data",
                "data": {
                  "text/plain": "-0.6536436208636119"
                },
                "metadata": {}
              }
            ]
          }
        },
        "dcd544be33d648f1a72ab7a20c055417": {
          "model_module": "@jupyter-widgets/base",
          "model_name": "LayoutModel",
          "model_module_version": "1.2.0",
          "state": {
            "_model_module": "@jupyter-widgets/base",
            "_model_module_version": "1.2.0",
            "_model_name": "LayoutModel",
            "_view_count": null,
            "_view_module": "@jupyter-widgets/base",
            "_view_module_version": "1.2.0",
            "_view_name": "LayoutView",
            "align_content": null,
            "align_items": null,
            "align_self": null,
            "border": null,
            "bottom": null,
            "display": null,
            "flex": null,
            "flex_flow": null,
            "grid_area": null,
            "grid_auto_columns": null,
            "grid_auto_flow": null,
            "grid_auto_rows": null,
            "grid_column": null,
            "grid_gap": null,
            "grid_row": null,
            "grid_template_areas": null,
            "grid_template_columns": null,
            "grid_template_rows": null,
            "height": null,
            "justify_content": null,
            "justify_items": null,
            "left": null,
            "margin": null,
            "max_height": null,
            "max_width": null,
            "min_height": null,
            "min_width": null,
            "object_fit": null,
            "object_position": null,
            "order": null,
            "overflow": null,
            "overflow_x": null,
            "overflow_y": null,
            "padding": null,
            "right": null,
            "top": null,
            "visibility": null,
            "width": null
          }
        },
        "22b7b5145e1240f0938db9406ea14901": {
          "model_module": "@jupyter-widgets/base",
          "model_name": "LayoutModel",
          "model_module_version": "1.2.0",
          "state": {
            "_model_module": "@jupyter-widgets/base",
            "_model_module_version": "1.2.0",
            "_model_name": "LayoutModel",
            "_view_count": null,
            "_view_module": "@jupyter-widgets/base",
            "_view_module_version": "1.2.0",
            "_view_name": "LayoutView",
            "align_content": null,
            "align_items": null,
            "align_self": null,
            "border": null,
            "bottom": null,
            "display": null,
            "flex": null,
            "flex_flow": null,
            "grid_area": null,
            "grid_auto_columns": null,
            "grid_auto_flow": null,
            "grid_auto_rows": null,
            "grid_column": null,
            "grid_gap": null,
            "grid_row": null,
            "grid_template_areas": null,
            "grid_template_columns": null,
            "grid_template_rows": null,
            "height": null,
            "justify_content": null,
            "justify_items": null,
            "left": null,
            "margin": null,
            "max_height": null,
            "max_width": null,
            "min_height": null,
            "min_width": null,
            "object_fit": null,
            "object_position": null,
            "order": null,
            "overflow": null,
            "overflow_x": null,
            "overflow_y": null,
            "padding": null,
            "right": null,
            "top": null,
            "visibility": null,
            "width": null
          }
        },
        "268f0886b2c84912b04c522e5fc9e157": {
          "model_module": "@jupyter-widgets/controls",
          "model_name": "DescriptionStyleModel",
          "model_module_version": "1.5.0",
          "state": {
            "_model_module": "@jupyter-widgets/controls",
            "_model_module_version": "1.5.0",
            "_model_name": "DescriptionStyleModel",
            "_view_count": null,
            "_view_module": "@jupyter-widgets/base",
            "_view_module_version": "1.2.0",
            "_view_name": "StyleView",
            "description_width": ""
          }
        },
        "9c1bfabd1ba944cb934dc7a8a1dacf12": {
          "model_module": "@jupyter-widgets/base",
          "model_name": "LayoutModel",
          "model_module_version": "1.2.0",
          "state": {
            "_model_module": "@jupyter-widgets/base",
            "_model_module_version": "1.2.0",
            "_model_name": "LayoutModel",
            "_view_count": null,
            "_view_module": "@jupyter-widgets/base",
            "_view_module_version": "1.2.0",
            "_view_name": "LayoutView",
            "align_content": null,
            "align_items": null,
            "align_self": null,
            "border": null,
            "bottom": null,
            "display": null,
            "flex": null,
            "flex_flow": null,
            "grid_area": null,
            "grid_auto_columns": null,
            "grid_auto_flow": null,
            "grid_auto_rows": null,
            "grid_column": null,
            "grid_gap": null,
            "grid_row": null,
            "grid_template_areas": null,
            "grid_template_columns": null,
            "grid_template_rows": null,
            "height": null,
            "justify_content": null,
            "justify_items": null,
            "left": null,
            "margin": null,
            "max_height": null,
            "max_width": null,
            "min_height": null,
            "min_width": null,
            "object_fit": null,
            "object_position": null,
            "order": null,
            "overflow": null,
            "overflow_x": null,
            "overflow_y": null,
            "padding": null,
            "right": null,
            "top": null,
            "visibility": null,
            "width": null
          }
        }
      }
    }
  },
  "nbformat": 4,
  "nbformat_minor": 0
}