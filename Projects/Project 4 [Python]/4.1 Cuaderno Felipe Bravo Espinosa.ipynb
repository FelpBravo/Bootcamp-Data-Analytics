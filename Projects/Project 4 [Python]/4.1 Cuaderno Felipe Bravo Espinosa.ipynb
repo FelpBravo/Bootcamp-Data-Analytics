{
  "cells": [
    {
      "cell_type": "markdown",
      "metadata": {
        "id": "VecZSnjjD5tY"
      },
      "source": [
        "# Ejercicios de Archivos"
      ]
    },
    {
      "cell_type": "markdown",
      "metadata": {
        "id": "B32U77J0D5ta"
      },
      "source": [
        "## Ejercicio 1"
      ]
    },
    {
      "cell_type": "markdown",
      "metadata": {
        "id": "uwmwqsILD5ta"
      },
      "source": [
        "Escribir una función que pida un número entero entre 1 y 10 y guarde en un archivo con el nombre <font color=#B40431>tabla-n.txt</font> la tabla de multiplicar de ese número, donde <font color=#B40431>n</font> es el número introducido."
      ]
    },
    {
      "cell_type": "code",
      "execution_count": null,
      "metadata": {
        "colab": {
          "base_uri": "https://localhost:8080/"
        },
        "id": "yH-zMpRaD5tb",
        "outputId": "c690d7fd-24ae-47e0-8ad0-d46cb603c69f"
      },
      "outputs": [
        {
          "output_type": "stream",
          "name": "stdout",
          "text": [
            "Ingrese un numero entre 1 y 10 : 12\n",
            "Error, debe ingresar un numero entra 1 y 10 !!\n",
            "Ingrese un numero entre 1 y 10 : 5\n",
            "5 x 1 = 5 \n",
            "5 x 2 = 10 \n",
            "5 x 3 = 15 \n",
            "5 x 4 = 20 \n",
            "5 x 5 = 25 \n",
            "5 x 6 = 30 \n",
            "5 x 7 = 35 \n",
            "5 x 8 = 40 \n",
            "5 x 9 = 45 \n",
            "5 x 10 = 50 \n",
            "\n"
          ]
        }
      ],
      "source": [
        "def tabla_multiplicar(n):\n",
        "  t= []\n",
        "  for m in range(10):\n",
        "    m+=1\n",
        "    t.append(f'{n} x {m} = {n*m} \\n')\n",
        "  return t\n",
        "\n",
        "def ingresar():\n",
        "  v = False\n",
        "  while not v:\n",
        "    n = int(input(\"Ingrese un numero entre 1 y 10 : \"))\n",
        "    condition = 10 > n  and n > 1\n",
        "    if not condition:\n",
        "      print(\"Error, debe ingresar un numero entra 1 y 10 !!\")\n",
        "    else:\n",
        "      v = True\n",
        "      return n\n",
        "\n",
        "def guardar_txt(n, array):\n",
        "  archivo = open(f'tabla-{n}.txt', 'w')\n",
        "  for a in array:\n",
        "    archivo.write(a)\n",
        "  archivo.close()\n",
        "  \n",
        "  l = open(f'tabla-{n}.txt','r')\n",
        "  print(l.read())\n",
        "\n",
        "n = ingresar()\n",
        "tbl = tabla_multiplicar(n)\n",
        "txt = guardar_txt(n, tbl)\n",
        "\n"
      ]
    },
    {
      "cell_type": "markdown",
      "metadata": {
        "id": "oTZUcJtFD5tb"
      },
      "source": [
        "## Ejercicio 2"
      ]
    },
    {
      "cell_type": "markdown",
      "metadata": {
        "id": "4KVjfDNYD5tc"
      },
      "source": [
        "Escribir una función que pida un número entero entre 1 y 10, lea el archivo <font color=#B40431>tabla-n.txt</font> con la tabla de multiplicar de ese número, donde <font color=#B40431>n</font> es el número introducido, y la muestre por pantalla. Si el fichero no existe debe mostrar un mensaje por pantalla informando de ello."
      ]
    },
    {
      "cell_type": "code",
      "execution_count": null,
      "metadata": {
        "id": "BMP0egOiD5tc",
        "colab": {
          "base_uri": "https://localhost:8080/"
        },
        "outputId": "38121996-630e-4c9a-adb3-941bf11aa52a"
      },
      "outputs": [
        {
          "output_type": "stream",
          "name": "stdout",
          "text": [
            "Ingrese un numero entre 1 y 10 : 213213\n",
            "Error, debe ingresar un numero entra 1 y 10 !!\n",
            "Ingrese un numero entre 1 y 10 : 2\n",
            "No existe el archivo tabla-2.txt\n"
          ]
        }
      ],
      "source": [
        "def ingresar():\n",
        "  v = False\n",
        "  while not v:\n",
        "    try:\n",
        "      n = int(input(\"Ingrese un numero entre 1 y 10 : \"))\n",
        "      condition = 10 > n  and n > 1\n",
        "      if not condition:\n",
        "        print(\"Error, debe ingresar un numero entra 1 y 10 !!\")\n",
        "      else:\n",
        "        v = True\n",
        "        return n\n",
        "    except ValueError:\n",
        "      print('Ingrese un nombre valido')\n",
        "\n",
        "def leer_txt(n, array):\n",
        "  try:\n",
        "    name = f'tabla-{n}.txt'\n",
        "    archivo = open(name, 'r')\n",
        "  except FileNotFoundError:\n",
        "    print('No existe el archivo ' + name)\n",
        "  else:\n",
        "    print(archivo.read())\n",
        "\n",
        "n = ingresar()\n",
        "tbl = tabla_multiplicar(n)\n",
        "txt = leer_txt(n, tbl)"
      ]
    },
    {
      "cell_type": "markdown",
      "metadata": {
        "id": "6F4pmxPOD5td"
      },
      "source": [
        "## Ejercicio 3"
      ]
    },
    {
      "cell_type": "markdown",
      "metadata": {
        "id": "DWe42mGXD5td"
      },
      "source": [
        "Escribir una función que pida dos números <font color=#B40431>n</font> y <font color=#B40431>m</font> entre 1 y 10, lea el archivo <font color=#B40431>tabla-n.txt</font> con la tabla de multiplicar de ese número, y muestre por pantalla la línea <font color=#B40431>m</font> del archivo. Si el archivo no existe debe mostrar un mensaje por pantalla informando de ello."
      ]
    },
    {
      "cell_type": "code",
      "execution_count": null,
      "metadata": {
        "id": "Tg6inCptD5te"
      },
      "outputs": [],
      "source": [
        "def tabla_multiplicar(n):\n",
        "  t= []\n",
        "  for m in range(10):\n",
        "    m+=1\n",
        "    t.append(f'{n} x {m} = {n*m} \\n')\n",
        "  return t\n",
        "\n",
        "def ingresar():\n",
        "  v = False\n",
        "  while not v:\n",
        "    try:\n",
        "      n = int(input(\"Ingrese un numero entre 1 y 10 : \"))\n",
        "      condition = 10 > n  and n > 1\n",
        "      if not condition:\n",
        "        print(\"Error, debe ingresar un numero entra 1 y 10 !!\")\n",
        "      else:\n",
        "        v = True\n",
        "        return n\n",
        "    except ValueError:\n",
        "      print('Ingrese un nombre valido')\n",
        "      \n",
        "def guardar_txt(n, array):\n",
        "  archivo = open(f'tabla-{n}.txt', 'w')\n",
        "  for a in array:\n",
        "    archivo.write(a)\n",
        "  archivo.close()\n",
        "\n",
        "def leer_txt(n, m):\n",
        "  archivo = f'tabla-{n}.txt'\n",
        "  try: \n",
        "    a = open(archivo, 'r')\n",
        "  except FileNotFoundError:\n",
        "      print('El archivo no existe en la tabla del numero ', n)\n",
        "  else:\n",
        "      linea = a.readlines()\n",
        "      print(linea[m - 1])\n",
        "\n",
        "n = ingresar()\n",
        "tbl = tabla_multiplicar(n)\n",
        "txt = guardar_txt(n, tbl)\n",
        "print(\"########## Ingrese el N y luego el M ###########\")\n",
        "n1 = ingresar()\n",
        "m1 = ingresar()\n",
        "\n",
        "leer_txt(n1,m1)"
      ]
    },
    {
      "cell_type": "markdown",
      "metadata": {
        "id": "ypYcLMjhD5te"
      },
      "source": [
        "## Ejercicio 4"
      ]
    },
    {
      "cell_type": "markdown",
      "metadata": {
        "id": "DG0Hy5InD5te"
      },
      "source": [
        "Escribir un programa que acceda a un archivo de Internet mediante su url y muestre por pantalla el número de palabras que contiene."
      ]
    },
    {
      "cell_type": "code",
      "execution_count": null,
      "metadata": {
        "id": "0r5-3CNyD5te",
        "colab": {
          "base_uri": "https://localhost:8080/"
        },
        "outputId": "df21788d-1437-434e-cc65-fcd07748f5d9"
      },
      "outputs": [
        {
          "output_type": "stream",
          "name": "stdout",
          "text": [
            "La url https://www.google.rl no fue posible encontrarla\n",
            "1771\n"
          ]
        }
      ],
      "source": [
        "def archivo(url):\n",
        "    from urllib import request\n",
        "    from urllib.error import URLError\n",
        "    try:\n",
        "        file = request.urlopen(url)\n",
        "    except URLError:\n",
        "        return(f'La url {url} no fue posible encontrarla')\n",
        "    else:\n",
        "        content = file.read()\n",
        "        return len(content.split())\n",
        "\n",
        "print(archivo('https://www.google.rl'))\n",
        "print(archivo('https://www.gutenberg.org/files/2/2.txt'))"
      ]
    },
    {
      "cell_type": "markdown",
      "metadata": {
        "id": "3blk7Go1D5tf"
      },
      "source": [
        "## Ejercicio 5"
      ]
    },
    {
      "cell_type": "markdown",
      "metadata": {
        "id": "MsGdQWmCD5tf"
      },
      "source": [
        "Escribir un programa que abra el <a href=\"https://ec.europa.eu/eurostat/estat-navtree-portlet-prod/BulkDownloadListing?file=data/sdg_08_10.tsv.gz&amp;unzip=true\">archivo con información</a> sobre el PBI per cápita de los países de la Unión Europea, pregunte por las iniciales de un país y muestre el PBI per cápita de ese país de todos los años disponibles."
      ]
    },
    {
      "cell_type": "code",
      "execution_count": null,
      "metadata": {
        "id": "xL15mB0LD5tf",
        "colab": {
          "base_uri": "https://localhost:8080/"
        },
        "outputId": "518fa53f-33b5-483b-a1be-65971c113e39"
      },
      "outputs": [
        {
          "output_type": "stream",
          "name": "stdout",
          "text": [
            "Ingresa el código de un país: asdasd\n",
            "Error el codigo no existe!\n"
          ]
        }
      ],
      "source": [
        "from urllib import request\n",
        "from urllib.error import URLError\n",
        "\n",
        "def validar_codigo(c):\n",
        "  codigos = [\"AT\", \"BE\", \"BG\", \"CH\", \"CY\", \"CZ\", \"DE\", \"DK\", \"EA19\", \"EE\", \"EL\", \"ES\", \"EU27\", \"EU28\", \"FI\", \"FR\", \"HR\", \"HU\", \"IE\", \"IS\", \"IT\", \"LT\"]\n",
        "  pais = c.upper()\n",
        "  if c.upper() in codigos:\n",
        "    url ='https://ec.europa.eu/eurostat/estat-navtree-portlet-prod/BulkDownloadListing?file=data/sdg_08_10.tsv.gz&unzip=true'\n",
        "    print('Producto Interior Bruto per cápita de', pais)\n",
        "    print('Año', '\\t', 'PIB')\n",
        "    for año, pib in pbi(url,pais).items():\n",
        "        print(año, '\\t', pib)\n",
        "  else:\n",
        "    print(\"Error el codigo no existe!\")\n",
        "\n",
        "def pbi(url, pais):\n",
        "     \n",
        "    try:\n",
        "        f = request.urlopen(url)\n",
        "    except URLError:\n",
        "        return(\"Url ingresada no existe ({})\".format(url))\n",
        "    else:\n",
        "        \n",
        "\n",
        "          data = f.read().decode('utf-8').split('\\n')  \n",
        "          data = [i.split('\\t') for i in data]  \n",
        "          data = [list(map(str.strip, i)) for i in data]  \n",
        "          for i in data:\n",
        "              i[0] = i[0].split(',')[-1]  \n",
        "          data[0][0] = 'years'\n",
        "          data = {i[0]:i[1:] for i in data}\n",
        "          result = {data['years'][i]:data[pais][i] for i in range(len(data['years']))}\n",
        "          return result\n",
        "      \n",
        "\n",
        "pais = input('Ingresa el código de un país: ')\n",
        "validar_codigo(pais)\n"
      ]
    },
    {
      "cell_type": "markdown",
      "metadata": {
        "id": "tPaSYiILD5tf"
      },
      "source": [
        "## Ejercicio 6"
      ]
    },
    {
      "cell_type": "markdown",
      "metadata": {
        "id": "MVDrC97HD5tf"
      },
      "source": [
        "Escribir un programa para gestionar un listado telefónico con los nombres y los teléfonos de los clientes de una empresa. El programa debe tener funciones para crear el archivo con el listado si no existe, para consultar el teléfono de un cliente, añadir el teléfono de un nuevo cliente y eliminar el teléfono de un cliente. El listado debe estar guardado en el archivo de texto <font color=#B40431>listado.txt</font> donde el nombre del cliente y su teléfono deben aparecer separados por comas y cada cliente en una línea distinta."
      ]
    },
    {
      "cell_type": "code",
      "execution_count": null,
      "metadata": {
        "id": "Z3khfuqgD5tg",
        "colab": {
          "base_uri": "https://localhost:8080/"
        },
        "outputId": "06c2ef48-2e2f-4589-f7d9-28321167a0b9"
      },
      "outputs": [
        {
          "output_type": "stream",
          "name": "stdout",
          "text": [
            "\n",
            "  ############Opciones##############\n",
            "  1: Consultar si existe el archivo\n",
            "  2: Añadir teléfono de un cliente\n",
            "  3: Consultar teléfono de un cliente\n",
            "  4: Eliminar teléfono de un cliente\n",
            "  ##################################\n",
            "  \n"
          ]
        }
      ],
      "source": [
        "file_name = \"listado.txt\"\n",
        "\n",
        "def ingresar_opcion():\n",
        "  print('''\n",
        "  ############Opciones##############\n",
        "  1: Consultar si existe el archivo\n",
        "  2: Añadir teléfono de un cliente\n",
        "  3: Consultar teléfono de un cliente\n",
        "  4: Eliminar teléfono de un cliente\n",
        "  ##################################\n",
        "  ''')\n",
        "  v = False\n",
        "  while not v:\n",
        "    option = int(input(\"Ingresar una opción: \"))\n",
        "    condition = 5 > option  and option > 0\n",
        "    if not condition:\n",
        "      print(\"Error, debe ingresar una de las opciones de la tabla!!\")\n",
        "    else:\n",
        "      v = True\n",
        "  return direccionar(option)\n",
        "\n",
        "def direccionar(op):\n",
        "  if op == 1:\n",
        "    validar_archivo()\n",
        "  elif op == 2:\n",
        "    agregar_telefono()\n",
        "  elif op == 3:\n",
        "    consultar_telefono()\n",
        "  elif op == 4:\n",
        "    eliminar_telefono()\n",
        "\n",
        "def agregar_telefono():\n",
        "  nom = input('Ingrese nombre del cliente : ')\n",
        "  tel = input('Ingrese telefono del cliente : ')\n",
        "  try: \n",
        "    txt = open(file_name, 'a')\n",
        "  except FileNotFoundError:\n",
        "    print('No se encuentra el archivo.')\n",
        "  else:\n",
        "    txt.write(nom + ',' + tel + '\\n')\n",
        "    txt.close()\n",
        "    return print('El teléfono fue ingresado correctamente.')\n",
        "\n",
        "\n",
        "def consultar_telefono():\n",
        "    nom = input('Ingrese nombre del cliente : ')\n",
        "    try: \n",
        "        txt = open(file_name, 'r')\n",
        "    except FileNotFoundError:\n",
        "        print('No se encuentra el archivo.')\n",
        "    else:\n",
        "        t = txt.readlines()\n",
        "        txt.close()\n",
        "        t = dict([tuple(i.split(',')) for i in t])\n",
        "        if nom in t:\n",
        "            print('El telefono de ' + nom + ' es ' + t[nom]) \n",
        "        else:\n",
        "            print('No existe el cliente ' + nom)\n",
        "\n",
        "def eliminar_telefono():\n",
        "    nom = input('Ingrese el nombre del cliente que desea eliminar : ')\n",
        "    try: \n",
        "        txt = open(file_name, 'r')\n",
        "    except FileNotFoundError:\n",
        "        print('No se encuentra el archivo.')\n",
        "    else:\n",
        "        t = txt.readlines()\n",
        "        txt.close()\n",
        "        t = dict([tuple(i.split(',')) for i in t])\n",
        "        if nom in t:\n",
        "            del t[nom]\n",
        "            new_t = open(file_name, 'w')\n",
        "            for key, value in t.items():\n",
        "                new_t.write(key + ',' + value)\n",
        "            new_t.close()\n",
        "            print('El cliente ' + nom  + ' fue eliminado exitosamente')\n",
        "        else:\n",
        "            print('El cliente ' + nom  + ' no se encuentra')\n",
        "    \n",
        "def validar_archivo():\n",
        "  try: \n",
        "    open(file_name)\n",
        "    print(\"El archivo existe\")\n",
        "  except FileNotFoundError:\n",
        "    print(\"El archivo no existe\")\n",
        "    print(\"----Creando archivo-----\")\n",
        "    file = open(file_name, \"w\")\n",
        "    print(f'######Se creo el archivo con el nombre {file_name} #######')\n",
        "\n",
        "ingresar_opcion()"
      ]
    },
    {
      "cell_type": "markdown",
      "metadata": {
        "id": "0sYBuYnTD5tg"
      },
      "source": [
        "## Ejercicio 7"
      ]
    },
    {
      "cell_type": "markdown",
      "metadata": {
        "id": "afYi76IqD5tg"
      },
      "source": [
        "El archivo <a href=\"https://drive.google.com/file/d/1V06-QPe36PIIMq0z6Nm8_02mHB1KX_Cu/view?usp=sharing\"> cotizacion.csv </a> contiene las cotizaciones de las empresas del IBEX35 con las siguientes columnas: <font color=#B40431>Nombre</font> (nombre de la empresa), <font color=#B40431>Final</font> (precio de la acción al cierre de bolsa), <font color=#B40431>Máximo</font> (precio máximo de la acción durante la jornada), <font color=#B40431>Mínimo</font> (precio mínimo de la acción durante la jornada), <font color=#B40431>Volumen</font> (Volumen al cierre de bolsa), <font color=#B40431>Efectivo</font> (capitalización al cierre en miles de euros).\n",
        "<ol>\n",
        "<li>\n",
        "<p>Construir una función reciba el archivo de cotizaciones y devuelva un diccionario con los datos del archivo por columnas.</p>\n",
        "</li>\n",
        "<li>\n",
        "<p>Construir una función que reciba el diccionario devuelto por la función anterior y cree un archivo en formato csv con el mínimo, el máximo y la media de dada columna.</p>\n",
        "</li>\n",
        "</ol>"
      ]
    },
    {
      "cell_type": "code",
      "execution_count": null,
      "metadata": {
        "id": "LYydWJD-D5tg",
        "colab": {
          "base_uri": "https://localhost:8080/"
        },
        "outputId": "e1a379f6-52b4-4faa-eaa9-3f28313398fa"
      },
      "outputs": [
        {
          "output_type": "stream",
          "name": "stdout",
          "text": [
            "Mínimo;1.0165;4.0675;1.0165;1221.0;2343.09\n",
            "\n",
            "Máximo;19705.0;19875.0;19675.0;36129692.0;145765.44\n",
            "\n",
            "Media;2796.7687571428573;3170.1133571428572;3136.510471428572;4252278.514285714;31767.778000000006\n",
            "\n"
          ]
        }
      ],
      "source": [
        "def limpiar(cifra):\n",
        "\n",
        "    cifra = cifra.replace('.', '')\n",
        "    cifra = cifra.replace(',','.')\n",
        "    return float(cifra) \n",
        "\n",
        "def preprocesado(ruta):\n",
        "\n",
        "    try:\n",
        "        f = open(ruta, 'r')\n",
        "        #print (\"El fichero si existe.\")\n",
        "    except FileNotFoundError:\n",
        "        print('El fichero no existe.')\n",
        "        return\n",
        "\n",
        "    lineas = f.readlines()\n",
        "    f.close()\n",
        "    claves = lineas[0]\n",
        "    claves = claves[:-1].split(';')\n",
        "    cotizaciones = {}\n",
        "    for i in claves:\n",
        "        cotizaciones[i] = []\n",
        "    for linea in lineas[1:]:\n",
        "        linea = linea[:-1].split(';')\n",
        "        cotizaciones[claves[0]].append(linea[0])\n",
        "        for i in range(1, len(cotizaciones)):\n",
        "            cotizaciones[claves[i]].append(limpiar(linea[i]))\n",
        "    return cotizaciones\n",
        "\n",
        "\n",
        "def resumen_cotizacion(cotizaciones, ruta):\n",
        "    try:\n",
        "        del (cotizaciones['Nombre'])\n",
        "        f = open(ruta, 'w')\n",
        "        f.write('Nombre')\n",
        "        for clave in cotizaciones.keys():\n",
        "            f.write(';' + clave)\n",
        "        f.write('\\nMínimo')\n",
        "        for valores in cotizaciones.values():\n",
        "            f.write(';' + str(min(valores)))\n",
        "        f.write('\\nMáximo')\n",
        "        for valores in cotizaciones.values():\n",
        "            f.write(';' + str(max(valores)))\n",
        "        f.write('\\nMedia')\n",
        "        for valores in cotizaciones.values():\n",
        "            f.write(';' + str(sum(valores) / len(valores)))\n",
        "        f.close()\n",
        "        return\n",
        "    except FileNotFoundError as f:\n",
        "      print(\"El fichero no existe.\" +  str(f))\n",
        "    except TypeError as t:\n",
        "      print(\"Error de tipo.\" + str(t))\n",
        "\n",
        "cotizaciones = preprocesado('cotizacion.csv')\n",
        "resumen_cotizacion(cotizaciones, 'resumen-cotizacion.csv')\n",
        "\n",
        "try:\n",
        "  archivo_creado = open('resumen-cotizacion.csv')\n",
        "  linea_c=archivo_creado.readline()\n",
        "  while linea_c != '':\n",
        "      linea_c=archivo_creado.readline()\n",
        "      print(linea_c)\n",
        "except FileNotFoundError as f:\n",
        "      print(\"El fichero no existe.\" + str(f))\n",
        "      "
      ]
    },
    {
      "cell_type": "markdown",
      "metadata": {
        "id": "t0iF5on_D5th"
      },
      "source": [
        "## Ejercicio 8"
      ]
    },
    {
      "cell_type": "markdown",
      "metadata": {
        "id": "1qgOBlRsD5th"
      },
      "source": [
        "El archivo <a href=\"https://drive.google.com/file/d/1jmWkkmpRb-7OmTjiIWFLgjY15MyMBenL/view?usp=sharing\"> calificaciones.csv </a>  contiene las calificaciones de un curso. Durante el curso se realizaron dos exámenes parciales de teoría y un examen de prácticas. Los alumnos que tuvieron menos de 4 en alguno de estos exámenes pudieron repetirlo al final del curso (convocatoria ordinaria). Escribir un programa que contenga las siguientes funciones:\n",
        "<ol>\n",
        "<li>\n",
        "<p>Una función que reciba el archivo de calificaciones y devuelva una lista de diccionarios, donde cada diccionario contiene la información de los exámenes y la asistencia de un alumno. La lista tiene que estar ordenada por apellidos.</p>\n",
        "</li>\n",
        "<li>\n",
        "<p>Una función que reciba una lista de diccionarios como la que devuelve la función anterior y añada a cada diccionario un nuevo par con la nota final del curso. El peso de cada parcial de teoría en la nota final es de un 30% mientras que el peso del examen de prácticas es de un 40%.</p>\n",
        "</li>\n",
        "<li>\n",
        "<p>Una función que reciba una lista de diccionarios como la que devuelve la función anterior y devuelva dos listas, una con los alumnos aprobados y otra con los alumnos suspensos. Para aprobar el curso, la asistencia tiene que ser mayor o igual que el 75%, la nota de los exámenes parciales y de prácticas mayor o igual que 4 y la nota final mayor o igual que 5.</p>\n",
        "</li>\n",
        "</ol>"
      ]
    },
    {
      "cell_type": "code",
      "execution_count": 5,
      "metadata": {
        "id": "142xcWh9D5th",
        "colab": {
          "base_uri": "https://localhost:8080/"
        },
        "outputId": "995996c7-e38b-4ba0-8c2f-752c85dd748c"
      },
      "outputs": [
        {
          "output_type": "stream",
          "name": "stdout",
          "text": [
            "[{'Apellidos': 'Anido Bonet', 'Nombre': 'David', 'Asistencia': '90%', 'Parcial1': '5,5', 'Parcial2': '2,75', 'Ordinario1': '', 'Ordinario2': '5', 'Practicas': '', 'OrdinarioPracticas': '', 'Final1': 5.5, 'Final2': 5.0, 'FinalPracticas': 0, 'NotaFinal': 3.15}, {'Apellidos': 'Bueno Cerdeira', 'Nombre': 'Patricia', 'Asistencia': '95%', 'Parcial1': '9,5', 'Parcial2': '9', 'Ordinario1': '', 'Ordinario2': '', 'Practicas': '6,25', 'OrdinarioPracticas': '', 'Final1': 9.5, 'Final2': 9.0, 'FinalPracticas': 6.25, 'NotaFinal': 8.05}, {'Apellidos': 'Casariego García', 'Nombre': 'Raúl', 'Asistencia': '98%', 'Parcial1': '4,25', 'Parcial2': '5,75', 'Ordinario1': '', 'Ordinario2': '', 'Practicas': '4', 'OrdinarioPracticas': '5', 'Final1': 4.25, 'Final2': 5.75, 'FinalPracticas': 5.0, 'NotaFinal': 5.0}, {'Apellidos': 'Curbelo Sánchez', 'Nombre': 'Jorge', 'Asistencia': '75%', 'Parcial1': '6,75', 'Parcial2': '4,25', 'Ordinario1': '', 'Ordinario2': '', 'Practicas': '', 'OrdinarioPracticas': '6,5', 'Final1': 6.75, 'Final2': 4.25, 'FinalPracticas': 6.5, 'NotaFinal': 5.9}, {'Apellidos': 'Díaz Souto', 'Nombre': 'Sofía', 'Asistencia': '82%', 'Parcial1': '7', 'Parcial2': '6,5', 'Ordinario1': '', 'Ordinario2': '', 'Practicas': '9', 'OrdinarioPracticas': '', 'Final1': 7.0, 'Final2': 6.5, 'FinalPracticas': 9.0, 'NotaFinal': 7.65}, {'Apellidos': 'García Perez', 'Nombre': 'Yaiza', 'Asistencia': '85%', 'Parcial1': '10', 'Parcial2': '8', 'Ordinario1': '', 'Ordinario2': '', 'Practicas': '7,5', 'OrdinarioPracticas': '', 'Final1': 10.0, 'Final2': 8.0, 'FinalPracticas': 7.5, 'NotaFinal': 8.4}, {'Apellidos': 'Sánchez Jordán', 'Nombre': 'María', 'Asistencia': '92%', 'Parcial1': '8,75', 'Parcial2': '9', 'Ordinario1': '', 'Ordinario2': '', 'Practicas': '6,5', 'OrdinarioPracticas': '', 'Final1': 8.75, 'Final2': 9.0, 'FinalPracticas': 6.5, 'NotaFinal': 7.924999999999999}, {'Apellidos': 'Lorenzo García', 'Nombre': 'Jaime', 'Asistencia': '100%', 'Parcial1': '9,75', 'Parcial2': '8,25', 'Ordinario1': '', 'Ordinario2': '', 'Practicas': '7,5', 'OrdinarioPracticas': '', 'Final1': 9.75, 'Final2': 8.25, 'FinalPracticas': 7.5, 'NotaFinal': 8.4}, {'Apellidos': 'Martínez Lucas', 'Nombre': 'Cecilia', 'Asistencia': '86%', 'Parcial1': '7', 'Parcial2': '4', 'Ordinario1': '', 'Ordinario2': '', 'Practicas': '6,25', 'OrdinarioPracticas': '', 'Final1': 7.0, 'Final2': 4.0, 'FinalPracticas': 6.25, 'NotaFinal': 5.8}, {'Apellidos': 'Mora Peñaloza', 'Nombre': 'Sandra', 'Asistencia': '70%', 'Parcial1': '5,25', 'Parcial2': '2', 'Ordinario1': '', 'Ordinario2': '4', 'Practicas': '6,5', 'OrdinarioPracticas': '', 'Final1': 5.25, 'Final2': 4.0, 'FinalPracticas': 6.5, 'NotaFinal': 5.375}, {'Apellidos': 'Morillo Escudero', 'Nombre': 'Ana', 'Asistencia': '100%', 'Parcial1': '9,5', 'Parcial2': '10', 'Ordinario1': '', 'Ordinario2': '', 'Practicas': '8,75', 'OrdinarioPracticas': '', 'Final1': 9.5, 'Final2': 10.0, 'FinalPracticas': 8.75, 'NotaFinal': 9.35}, {'Apellidos': 'Muñoz Gómez', 'Nombre': 'Carolina', 'Asistencia': '94%', 'Parcial1': '7,75', 'Parcial2': '6,5', 'Ordinario1': '', 'Ordinario2': '', 'Practicas': '4', 'OrdinarioPracticas': '', 'Final1': 7.75, 'Final2': 6.5, 'FinalPracticas': 4.0, 'NotaFinal': 5.875}, {'Apellidos': 'Ramirez de la Puente', 'Nombre': 'Raquel', 'Asistencia': '75%', 'Parcial1': '0', 'Parcial2': '1', 'Ordinario1': '1', 'Ordinario2': '2,75', 'Practicas': '2,25', 'OrdinarioPracticas': '3,25', 'Final1': 1.0, 'Final2': 2.75, 'FinalPracticas': 3.25, 'NotaFinal': 2.425}, {'Apellidos': 'Riego Pizarro', 'Nombre': 'Carlos', 'Asistencia': '75%', 'Parcial1': '4', 'Parcial2': '2,5', 'Ordinario1': '5', 'Ordinario2': '3,75', 'Practicas': '', 'OrdinarioPracticas': '', 'Final1': 5.0, 'Final2': 3.75, 'FinalPracticas': 0, 'NotaFinal': 2.625}, {'Apellidos': 'Rodríguez de Blas', 'Nombre': 'Ignacio', 'Asistencia': '80%', 'Parcial1': '8,25', 'Parcial2': '5,25', 'Ordinario1': '', 'Ordinario2': '', 'Practicas': '6,5', 'OrdinarioPracticas': '', 'Final1': 8.25, 'Final2': 5.25, 'FinalPracticas': 6.5, 'NotaFinal': 6.65}, {'Apellidos': 'Moreno Angulo', 'Nombre': 'Antonio', 'Asistencia': '88%', 'Parcial1': '9', 'Parcial2': '6,75', 'Ordinario1': '', 'Ordinario2': '', 'Practicas': '5,25', 'OrdinarioPracticas': '', 'Final1': 9.0, 'Final2': 6.75, 'FinalPracticas': 5.25, 'NotaFinal': 6.824999999999999}]\n",
            "Archivo no encontrado\n"
          ]
        }
      ],
      "source": [
        "def nota(cifra):\n",
        "   \n",
        "    cifra = cifra.replace(',','.')\n",
        "    return float(cifra) \n",
        "\n",
        "def calificaciones(ruta):\n",
        "    \n",
        "    try:       \n",
        "        f = open(ruta, 'r')\n",
        "    except FileNotFoundError:\n",
        "        #print('El fichero no existe.')\n",
        "        calificaciones=\"error\"\n",
        "        return(\"error\")\n",
        "    else:\n",
        "      lineas = f.readlines()\n",
        "      \n",
        "      f.close()\n",
        "      \n",
        "      claves = lineas[0][:-1].split(\";\")\n",
        "      \n",
        "      calificaciones = []\n",
        "      \n",
        "      for i in lineas[1:]:\n",
        "          \n",
        "          valores = i[:-1].split(\";\")\n",
        "          \n",
        "          alumno = {}\n",
        "          \n",
        "          for j in range(len(valores)):\n",
        "              alumno[claves[j]] = valores[j]\n",
        "          \n",
        "          calificaciones.append(alumno)\n",
        "      return calificaciones\n",
        "\n",
        "def añadir_nota_final(calificaciones):\n",
        "     if calificaciones==\"error\": \n",
        "       return\n",
        "     else:\n",
        "      def nota_final(alumno):\n",
        "          \n",
        "          if alumno['Ordinario1']: \n",
        "              parcial1 = nota(alumno['Ordinario1'])\n",
        "          elif alumno['Parcial1']:\n",
        "              parcial1 = nota(alumno['Parcial1'])\n",
        "          else: \n",
        "              parcial1 = 0\n",
        "          if alumno['Ordinario2']: \n",
        "              parcial2 = nota(alumno['Ordinario2'])\n",
        "          elif alumno['Parcial2']:\n",
        "              parcial2 = nota(alumno['Parcial2'])\n",
        "          else: \n",
        "              parcial2 = 0 \n",
        "          if alumno['OrdinarioPracticas']: \n",
        "              practicas = nota(alumno['OrdinarioPracticas'])\n",
        "          elif alumno['Practicas']:\n",
        "              practicas = nota(alumno['Practicas'])\n",
        "          else:\n",
        "              practicas = 0\n",
        "          alumno['Final1'] = parcial1\n",
        "          alumno['Final2'] = parcial2\n",
        "          alumno['FinalPracticas'] = practicas\n",
        "          alumno['NotaFinal'] = parcial1 * 0.3 + parcial2 * 0.3 + practicas * 0.4\n",
        "          return alumno\n",
        "\n",
        "      \n",
        "      return list(map(nota_final, calificaciones))\n",
        "\n",
        "def aprobados_suspensos(calificaciones):\n",
        "    \n",
        "    aprobados = []\n",
        "    suspensos = []\n",
        "   \n",
        "    for alumno in calificaciones:\n",
        "        \n",
        "        if all([int(alumno['Asistencia'][:-1]) >= 75, alumno['Final1'] >= 4, alumno['Final2'] >=4, alumno['FinalPracticas'] >=4, alumno['NotaFinal'] >= 5]):\n",
        "            aprobados.append(alumno['Apellidos'] + ', ' + alumno['Nombre'])\n",
        "        else:\n",
        "            suspensos.append(alumno['Apellidos'] + ', ' + alumno['Nombre'])\n",
        "    return aprobados, suspensos\n",
        "\n",
        "\n",
        "print(añadir_nota_final(calificaciones('calificaciones.csv')))\n",
        "if calificaciones('calificaciones.csv') == \"error\":\n",
        "  print(\"Archivo no encontrado\")\n",
        "else:\n",
        "  aprobados, suspensos = aprobados_suspensos(añadir_nota_final(calificaciones('calificaciones.csv')))\n",
        "  print('Lista de aprobados:', aprobados)\n",
        "  print('Lista de suspensos:', suspensos)"
      ]
    }
  ],
  "metadata": {
    "kernelspec": {
      "display_name": "Python 3",
      "language": "python",
      "name": "python3"
    },
    "language_info": {
      "codemirror_mode": {
        "name": "ipython",
        "version": 3
      },
      "file_extension": ".py",
      "mimetype": "text/x-python",
      "name": "python",
      "nbconvert_exporter": "python",
      "pygments_lexer": "ipython3",
      "version": "3.6.9"
    },
    "colab": {
      "name": "4.1 Cuaderno Felipe Bravo Espinosa.ipynb",
      "provenance": [],
      "collapsed_sections": []
    }
  },
  "nbformat": 4,
  "nbformat_minor": 0
}