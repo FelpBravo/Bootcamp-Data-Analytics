{
  "cells": [
    {
      "cell_type": "markdown",
      "metadata": {
        "id": "PthEvb51e3d1"
      },
      "source": [
        "# Ejercicios de Debugging"
      ]
    },
    {
      "cell_type": "markdown",
      "metadata": {
        "id": "nPta8chGe3d3"
      },
      "source": [
        "## Ejercicio 1"
      ]
    },
    {
      "cell_type": "markdown",
      "metadata": {
        "id": "HOb9dvELe3d3"
      },
      "source": [
        "Corregir los errores sintácticos del siguiente programa:"
      ]
    },
    {
      "cell_type": "code",
      "execution_count": 4,
      "metadata": {
        "colab": {
          "base_uri": "https://localhost:8080/"
        },
        "id": "FnCtNJHBe3d4",
        "outputId": "57b64214-dec7-4ef4-df98-d674fd4db07b"
      },
      "outputs": [
        {
          "output_type": "stream",
          "name": "stdout",
          "text": [
            "Introduce la contraseña: sesamo\n",
            "Pasa\n"
          ]
        }
      ],
      "source": [
        "contraseña = input(\"Introduce la contraseña: \")\n",
        "if contraseña in ('sesamo'):\n",
        "  print('Pasa')\n",
        "else:\n",
        "  print('No pasa')"
      ]
    },
    {
      "cell_type": "code",
      "execution_count": null,
      "metadata": {
        "id": "Jeb_dauye3d5"
      },
      "outputs": [],
      "source": [
        ""
      ]
    },
    {
      "cell_type": "markdown",
      "metadata": {
        "id": "u9YDQrCwe3d6"
      },
      "source": [
        "## Ejercicio 2"
      ]
    },
    {
      "cell_type": "markdown",
      "metadata": {
        "id": "ceBkitmve3d6"
      },
      "source": [
        "Detectar y corregir los errores del siguiente programa que aplica el iva a una factura:"
      ]
    },
    {
      "cell_type": "code",
      "execution_count": 12,
      "metadata": {
        "colab": {
          "base_uri": "https://localhost:8080/"
        },
        "id": "axiTrK8xe3d7",
        "outputId": "fd01838f-d215-40b1-c9ed-9e802cbb2874"
      },
      "outputs": [
        {
          "output_type": "stream",
          "name": "stdout",
          "text": [
            "Introduce la base imponible de la factura: 32\n",
            "Introduce la iva de la factura: 4\n",
            "33.28\n"
          ]
        }
      ],
      "source": [
        "try:\n",
        "  base = int(input('Introduce la base imponible de la factura: '))\n",
        "  iva = int(input('Introduce la iva de la factura: '))\n",
        "\n",
        "  def aplica_iva(base, iva = 21):\n",
        "      base = base*(iva/100+1)  \n",
        "      return base\n",
        "  print(round(aplica_iva(base, iva),3))\n",
        "except KeyboardInterrupt as k:\n",
        "  print(f'Error \"{k}\", solo se permiten ingresar numeros enteros')\n",
        "except ValueError as v:\n",
        "  print(f'Error \"{v}\", solo se permiten ingresar numeros enteros')\n"
      ]
    },
    {
      "cell_type": "code",
      "execution_count": null,
      "metadata": {
        "id": "wIn43xSWe3d7"
      },
      "outputs": [],
      "source": [
        ""
      ]
    },
    {
      "cell_type": "markdown",
      "metadata": {
        "id": "CW8ay7dpe3d8"
      },
      "source": [
        "## Ejercicio 3"
      ]
    },
    {
      "cell_type": "markdown",
      "metadata": {
        "id": "GW9zBn9je3d9"
      },
      "source": [
        "Detectar y corregir los errores del siguiente programa que calcula el producto escalar de dos vectores:"
      ]
    },
    {
      "cell_type": "code",
      "execution_count": 13,
      "metadata": {
        "colab": {
          "base_uri": "https://localhost:8080/"
        },
        "id": "CGQ0hsrde3d9",
        "outputId": "148ebacc-eeb1-4208-ec2c-4bc5315d6ccf"
      },
      "outputs": [
        {
          "output_type": "stream",
          "name": "stdout",
          "text": [
            "32\n"
          ]
        }
      ],
      "source": [
        "u = [1, 2, 3]\n",
        "v = [4, 5, 6]\n",
        "\n",
        "def producto_escalar(u, v):\n",
        "    for i in range(len(u)):\n",
        "        u[i] *= v[i]\n",
        "    return sum(u)\n",
        "\n",
        "print(producto_escalar(u, v))"
      ]
    },
    {
      "cell_type": "code",
      "execution_count": null,
      "metadata": {
        "id": "WAovR3eZe3d-"
      },
      "outputs": [],
      "source": [
        ""
      ]
    },
    {
      "cell_type": "markdown",
      "metadata": {
        "id": "lEVBEwyAe3d-"
      },
      "source": [
        "## Ejercicio 4"
      ]
    },
    {
      "cell_type": "markdown",
      "metadata": {
        "id": "DiY8aQNJe3d_"
      },
      "source": [
        "Detectar y corregir los errores del siguiente programa que devuelve y elimina el teléfono de un listado telefónico a través del nombre del usuario:"
      ]
    },
    {
      "cell_type": "code",
      "execution_count": 15,
      "metadata": {
        "colab": {
          "base_uri": "https://localhost:8080/"
        },
        "id": "4Z5-XNlpe3d_",
        "outputId": "0e81a812-13ca-4ae9-8c6c-bc4a0c9ea1a1"
      },
      "outputs": [
        {
          "output_type": "stream",
          "name": "stdout",
          "text": [
            "\n"
          ]
        }
      ],
      "source": [
        "listado = {'Juan':123456789, 'Pedro':987654321}\n",
        "\n",
        "def elimina(listin, usuario):\n",
        "    return listin.pop(usuario, '')\n",
        "\n",
        "print(elimina(listado, 'Pablo'))"
      ]
    },
    {
      "cell_type": "code",
      "execution_count": null,
      "metadata": {
        "id": "uEYrSJNRe3d_"
      },
      "outputs": [],
      "source": [
        ""
      ]
    },
    {
      "cell_type": "markdown",
      "metadata": {
        "id": "C3rbNRlwe3eA"
      },
      "source": [
        "## Ejercicio 5"
      ]
    },
    {
      "cell_type": "markdown",
      "metadata": {
        "id": "8-lZzZupe3eA"
      },
      "source": [
        "Detectar y corregir los errores del siguiente programa que multiplica dos matrices:"
      ]
    },
    {
      "cell_type": "code",
      "execution_count": 17,
      "metadata": {
        "colab": {
          "base_uri": "https://localhost:8080/"
        },
        "id": "TdS0Qc3Ke3eA",
        "outputId": "4834344f-b7ff-4832-b833-7c8f78d7c54c"
      },
      "outputs": [
        {
          "output_type": "stream",
          "name": "stdout",
          "text": [
            "((22, 28), (14, 20))\n"
          ]
        }
      ],
      "source": [
        "a = ((1, 2, 3),\n",
        "     (3, 2, 1))\n",
        "b = ((1, 2),\n",
        "     (3, 4),\n",
        "     (5, 6))\n",
        "\n",
        "def producto(a, b):\n",
        "    producto = []\n",
        "    for i in range(len(a)):\n",
        "        fila = [] \n",
        "        for j in range(len(b[0])):\n",
        "            suma = 0\n",
        "            for k in range(len(a[0])):\n",
        "                suma += a[i][k] * b[k][j]\n",
        "            fila.append(suma)\n",
        "        producto.append(tuple(fila))\n",
        "    return tuple(producto)\n",
        "\n",
        "print(producto(a, b))"
      ]
    }
  ],
  "metadata": {
    "kernelspec": {
      "display_name": "Python 3",
      "language": "python",
      "name": "python3"
    },
    "language_info": {
      "codemirror_mode": {
        "name": "ipython",
        "version": 3
      },
      "file_extension": ".py",
      "mimetype": "text/x-python",
      "name": "python",
      "nbconvert_exporter": "python",
      "pygments_lexer": "ipython3",
      "version": "3.6.9"
    },
    "colab": {
      "name": "Ejercitacion_4_3_Debugging (1).ipynb",
      "provenance": [],
      "collapsed_sections": []
    }
  },
  "nbformat": 4,
  "nbformat_minor": 0
}